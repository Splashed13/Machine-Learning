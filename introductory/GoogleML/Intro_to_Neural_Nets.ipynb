{
  "cells": [
    {
      "cell_type": "code",
      "execution_count": null,
      "metadata": {
        "cellView": "form",
        "id": "wDlWLbfkJtvu"
      },
      "outputs": [],
      "source": [
        "#@title Copyright 2020 Google LLC. Double-click here for license information.\n",
        "# Licensed under the Apache License, Version 2.0 (the \"License\");\n",
        "# you may not use this file except in compliance with the License.\n",
        "# You may obtain a copy of the License at\n",
        "#\n",
        "# https://www.apache.org/licenses/LICENSE-2.0\n",
        "#\n",
        "# Unless required by applicable law or agreed to in writing, software\n",
        "# distributed under the License is distributed on an \"AS IS\" BASIS,\n",
        "# WITHOUT WARRANTIES OR CONDITIONS OF ANY KIND, either express or implied.\n",
        "# See the License for the specific language governing permissions and\n",
        "# limitations under the License."
      ]
    },
    {
      "cell_type": "markdown",
      "metadata": {
        "id": "T4r2z30vJSbA"
      },
      "source": [
        "# Colabs\n",
        "\n",
        "Machine Learning Crash Course uses Colaboratories (Colabs) for all programming exercises. Colab is Google's implementation of [Jupyter Notebook](https://jupyter.org/). For more information about Colabs and how to use them, go to [Welcome to Colaboratory](https://research.google.com/colaboratory)."
      ]
    },
    {
      "cell_type": "markdown",
      "metadata": {
        "id": "TL5y5fY9Jy_x"
      },
      "source": [
        "# Introduction to Neural Nets\n",
        "\n",
        "This Colab builds a deep neural network to perform more sophisticated linear regression than the earlier Colabs."
      ]
    },
    {
      "cell_type": "markdown",
      "metadata": {
        "id": "7RDY3EeAluPd"
      },
      "source": [
        "## Learning Objectives:\n",
        "\n",
        "After doing this Colab, you'll know how to do the following:\n",
        "\n",
        "  * Create a simple deep neural network.\n",
        "  * Tune the hyperparameters for a simple deep neural network."
      ]
    },
    {
      "cell_type": "markdown",
      "metadata": {
        "id": "XGj0PNaJlubZ"
      },
      "source": [
        "## The Dataset\n",
        "  \n",
        "Like several of the previous Colabs, this Colab uses the [California Housing Dataset](https://developers.google.com/machine-learning/crash-course/california-housing-data-description)."
      ]
    },
    {
      "cell_type": "markdown",
      "metadata": {
        "id": "xchnxAsaKKqO"
      },
      "source": [
        "## Import relevant modules\n",
        "\n",
        "The following hidden code cell imports the necessary code to run the code in the rest of this Colaboratory."
      ]
    },
    {
      "cell_type": "code",
      "execution_count": 1,
      "metadata": {
        "id": "9n9_cTveKmse"
      },
      "outputs": [
        {
          "name": "stdout",
          "output_type": "stream",
          "text": [
            "Imported modules.\n"
          ]
        }
      ],
      "source": [
        "#@title Import relevant modules\n",
        "import numpy as np\n",
        "import pandas as pd\n",
        "import tensorflow as tf\n",
        "from matplotlib import pyplot as plt\n",
        "import seaborn as sns\n",
        "\n",
        "# The following lines adjust the granularity of reporting. \n",
        "pd.options.display.max_rows = 10\n",
        "pd.options.display.float_format = \"{:.1f}\".format\n",
        "\n",
        "print(\"Imported modules.\")"
      ]
    },
    {
      "cell_type": "markdown",
      "metadata": {
        "id": "X_TaJhU4KcuY"
      },
      "source": [
        "## Load the dataset\n",
        "\n",
        "Like most of the previous Colab exercises, this exercise uses the California Housing Dataset.  The following code cell loads the separate .csv files and creates the following two pandas DataFrames:\n",
        "\n",
        "* `train_df`, which contains the training set\n",
        "* `test_df`, which contains the test set\n",
        "   "
      ]
    },
    {
      "cell_type": "code",
      "execution_count": 2,
      "metadata": {
        "id": "JZlvdpyYKx7V"
      },
      "outputs": [],
      "source": [
        "train_df = pd.read_csv(\"https://download.mlcc.google.com/mledu-datasets/california_housing_train.csv\")\n",
        "train_df = train_df.reindex(np.random.permutation(train_df.index)) # shuffle the examples\n",
        "test_df = pd.read_csv(\"https://download.mlcc.google.com/mledu-datasets/california_housing_test.csv\")"
      ]
    },
    {
      "cell_type": "markdown",
      "metadata": {
        "id": "8ldP-5z1B2vL"
      },
      "source": [
        "## Normalize values\n",
        "\n",
        "When building a model with multiple features, the values of each feature should cover roughly the same range.  The following code cell normalizes datasets by converting each raw value to its Z-score. (For more information about Z-scores, see the Classification exercise.)"
      ]
    },
    {
      "cell_type": "code",
      "execution_count": 3,
      "metadata": {
        "cellView": "form",
        "id": "g8HC-TDgB1D1"
      },
      "outputs": [
        {
          "name": "stdout",
          "output_type": "stream",
          "text": [
            "Normalized the values.\n"
          ]
        }
      ],
      "source": [
        "#@title Convert raw values to their Z-scores \n",
        "\n",
        "# Calculate the Z-scores of each column in the training set:\n",
        "train_df_mean = train_df.mean()\n",
        "train_df_std = train_df.std()\n",
        "train_df_norm = (train_df - train_df_mean)/train_df_std\n",
        "\n",
        "# Calculate the Z-scores of each column in the test set.\n",
        "test_df_mean = test_df.mean()\n",
        "test_df_std = test_df.std()\n",
        "test_df_norm = (test_df - test_df_mean)/test_df_std\n",
        "\n",
        "print(\"Normalized the values.\")"
      ]
    },
    {
      "cell_type": "markdown",
      "metadata": {
        "id": "b9ehCgIRjTxy"
      },
      "source": [
        "## Represent data\n",
        "\n",
        "The following code cell creates a feature layer containing three features:\n",
        "\n",
        "* `latitude` X `longitude` (a feature cross)\n",
        "* `median_income`\n",
        "* `population`\n",
        "\n",
        "This code cell specifies the features that you'll ultimately train the model on and how each of those features will be represented. The transformations (collected in `my_feature_layer`) don't actually get applied until you pass a DataFrame to it, which will happen when we train the model. "
      ]
    },
    {
      "cell_type": "code",
      "execution_count": 4,
      "metadata": {
        "id": "8EkNAQhnjSu-"
      },
      "outputs": [],
      "source": [
        "# Create an empty list that will eventually hold all created feature columns.\n",
        "feature_columns = []\n",
        "\n",
        "# We scaled all the columns, including latitude and longitude, into their\n",
        "# Z scores. So, instead of picking a resolution in degrees, we're going\n",
        "# to use resolution_in_Zs.  A resolution_in_Zs of 1 corresponds to \n",
        "# a full standard deviation. \n",
        "resolution_in_Zs = 0.3  # 3/10 of a standard deviation.\n",
        "\n",
        "# Create a bucket feature column for latitude.\n",
        "latitude_as_a_numeric_column = tf.feature_column.numeric_column(\"latitude\")\n",
        "latitude_boundaries = list(np.arange(int(min(train_df_norm['latitude'])), \n",
        "                                     int(max(train_df_norm['latitude'])), \n",
        "                                     resolution_in_Zs))\n",
        "latitude = tf.feature_column.bucketized_column(latitude_as_a_numeric_column, latitude_boundaries)\n",
        "\n",
        "# Create a bucket feature column for longitude.\n",
        "longitude_as_a_numeric_column = tf.feature_column.numeric_column(\"longitude\")\n",
        "longitude_boundaries = list(np.arange(int(min(train_df_norm['longitude'])), \n",
        "                                      int(max(train_df_norm['longitude'])), \n",
        "                                      resolution_in_Zs))\n",
        "longitude = tf.feature_column.bucketized_column(longitude_as_a_numeric_column, \n",
        "                                                longitude_boundaries)\n",
        "\n",
        "# Create a feature cross of latitude and longitude.\n",
        "latitude_x_longitude = tf.feature_column.crossed_column([latitude, longitude], hash_bucket_size=100)\n",
        "crossed_feature = tf.feature_column.indicator_column(latitude_x_longitude)\n",
        "feature_columns.append(crossed_feature)  \n",
        "\n",
        "# Represent median_income as a floating-point value.\n",
        "median_income = tf.feature_column.numeric_column(\"median_income\")\n",
        "feature_columns.append(median_income)\n",
        "\n",
        "# Represent population as a floating-point value.\n",
        "population = tf.feature_column.numeric_column(\"population\")\n",
        "feature_columns.append(population)\n",
        "\n",
        "# Convert the list of feature columns into a layer that will later be fed into\n",
        "# the model. \n",
        "# question: does this feature layer contain all the features from the original dataset?\n",
        "# answer: no, it contains only the features that we have chosen to use in our model which are the ones that we have created above\n",
        "my_feature_layer = tf.keras.layers.DenseFeatures(feature_columns)"
      ]
    },
    {
      "cell_type": "markdown",
      "metadata": {
        "id": "Ak_TMAzGOIFq"
      },
      "source": [
        "## Build a linear regression model as a baseline\n",
        "\n",
        "Before creating a deep neural net, find a [baseline](https://developers.google.com/machine-learning/glossary/#baseline) loss by running a simple linear regression model that uses the feature layer you just created. \n"
      ]
    },
    {
      "cell_type": "code",
      "execution_count": 5,
      "metadata": {
        "cellView": "form",
        "id": "QF0BFRXTOeR3"
      },
      "outputs": [
        {
          "name": "stdout",
          "output_type": "stream",
          "text": [
            "Defined the plot_the_loss_curve function.\n"
          ]
        }
      ],
      "source": [
        "#@title Define the plotting function.\n",
        "\n",
        "def plot_the_loss_curve(epochs, mse):\n",
        "  \"\"\"Plot a curve of loss vs. epoch.\"\"\"\n",
        "\n",
        "  plt.figure()\n",
        "  plt.xlabel(\"Epoch\")\n",
        "  plt.ylabel(\"Mean Squared Error\")\n",
        "\n",
        "  plt.plot(epochs, mse, label=\"Loss\")\n",
        "  plt.legend()\n",
        "  plt.ylim([mse.min()*0.95, mse.max() * 1.03])\n",
        "  plt.show()  \n",
        "\n",
        "print(\"Defined the plot_the_loss_curve function.\")"
      ]
    },
    {
      "cell_type": "code",
      "execution_count": 6,
      "metadata": {
        "cellView": "form",
        "id": "RW4Qe710LgnG"
      },
      "outputs": [
        {
          "name": "stdout",
          "output_type": "stream",
          "text": [
            "Defined the create_model and train_model functions.\n"
          ]
        }
      ],
      "source": [
        "#@title Define functions to create and train a linear regression model\n",
        "def create_model(my_learning_rate, feature_layer):\n",
        "  \"\"\"Create and compile a simple linear regression model.\"\"\"\n",
        "  # Most simple tf.keras models are sequential.\n",
        "  model = tf.keras.models.Sequential()\n",
        "\n",
        "  # Add the layer containing the feature columns to the model.\n",
        "  model.add(feature_layer)\n",
        "\n",
        "  # Add one linear layer to the model to yield a simple linear regressor.\n",
        "  model.add(tf.keras.layers.Dense(units=1, input_shape=(1,)))\n",
        "\n",
        "  # Construct the layers into a model that TensorFlow can execute.\n",
        "  model.compile(optimizer=tf.keras.optimizers.RMSprop(lr=my_learning_rate),\n",
        "                loss=\"mean_squared_error\",\n",
        "                metrics=[tf.keras.metrics.MeanSquaredError()])\n",
        "\n",
        "  return model           \n",
        "\n",
        "\n",
        "def train_model(model, dataset, epochs, batch_size, label_name):\n",
        "  \"\"\"Feed a dataset into the model in order to train it.\"\"\"\n",
        "\n",
        "  # Split the dataset into features and label.\n",
        "  features = {name:np.array(value) for name, value in dataset.items()}\n",
        "  label = np.array(features.pop(label_name))\n",
        "  history = model.fit(x=features, y=label, batch_size=batch_size,\n",
        "                      epochs=epochs, shuffle=True)\n",
        "\n",
        "  # Get details that will be useful for plotting the loss curve.\n",
        "  epochs = history.epoch\n",
        "  hist = pd.DataFrame(history.history)\n",
        "  rmse = hist[\"mean_squared_error\"]\n",
        "\n",
        "  return epochs, rmse   \n",
        "\n",
        "print(\"Defined the create_model and train_model functions.\")"
      ]
    },
    {
      "cell_type": "markdown",
      "metadata": {
        "id": "f47LmxF5X_pu"
      },
      "source": [
        "Run the following code cell to invoke the functions defined in the preceding two code cells. (Ignore the warning messages.)\n",
        "\n",
        "**Note:** Because we've scaled all the input data, **including the label**, the resulting loss values will be *much less* than previous models. \n",
        "\n",
        "**Note:** Depending on the version of TensorFlow, running this cell might generate WARNING messages. Please ignore these warnings. "
      ]
    },
    {
      "cell_type": "code",
      "execution_count": 7,
      "metadata": {
        "id": "tsfE4ujDL4ju"
      },
      "outputs": [
        {
          "name": "stdout",
          "output_type": "stream",
          "text": [
            "Epoch 1/15\n",
            "WARNING:tensorflow:Layers in a Sequential model should only have a single input tensor. Received: inputs={'longitude': <tf.Tensor 'IteratorGetNext:3' shape=(1000,) dtype=float32>, 'latitude': <tf.Tensor 'IteratorGetNext:2' shape=(1000,) dtype=float32>, 'housing_median_age': <tf.Tensor 'IteratorGetNext:1' shape=(1000,) dtype=float32>, 'total_rooms': <tf.Tensor 'IteratorGetNext:7' shape=(1000,) dtype=float32>, 'total_bedrooms': <tf.Tensor 'IteratorGetNext:6' shape=(1000,) dtype=float32>, 'population': <tf.Tensor 'IteratorGetNext:5' shape=(1000,) dtype=float32>, 'households': <tf.Tensor 'IteratorGetNext:0' shape=(1000,) dtype=float32>, 'median_income': <tf.Tensor 'IteratorGetNext:4' shape=(1000,) dtype=float32>}. Consider rewriting this model with the Functional API.\n"
          ]
        },
        {
          "name": "stderr",
          "output_type": "stream",
          "text": [
            "2022-09-19 00:10:20.257292: I tensorflow/core/platform/cpu_feature_guard.cc:193] This TensorFlow binary is optimized with oneAPI Deep Neural Network Library (oneDNN) to use the following CPU instructions in performance-critical operations:  SSE4.1 SSE4.2 AVX AVX2\n",
            "To enable them in other operations, rebuild TensorFlow with the appropriate compiler flags.\n",
            "2022-09-19 00:10:20.259400: I tensorflow/core/common_runtime/process_util.cc:146] Creating new thread pool with default inter op setting: 2. Tune using inter_op_parallelism_threads for best performance.\n",
            "/home/kaicsiro/.conda/envs/GoogleML/lib/python3.7/site-packages/keras/optimizers/optimizer_v2/rmsprop.py:135: UserWarning: The `lr` argument is deprecated, use `learning_rate` instead.\n",
            "  super(RMSprop, self).__init__(name, **kwargs)\n"
          ]
        },
        {
          "name": "stdout",
          "output_type": "stream",
          "text": [
            "WARNING:tensorflow:Layers in a Sequential model should only have a single input tensor. Received: inputs={'longitude': <tf.Tensor 'IteratorGetNext:3' shape=(1000,) dtype=float32>, 'latitude': <tf.Tensor 'IteratorGetNext:2' shape=(1000,) dtype=float32>, 'housing_median_age': <tf.Tensor 'IteratorGetNext:1' shape=(1000,) dtype=float32>, 'total_rooms': <tf.Tensor 'IteratorGetNext:7' shape=(1000,) dtype=float32>, 'total_bedrooms': <tf.Tensor 'IteratorGetNext:6' shape=(1000,) dtype=float32>, 'population': <tf.Tensor 'IteratorGetNext:5' shape=(1000,) dtype=float32>, 'households': <tf.Tensor 'IteratorGetNext:0' shape=(1000,) dtype=float32>, 'median_income': <tf.Tensor 'IteratorGetNext:4' shape=(1000,) dtype=float32>}. Consider rewriting this model with the Functional API.\n",
            "17/17 [==============================] - 1s 8ms/step - loss: 0.6802 - mean_squared_error: 0.6802\n",
            "Epoch 2/15\n",
            "17/17 [==============================] - 0s 7ms/step - loss: 0.4840 - mean_squared_error: 0.4840\n",
            "Epoch 3/15\n",
            "17/17 [==============================] - 0s 9ms/step - loss: 0.4069 - mean_squared_error: 0.4069\n",
            "Epoch 4/15\n",
            "17/17 [==============================] - 0s 10ms/step - loss: 0.3775 - mean_squared_error: 0.3775\n",
            "Epoch 5/15\n",
            "17/17 [==============================] - 0s 7ms/step - loss: 0.3677 - mean_squared_error: 0.3677\n",
            "Epoch 6/15\n",
            "17/17 [==============================] - 0s 12ms/step - loss: 0.3630 - mean_squared_error: 0.3630\n",
            "Epoch 7/15\n",
            "17/17 [==============================] - 0s 8ms/step - loss: 0.3609 - mean_squared_error: 0.3609\n",
            "Epoch 8/15\n",
            "17/17 [==============================] - 0s 9ms/step - loss: 0.3604 - mean_squared_error: 0.3604\n",
            "Epoch 9/15\n",
            "17/17 [==============================] - 0s 10ms/step - loss: 0.3600 - mean_squared_error: 0.3600\n",
            "Epoch 10/15\n",
            "17/17 [==============================] - 0s 10ms/step - loss: 0.3600 - mean_squared_error: 0.3600\n",
            "Epoch 11/15\n",
            "17/17 [==============================] - 0s 11ms/step - loss: 0.3598 - mean_squared_error: 0.3598\n",
            "Epoch 12/15\n",
            "17/17 [==============================] - 0s 10ms/step - loss: 0.3599 - mean_squared_error: 0.3599\n",
            "Epoch 13/15\n",
            "17/17 [==============================] - 0s 13ms/step - loss: 0.3598 - mean_squared_error: 0.3598\n",
            "Epoch 14/15\n",
            "17/17 [==============================] - 0s 10ms/step - loss: 0.3599 - mean_squared_error: 0.3599\n",
            "Epoch 15/15\n",
            "17/17 [==============================] - 0s 12ms/step - loss: 0.3599 - mean_squared_error: 0.3599\n"
          ]
        },
        {
          "data": {
            "image/png": "[encoded data removed]",
            "text/plain": [
              "<Figure size 640x480 with 1 Axes>"
            ]
          },
          "metadata": {},
          "output_type": "display_data"
        },
        {
          "name": "stdout",
          "output_type": "stream",
          "text": [
            "\n",
            " Evaluate the linear regression model against the test set:\n",
            "WARNING:tensorflow:Layers in a Sequential model should only have a single input tensor. Received: inputs={'longitude': <tf.Tensor 'IteratorGetNext:3' shape=(1000,) dtype=float32>, 'latitude': <tf.Tensor 'IteratorGetNext:2' shape=(1000,) dtype=float32>, 'housing_median_age': <tf.Tensor 'IteratorGetNext:1' shape=(1000,) dtype=float32>, 'total_rooms': <tf.Tensor 'IteratorGetNext:7' shape=(1000,) dtype=float32>, 'total_bedrooms': <tf.Tensor 'IteratorGetNext:6' shape=(1000,) dtype=float32>, 'population': <tf.Tensor 'IteratorGetNext:5' shape=(1000,) dtype=float32>, 'households': <tf.Tensor 'IteratorGetNext:0' shape=(1000,) dtype=float32>, 'median_income': <tf.Tensor 'IteratorGetNext:4' shape=(1000,) dtype=float32>}. Consider rewriting this model with the Functional API.\n",
            "3/3 [==============================] - 0s 11ms/step - loss: 0.3950 - mean_squared_error: 0.3950\n"
          ]
        },
        {
          "data": {
            "text/plain": [
              "[0.39498379826545715, 0.39498379826545715]"
            ]
          },
          "execution_count": 7,
          "metadata": {},
          "output_type": "execute_result"
        }
      ],
      "source": [
        "# The following variables are the hyperparameters.\n",
        "learning_rate = 0.01\n",
        "epochs = 15\n",
        "batch_size = 1000\n",
        "label_name = \"median_house_value\"\n",
        "\n",
        "# Establish the model's topography.\n",
        "my_model = create_model(learning_rate, my_feature_layer)\n",
        "\n",
        "# Train the model on the normalized training set.\n",
        "epochs, mse = train_model(my_model, train_df_norm, epochs, batch_size, label_name)\n",
        "plot_the_loss_curve(epochs, mse)\n",
        "\n",
        "test_features = {name:np.array(value) for name, value in test_df_norm.items()}\n",
        "test_label = np.array(test_features.pop(label_name)) # isolate the label\n",
        "print(\"\\n Evaluate the linear regression model against the test set:\")\n",
        "my_model.evaluate(x = test_features, y = test_label, batch_size=batch_size)"
      ]
    },
    {
      "cell_type": "markdown",
      "metadata": {
        "id": "3014ezH3C7jT"
      },
      "source": [
        "## Define a deep neural net model\n",
        "\n",
        "The `create_model` function defines the topography of the deep neural net, specifying the following:\n",
        "\n",
        "* The number of [layers](https://developers.google.com/machine-learning/glossary/#layer) in the deep neural net.\n",
        "* The number of [nodes](https://developers.google.com/machine-learning/glossary/#node) in each layer.\n",
        "\n",
        "The `create_model` function also defines the [activation function](https://developers.google.com/machine-learning/glossary/#activation_function) of each layer."
      ]
    },
    {
      "cell_type": "code",
      "execution_count": 9,
      "metadata": {
        "cellView": "both",
        "id": "pedD5GhlDC-y"
      },
      "outputs": [],
      "source": [
        "def create_model(my_learning_rate, my_feature_layer):\n",
        "  \"\"\"Create and compile a simple linear regression model.\"\"\"\n",
        "  # Most simple tf.keras models are sequential.\n",
        "  model = tf.keras.models.Sequential()\n",
        "\n",
        "  # Add the layer containing the feature columns to the model.\n",
        "  # the feature layer is the input layer of the model\n",
        "  # and is currently contains the feature columns\n",
        "  model.add(my_feature_layer)\n",
        "\n",
        "  # Describe the topography of the model by calling the tf.keras.layers.Dense\n",
        "  # method once for each layer. We've specified the following arguments:\n",
        "  #   * units specifies the number of nodes in this layer.\n",
        "  #   * activation specifies the activation function (Rectified Linear Unit).\n",
        "  #   * name is just a string that can be useful when debugging.\n",
        "\n",
        "  # Define the first hidden layer with 20 nodes.   \n",
        "  model.add(tf.keras.layers.Dense(units=20, \n",
        "                                  activation='relu', \n",
        "                                  name='Hidden1'))\n",
        "  \n",
        "  # Define the second hidden layer with 12 nodes. \n",
        "  model.add(tf.keras.layers.Dense(units=12, \n",
        "                                  activation='relu', \n",
        "                                  name='Hidden2'))\n",
        "  \n",
        "  # Define the output layer.\n",
        "  model.add(tf.keras.layers.Dense(units=1,  \n",
        "                                  name='Output'))                              \n",
        "  \n",
        "  model.compile(optimizer=tf.keras.optimizers.Adam(lr=my_learning_rate),\n",
        "                loss=\"mean_squared_error\",\n",
        "                metrics=[tf.keras.metrics.MeanSquaredError()])\n",
        "\n",
        "  return model"
      ]
    },
    {
      "cell_type": "markdown",
      "metadata": {
        "id": "anH4A_yCcZx2"
      },
      "source": [
        "## Define a training function\n",
        "\n",
        "The `train_model` function trains the model from the input features and labels. The [tf.keras.Model.fit](https://www.tensorflow.org/api_docs/python/tf/keras/Sequential#fit) method performs the actual training. The `x` parameter of the `fit` method is very flexible, enabling you to pass feature data in a variety of ways. The following implementation passes a Python dictionary in which:\n",
        "\n",
        "* The *keys* are the names of each feature (for example, `longitude`, `latitude`, and so on).\n",
        "* The *value* of each key is a NumPy array containing the values of that feature. \n",
        "\n",
        "**Note:** Although you are passing *every* feature to `model.fit`, most of those values will be ignored. Only the features accessed by `my_feature_layer` will actually be used to train the model."
      ]
    },
    {
      "cell_type": "code",
      "execution_count": 11,
      "metadata": {
        "id": "4jv_lJYTcrEF"
      },
      "outputs": [],
      "source": [
        "def train_model(model, dataset, epochs, label_name,\n",
        "                batch_size=None):\n",
        "  \"\"\"Train the model by feeding it data.\"\"\"\n",
        "\n",
        "  # Split the dataset into features and label.\n",
        "  # {name:np.array(value) for name, value in dataset.items()} is a dictionary containing the features\n",
        "  features = {name:np.array(value) for name, value in dataset.items()}\n",
        "  label = np.array(features.pop(label_name)) # isolate the label\n",
        "  # cross feature columns where defined in the previous function on the model object\n",
        "  # they are now stored in the feature layer of the model which is the input layer \n",
        "  # and the x=features being used as the input layer will have the cross feature columns appended to it\n",
        "  history = model.fit(x=features, y=label, batch_size=batch_size,\n",
        "                      epochs=epochs, shuffle=True) \n",
        "\n",
        "  # The list of epochs is stored separately from the rest of history.\n",
        "  epochs = history.epoch\n",
        "  \n",
        "  # To track the progression of training, gather a snapshot\n",
        "  # of the model's mean squared error at each epoch. \n",
        "  hist = pd.DataFrame(history.history)\n",
        "  mse = hist[\"mean_squared_error\"]\n",
        "\n",
        "  return epochs, mse"
      ]
    },
    {
      "cell_type": "markdown",
      "metadata": {
        "id": "D-IXYVfvM4gD"
      },
      "source": [
        "## Call the functions to build and train a deep neural net\n",
        "\n",
        "Okay, it is time to actually train the deep neural net.  If time permits, experiment with the three hyperparameters to see if you can reduce the loss\n",
        "against the test set.\n"
      ]
    },
    {
      "cell_type": "code",
      "execution_count": 12,
      "metadata": {
        "cellView": "both",
        "id": "nj3v5EKQFY8s"
      },
      "outputs": [
        {
          "name": "stdout",
          "output_type": "stream",
          "text": [
            "Epoch 1/20\n",
            "WARNING:tensorflow:Layers in a Sequential model should only have a single input tensor. Received: inputs={'longitude': <tf.Tensor 'IteratorGetNext:3' shape=(1000,) dtype=float32>, 'latitude': <tf.Tensor 'IteratorGetNext:2' shape=(1000,) dtype=float32>, 'housing_median_age': <tf.Tensor 'IteratorGetNext:1' shape=(1000,) dtype=float32>, 'total_rooms': <tf.Tensor 'IteratorGetNext:7' shape=(1000,) dtype=float32>, 'total_bedrooms': <tf.Tensor 'IteratorGetNext:6' shape=(1000,) dtype=float32>, 'population': <tf.Tensor 'IteratorGetNext:5' shape=(1000,) dtype=float32>, 'households': <tf.Tensor 'IteratorGetNext:0' shape=(1000,) dtype=float32>, 'median_income': <tf.Tensor 'IteratorGetNext:4' shape=(1000,) dtype=float32>}. Consider rewriting this model with the Functional API.\n",
            "WARNING:tensorflow:Layers in a Sequential model should only have a single input tensor. Received: inputs={'longitude': <tf.Tensor 'IteratorGetNext:3' shape=(1000,) dtype=float32>, 'latitude': <tf.Tensor 'IteratorGetNext:2' shape=(1000,) dtype=float32>, 'housing_median_age': <tf.Tensor 'IteratorGetNext:1' shape=(1000,) dtype=float32>, 'total_rooms': <tf.Tensor 'IteratorGetNext:7' shape=(1000,) dtype=float32>, 'total_bedrooms': <tf.Tensor 'IteratorGetNext:6' shape=(1000,) dtype=float32>, 'population': <tf.Tensor 'IteratorGetNext:5' shape=(1000,) dtype=float32>, 'households': <tf.Tensor 'IteratorGetNext:0' shape=(1000,) dtype=float32>, 'median_income': <tf.Tensor 'IteratorGetNext:4' shape=(1000,) dtype=float32>}. Consider rewriting this model with the Functional API.\n"
          ]
        },
        {
          "name": "stderr",
          "output_type": "stream",
          "text": [
            "/home/kaicsiro/.conda/envs/GoogleML/lib/python3.7/site-packages/keras/optimizers/optimizer_v2/adam.py:110: UserWarning: The `lr` argument is deprecated, use `learning_rate` instead.\n",
            "  super(Adam, self).__init__(name, **kwargs)\n"
          ]
        },
        {
          "name": "stdout",
          "output_type": "stream",
          "text": [
            "17/17 [==============================] - 1s 42ms/step - loss: 0.6109 - mean_squared_error: 0.6109\n",
            "Epoch 2/20\n",
            "17/17 [==============================] - 0s 15ms/step - loss: 0.3665 - mean_squared_error: 0.3665\n",
            "Epoch 3/20\n",
            "17/17 [==============================] - 0s 24ms/step - loss: 0.3448 - mean_squared_error: 0.3448\n",
            "Epoch 4/20\n",
            "17/17 [==============================] - 0s 28ms/step - loss: 0.3396 - mean_squared_error: 0.3396\n",
            "Epoch 5/20\n",
            "17/17 [==============================] - 1s 29ms/step - loss: 0.3374 - mean_squared_error: 0.3374\n",
            "Epoch 6/20\n",
            "17/17 [==============================] - 0s 27ms/step - loss: 0.3343 - mean_squared_error: 0.3343\n",
            "Epoch 7/20\n",
            "17/17 [==============================] - 0s 18ms/step - loss: 0.3331 - mean_squared_error: 0.3331\n",
            "Epoch 8/20\n",
            "17/17 [==============================] - 0s 29ms/step - loss: 0.3313 - mean_squared_error: 0.3313\n",
            "Epoch 9/20\n",
            "17/17 [==============================] - 1s 38ms/step - loss: 0.3304 - mean_squared_error: 0.3304\n",
            "Epoch 10/20\n",
            "17/17 [==============================] - 1s 35ms/step - loss: 0.3300 - mean_squared_error: 0.3300\n",
            "Epoch 11/20\n",
            "17/17 [==============================] - 1s 51ms/step - loss: 0.3280 - mean_squared_error: 0.3280\n",
            "Epoch 12/20\n",
            "17/17 [==============================] - 1s 38ms/step - loss: 0.3279 - mean_squared_error: 0.3279\n",
            "Epoch 13/20\n",
            "17/17 [==============================] - 1s 37ms/step - loss: 0.3262 - mean_squared_error: 0.3262\n",
            "Epoch 14/20\n",
            "17/17 [==============================] - 1s 34ms/step - loss: 0.3262 - mean_squared_error: 0.3262\n",
            "Epoch 15/20\n",
            "17/17 [==============================] - 1s 33ms/step - loss: 0.3263 - mean_squared_error: 0.3263\n",
            "Epoch 16/20\n",
            "17/17 [==============================] - 1s 37ms/step - loss: 0.3250 - mean_squared_error: 0.3250\n",
            "Epoch 17/20\n",
            "17/17 [==============================] - 0s 17ms/step - loss: 0.3243 - mean_squared_error: 0.3243\n",
            "Epoch 18/20\n",
            "17/17 [==============================] - 0s 25ms/step - loss: 0.3242 - mean_squared_error: 0.3242\n",
            "Epoch 19/20\n",
            "17/17 [==============================] - 0s 21ms/step - loss: 0.3246 - mean_squared_error: 0.3246\n",
            "Epoch 20/20\n",
            "17/17 [==============================] - 0s 28ms/step - loss: 0.3231 - mean_squared_error: 0.3231\n"
          ]
        },
        {
          "data": {
            "image/png": "[encoded data removed]",
            "text/plain": [
              "<Figure size 640x480 with 1 Axes>"
            ]
          },
          "metadata": {},
          "output_type": "display_data"
        },
        {
          "name": "stdout",
          "output_type": "stream",
          "text": [
            "\n",
            " Evaluate the new model against the test set:\n",
            "WARNING:tensorflow:Layers in a Sequential model should only have a single input tensor. Received: inputs={'longitude': <tf.Tensor 'IteratorGetNext:3' shape=(1000,) dtype=float32>, 'latitude': <tf.Tensor 'IteratorGetNext:2' shape=(1000,) dtype=float32>, 'housing_median_age': <tf.Tensor 'IteratorGetNext:1' shape=(1000,) dtype=float32>, 'total_rooms': <tf.Tensor 'IteratorGetNext:7' shape=(1000,) dtype=float32>, 'total_bedrooms': <tf.Tensor 'IteratorGetNext:6' shape=(1000,) dtype=float32>, 'population': <tf.Tensor 'IteratorGetNext:5' shape=(1000,) dtype=float32>, 'households': <tf.Tensor 'IteratorGetNext:0' shape=(1000,) dtype=float32>, 'median_income': <tf.Tensor 'IteratorGetNext:4' shape=(1000,) dtype=float32>}. Consider rewriting this model with the Functional API.\n",
            "3/3 [==============================] - 0s 5ms/step - loss: 0.3634 - mean_squared_error: 0.3634\n"
          ]
        },
        {
          "data": {
            "text/plain": [
              "[0.3633610010147095, 0.3633610010147095]"
            ]
          },
          "execution_count": 12,
          "metadata": {},
          "output_type": "execute_result"
        }
      ],
      "source": [
        "# The following variables are the hyperparameters.\n",
        "learning_rate = 0.01\n",
        "epochs = 20\n",
        "batch_size = 1000\n",
        "\n",
        "# Specify the label\n",
        "label_name = \"median_house_value\"\n",
        "\n",
        "# Establish the model's topography.\n",
        "my_model = create_model(learning_rate, my_feature_layer)\n",
        "\n",
        "# Train the model on the normalized training set. We're passing the entire\n",
        "# normalized training set, but the model will only use the features\n",
        "# defined by the feature_layer.\n",
        "epochs, mse = train_model(my_model, train_df_norm, epochs, \n",
        "                          label_name, batch_size)\n",
        "plot_the_loss_curve(epochs, mse)\n",
        "\n",
        "# After building a model against the training set, test that model\n",
        "# against the test set.\n",
        "test_features = {name:np.array(value) for name, value in test_df_norm.items()}\n",
        "test_label = np.array(test_features.pop(label_name)) # isolate the label\n",
        "print(\"\\n Evaluate the new model against the test set:\")\n",
        "my_model.evaluate(x = test_features, y = test_label, batch_size=batch_size)"
      ]
    },
    {
      "cell_type": "markdown",
      "metadata": {
        "id": "wlPXK-SmmjQ2"
      },
      "source": [
        "## Task 1: Compare the two models\n",
        "\n",
        "How did the deep neural net perform against the baseline linear regression model?"
      ]
    },
    {
      "cell_type": "code",
      "execution_count": null,
      "metadata": {
        "cellView": "form",
        "id": "hI7ojsL7nnBE"
      },
      "outputs": [],
      "source": [
        "#@title Double-click to view a possible answer\n",
        "\n",
        "# Assuming that the linear model converged and\n",
        "# the deep neural net model also converged, please \n",
        "# compare the test set loss for each.\n",
        "# In our experiments, the loss of the deep neural \n",
        "# network model was consistently lower than \n",
        "# that of the linear regression model, which \n",
        "# suggests that the deep neural network model \n",
        "# will make better predictions than the \n",
        "# linear regression model.\n",
        "\n",
        "# there was a slightly lower loss in the deep neural network model\n",
        "# with a roughly 0.03 difference in the loss value"
      ]
    },
    {
      "cell_type": "markdown",
      "metadata": {
        "id": "Y5IKmk7D49_n"
      },
      "source": [
        "## Task 2: Optimize the deep neural network's topography\n",
        "\n",
        "Experiment with the number of layers of the deep neural network and the number of nodes in each layer.  Aim to achieve both of the following goals:\n",
        "\n",
        "*  Lower the loss against the test set.\n",
        "*  Minimize the overall number of nodes in the deep neural net. \n",
        "\n",
        "The two goals may be in conflict."
      ]
    },
    {
      "cell_type": "code",
      "execution_count": null,
      "metadata": {
        "cellView": "form",
        "id": "wYG5qXpP5a9n"
      },
      "outputs": [],
      "source": [
        "#@title Double-click to view a possible answer\n",
        "\n",
        "# Many answers are possible.  We noticed the \n",
        "# following trends:\n",
        "#   * Two layers outperformed one layer, but \n",
        "#     three layers did not perform significantly \n",
        "#     better than two layers; two layers \n",
        "#     outperformed one layer.\n",
        "#     In other words, two layers seemed best. \n",
        "#   * Setting the topography as follows produced \n",
        "#     reasonably good results with relatively few \n",
        "#     nodes:\n",
        "#       * 10 nodes in the first layer.\n",
        "#       *  6 nodes in the second layer.\n",
        "#     As the number of nodes in each layer dropped\n",
        "#     below the preceding, test loss increased.  \n",
        "#     However, depending on your application, hardware\n",
        "#     constraints, and the relative pain inflicted \n",
        "#     by a less accurate model, a smaller network \n",
        "#     (for example, 6 nodes in the first layer and \n",
        "#     4 nodes in the second layer) might be \n",
        "#     acceptable."
      ]
    },
    {
      "cell_type": "markdown",
      "metadata": {
        "id": "Pu7R_ZpDopIj"
      },
      "source": [
        "## Task 3: Regularize the deep neural network (if you have enough time)\n",
        "\n",
        "Notice that the model's loss against the test set is *much higher* than the loss against the training set.  In other words, the deep neural network is [overfitting](https://developers.google.com/machine-learning/glossary/#overfitting) to the data in the training set.  To reduce overfitting, regularize the model.  The course has suggested several different ways to regularize a model, including:\n",
        "\n",
        "  * [L1 regularization](https://developers.google.com/machine-learning/glossary/#L1_regularization)\n",
        "  * [L2 regularization](https://developers.google.com/machine-learning/glossary/#L2_regularization)\n",
        "  * [Dropout regularization](https://developers.google.com/machine-learning/glossary/#dropout_regularization)\n",
        "\n",
        "Your task is to experiment with one or more regularization mechanisms to bring the test loss closer to the training loss (while still keeping test loss relatively low).  \n",
        "\n",
        "**Note:** When you add a regularization function to a model, you might need to tweak other hyperparameters. \n",
        "\n",
        "### Implementing L1 or L2 regularization\n",
        "\n",
        "To use L1 or L2 regularization on a hidden layer, specify the `kernel_regularizer` argument to [tf.keras.layers.Dense](https://www.tensorflow.org/api_docs/python/tf/keras/layers/Dense). Assign one of the following methods to this argument:\n",
        "\n",
        "* `tf.keras.regularizers.l1` for L1 regularization\n",
        "* `tf.keras.regularizers.l2` for L2 regularization\n",
        "\n",
        "Each of the preceding methods takes an `l` parameter, which adjusts the [regularization rate](https://developers.google.com/machine-learning/glossary/#regularization_rate). Assign a decimal value between 0 and 1.0 to `l`; the higher the decimal, the greater the regularization. For example, the following applies L2 regularization at a strength of 0.01. \n",
        "\n",
        "```\n",
        "model.add(tf.keras.layers.Dense(units=20, \n",
        "                                activation='relu',\n",
        "                                kernel_regularizer=tf.keras.regularizers.l2(l=0.01),\n",
        "                                name='Hidden1'))\n",
        "```\n",
        "\n",
        "### Implementing Dropout regularization\n",
        "\n",
        "You implement dropout regularization as a separate layer in the topography. For example, the following code demonstrates how to add a dropout regularization layer between the first hidden layer and the second hidden layer:\n",
        "\n",
        "```\n",
        "model.add(tf.keras.layers.Dense( *define first hidden layer*)\n",
        " \n",
        "model.add(tf.keras.layers.Dropout(rate=0.25))\n",
        "\n",
        "model.add(tf.keras.layers.Dense( *define second hidden layer*)\n",
        "```\n",
        "\n",
        "The `rate` parameter to [tf.keras.layers.Dropout](https://www.tensorflow.org/api_docs/python/tf/keras/layers/Dropout) specifies the fraction of nodes that the model should drop out during training. \n"
      ]
    },
    {
      "cell_type": "code",
      "execution_count": 13,
      "metadata": {
        "cellView": "form",
        "id": "tflt9TZEDARW"
      },
      "outputs": [
        {
          "name": "stdout",
          "output_type": "stream",
          "text": [
            "Epoch 1/140\n",
            "WARNING:tensorflow:Layers in a Sequential model should only have a single input tensor. Received: inputs={'longitude': <tf.Tensor 'IteratorGetNext:3' shape=(1000,) dtype=float32>, 'latitude': <tf.Tensor 'IteratorGetNext:2' shape=(1000,) dtype=float32>, 'housing_median_age': <tf.Tensor 'IteratorGetNext:1' shape=(1000,) dtype=float32>, 'total_rooms': <tf.Tensor 'IteratorGetNext:7' shape=(1000,) dtype=float32>, 'total_bedrooms': <tf.Tensor 'IteratorGetNext:6' shape=(1000,) dtype=float32>, 'population': <tf.Tensor 'IteratorGetNext:5' shape=(1000,) dtype=float32>, 'households': <tf.Tensor 'IteratorGetNext:0' shape=(1000,) dtype=float32>, 'median_income': <tf.Tensor 'IteratorGetNext:4' shape=(1000,) dtype=float32>}. Consider rewriting this model with the Functional API.\n",
            "WARNING:tensorflow:Layers in a Sequential model should only have a single input tensor. Received: inputs={'longitude': <tf.Tensor 'IteratorGetNext:3' shape=(1000,) dtype=float32>, 'latitude': <tf.Tensor 'IteratorGetNext:2' shape=(1000,) dtype=float32>, 'housing_median_age': <tf.Tensor 'IteratorGetNext:1' shape=(1000,) dtype=float32>, 'total_rooms': <tf.Tensor 'IteratorGetNext:7' shape=(1000,) dtype=float32>, 'total_bedrooms': <tf.Tensor 'IteratorGetNext:6' shape=(1000,) dtype=float32>, 'population': <tf.Tensor 'IteratorGetNext:5' shape=(1000,) dtype=float32>, 'households': <tf.Tensor 'IteratorGetNext:0' shape=(1000,) dtype=float32>, 'median_income': <tf.Tensor 'IteratorGetNext:4' shape=(1000,) dtype=float32>}. Consider rewriting this model with the Functional API.\n",
            "17/17 [==============================] - 1s 20ms/step - loss: 1.8080 - mean_squared_error: 0.7377\n",
            "Epoch 2/140\n",
            "17/17 [==============================] - 0s 26ms/step - loss: 0.7518 - mean_squared_error: 0.4385\n",
            "Epoch 3/140\n",
            "17/17 [==============================] - 1s 39ms/step - loss: 0.5484 - mean_squared_error: 0.3961\n",
            "Epoch 4/140\n",
            "17/17 [==============================] - 1s 33ms/step - loss: 0.4848 - mean_squared_error: 0.3836\n",
            "Epoch 5/140\n",
            "17/17 [==============================] - 1s 38ms/step - loss: 0.4604 - mean_squared_error: 0.3763\n",
            "Epoch 6/140\n",
            "17/17 [==============================] - 1s 30ms/step - loss: 0.4492 - mean_squared_error: 0.3760\n",
            "Epoch 7/140\n",
            "17/17 [==============================] - 0s 18ms/step - loss: 0.4411 - mean_squared_error: 0.3717\n",
            "Epoch 8/140\n",
            "17/17 [==============================] - 0s 16ms/step - loss: 0.4360 - mean_squared_error: 0.3691\n",
            "Epoch 9/140\n",
            "17/17 [==============================] - 0s 22ms/step - loss: 0.4325 - mean_squared_error: 0.3685\n",
            "Epoch 10/140\n",
            "17/17 [==============================] - 0s 25ms/step - loss: 0.4311 - mean_squared_error: 0.3682\n",
            "Epoch 11/140\n",
            "17/17 [==============================] - 1s 31ms/step - loss: 0.4293 - mean_squared_error: 0.3702\n",
            "Epoch 12/140\n",
            "17/17 [==============================] - 0s 21ms/step - loss: 0.4276 - mean_squared_error: 0.3685\n",
            "Epoch 13/140\n",
            "17/17 [==============================] - 0s 28ms/step - loss: 0.4261 - mean_squared_error: 0.3682\n",
            "Epoch 14/140\n",
            "17/17 [==============================] - 0s 24ms/step - loss: 0.4213 - mean_squared_error: 0.3642\n",
            "Epoch 15/140\n",
            "17/17 [==============================] - 0s 15ms/step - loss: 0.4195 - mean_squared_error: 0.3637\n",
            "Epoch 16/140\n",
            "17/17 [==============================] - 0s 16ms/step - loss: 0.4192 - mean_squared_error: 0.3647\n",
            "Epoch 17/140\n",
            "17/17 [==============================] - 0s 21ms/step - loss: 0.4215 - mean_squared_error: 0.3666\n",
            "Epoch 18/140\n",
            "17/17 [==============================] - 0s 10ms/step - loss: 0.4238 - mean_squared_error: 0.3712\n",
            "Epoch 19/140\n",
            "17/17 [==============================] - 0s 12ms/step - loss: 0.4190 - mean_squared_error: 0.3655\n",
            "Epoch 20/140\n",
            "17/17 [==============================] - 0s 11ms/step - loss: 0.4139 - mean_squared_error: 0.3617\n",
            "Epoch 21/140\n",
            "17/17 [==============================] - 0s 18ms/step - loss: 0.4140 - mean_squared_error: 0.3618\n",
            "Epoch 22/140\n",
            "17/17 [==============================] - 1s 31ms/step - loss: 0.4117 - mean_squared_error: 0.3616\n",
            "Epoch 23/140\n",
            "17/17 [==============================] - 0s 21ms/step - loss: 0.4113 - mean_squared_error: 0.3601\n",
            "Epoch 24/140\n",
            "17/17 [==============================] - 1s 52ms/step - loss: 0.4097 - mean_squared_error: 0.3592\n",
            "Epoch 25/140\n",
            "17/17 [==============================] - 0s 27ms/step - loss: 0.4094 - mean_squared_error: 0.3596\n",
            "Epoch 26/140\n",
            "17/17 [==============================] - 0s 24ms/step - loss: 0.4101 - mean_squared_error: 0.3610\n",
            "Epoch 27/140\n",
            "17/17 [==============================] - 0s 25ms/step - loss: 0.4082 - mean_squared_error: 0.3589\n",
            "Epoch 28/140\n",
            "17/17 [==============================] - 0s 10ms/step - loss: 0.4059 - mean_squared_error: 0.3570\n",
            "Epoch 29/140\n",
            "17/17 [==============================] - 0s 24ms/step - loss: 0.4050 - mean_squared_error: 0.3561\n",
            "Epoch 30/140\n",
            "17/17 [==============================] - 0s 24ms/step - loss: 0.4046 - mean_squared_error: 0.3570\n",
            "Epoch 31/140\n",
            "17/17 [==============================] - 0s 24ms/step - loss: 0.4031 - mean_squared_error: 0.3548\n",
            "Epoch 32/140\n",
            "17/17 [==============================] - 0s 18ms/step - loss: 0.4054 - mean_squared_error: 0.3585\n",
            "Epoch 33/140\n",
            "17/17 [==============================] - 0s 26ms/step - loss: 0.4016 - mean_squared_error: 0.3540\n",
            "Epoch 34/140\n",
            "17/17 [==============================] - 0s 19ms/step - loss: 0.4015 - mean_squared_error: 0.3549\n",
            "Epoch 35/140\n",
            "17/17 [==============================] - 0s 26ms/step - loss: 0.4007 - mean_squared_error: 0.3540\n",
            "Epoch 36/140\n",
            "17/17 [==============================] - 0s 23ms/step - loss: 0.4022 - mean_squared_error: 0.3565\n",
            "Epoch 37/140\n",
            "17/17 [==============================] - 1s 42ms/step - loss: 0.3999 - mean_squared_error: 0.3539\n",
            "Epoch 38/140\n",
            "17/17 [==============================] - 1s 37ms/step - loss: 0.4007 - mean_squared_error: 0.3543\n",
            "Epoch 39/140\n",
            "17/17 [==============================] - 1s 35ms/step - loss: 0.4028 - mean_squared_error: 0.3589\n",
            "Epoch 40/140\n",
            "17/17 [==============================] - 1s 32ms/step - loss: 0.3983 - mean_squared_error: 0.3528\n",
            "Epoch 41/140\n",
            "17/17 [==============================] - 1s 39ms/step - loss: 0.3986 - mean_squared_error: 0.3545\n",
            "Epoch 42/140\n",
            "17/17 [==============================] - 0s 28ms/step - loss: 0.3992 - mean_squared_error: 0.3550\n",
            "Epoch 43/140\n",
            "17/17 [==============================] - 0s 17ms/step - loss: 0.3965 - mean_squared_error: 0.3529\n",
            "Epoch 44/140\n",
            "17/17 [==============================] - 0s 13ms/step - loss: 0.3974 - mean_squared_error: 0.3534\n",
            "Epoch 45/140\n",
            "17/17 [==============================] - 0s 13ms/step - loss: 0.3944 - mean_squared_error: 0.3513\n",
            "Epoch 46/140\n",
            "17/17 [==============================] - 0s 13ms/step - loss: 0.3962 - mean_squared_error: 0.3537\n",
            "Epoch 47/140\n",
            "17/17 [==============================] - 0s 21ms/step - loss: 0.3967 - mean_squared_error: 0.3535\n",
            "Epoch 48/140\n",
            "17/17 [==============================] - 0s 24ms/step - loss: 0.3941 - mean_squared_error: 0.3522\n",
            "Epoch 49/140\n",
            "17/17 [==============================] - 0s 23ms/step - loss: 0.3949 - mean_squared_error: 0.3523\n",
            "Epoch 50/140\n",
            "17/17 [==============================] - 0s 25ms/step - loss: 0.3964 - mean_squared_error: 0.3553\n",
            "Epoch 51/140\n",
            "17/17 [==============================] - 0s 23ms/step - loss: 0.3938 - mean_squared_error: 0.3525\n",
            "Epoch 52/140\n",
            "17/17 [==============================] - 0s 22ms/step - loss: 0.3937 - mean_squared_error: 0.3519\n",
            "Epoch 53/140\n",
            "17/17 [==============================] - 0s 28ms/step - loss: 0.3929 - mean_squared_error: 0.3523\n",
            "Epoch 54/140\n",
            "17/17 [==============================] - 1s 36ms/step - loss: 0.3916 - mean_squared_error: 0.3506\n",
            "Epoch 55/140\n",
            "17/17 [==============================] - 1s 33ms/step - loss: 0.3915 - mean_squared_error: 0.3511\n",
            "Epoch 56/140\n",
            "17/17 [==============================] - 0s 25ms/step - loss: 0.3904 - mean_squared_error: 0.3501\n",
            "Epoch 57/140\n",
            "17/17 [==============================] - 0s 17ms/step - loss: 0.3901 - mean_squared_error: 0.3499\n",
            "Epoch 58/140\n",
            "17/17 [==============================] - 0s 19ms/step - loss: 0.3909 - mean_squared_error: 0.3499\n",
            "Epoch 59/140\n",
            "17/17 [==============================] - 0s 14ms/step - loss: 0.3931 - mean_squared_error: 0.3534\n",
            "Epoch 60/140\n",
            "17/17 [==============================] - 1s 32ms/step - loss: 0.3905 - mean_squared_error: 0.3506\n",
            "Epoch 61/140\n",
            "17/17 [==============================] - 1s 41ms/step - loss: 0.3901 - mean_squared_error: 0.3509\n",
            "Epoch 62/140\n",
            "17/17 [==============================] - 1s 41ms/step - loss: 0.3880 - mean_squared_error: 0.3488\n",
            "Epoch 63/140\n",
            "17/17 [==============================] - 1s 31ms/step - loss: 0.3912 - mean_squared_error: 0.3520\n",
            "Epoch 64/140\n",
            "17/17 [==============================] - 0s 19ms/step - loss: 0.3943 - mean_squared_error: 0.3557\n",
            "Epoch 65/140\n",
            "17/17 [==============================] - 0s 13ms/step - loss: 0.3919 - mean_squared_error: 0.3533\n",
            "Epoch 66/140\n",
            "17/17 [==============================] - 0s 19ms/step - loss: 0.3886 - mean_squared_error: 0.3498\n",
            "Epoch 67/140\n",
            "17/17 [==============================] - 0s 22ms/step - loss: 0.3880 - mean_squared_error: 0.3498\n",
            "Epoch 68/140\n",
            "17/17 [==============================] - 0s 28ms/step - loss: 0.3870 - mean_squared_error: 0.3491\n",
            "Epoch 69/140\n",
            "17/17 [==============================] - 0s 23ms/step - loss: 0.3914 - mean_squared_error: 0.3533\n",
            "Epoch 70/140\n",
            "17/17 [==============================] - 1s 33ms/step - loss: 0.3908 - mean_squared_error: 0.3532\n",
            "Epoch 71/140\n",
            "17/17 [==============================] - 0s 14ms/step - loss: 0.3860 - mean_squared_error: 0.3484\n",
            "Epoch 72/140\n",
            "17/17 [==============================] - 0s 19ms/step - loss: 0.3855 - mean_squared_error: 0.3484\n",
            "Epoch 73/140\n",
            "17/17 [==============================] - 0s 15ms/step - loss: 0.3886 - mean_squared_error: 0.3510\n",
            "Epoch 74/140\n",
            "17/17 [==============================] - 0s 25ms/step - loss: 0.3886 - mean_squared_error: 0.3515\n",
            "Epoch 75/140\n",
            "17/17 [==============================] - 0s 17ms/step - loss: 0.3867 - mean_squared_error: 0.3504\n",
            "Epoch 76/140\n",
            "17/17 [==============================] - 0s 20ms/step - loss: 0.3868 - mean_squared_error: 0.3496\n",
            "Epoch 77/140\n",
            "17/17 [==============================] - 0s 18ms/step - loss: 0.3852 - mean_squared_error: 0.3492\n",
            "Epoch 78/140\n",
            "17/17 [==============================] - 1s 32ms/step - loss: 0.3847 - mean_squared_error: 0.3481\n",
            "Epoch 79/140\n",
            "17/17 [==============================] - 1s 31ms/step - loss: 0.3846 - mean_squared_error: 0.3481\n",
            "Epoch 80/140\n",
            "17/17 [==============================] - 1s 30ms/step - loss: 0.3866 - mean_squared_error: 0.3503\n",
            "Epoch 81/140\n",
            "17/17 [==============================] - 1s 37ms/step - loss: 0.3859 - mean_squared_error: 0.3506\n",
            "Epoch 82/140\n",
            "17/17 [==============================] - 0s 29ms/step - loss: 0.3845 - mean_squared_error: 0.3484\n",
            "Epoch 83/140\n",
            "17/17 [==============================] - 0s 14ms/step - loss: 0.3838 - mean_squared_error: 0.3483\n",
            "Epoch 84/140\n",
            "17/17 [==============================] - 0s 25ms/step - loss: 0.3820 - mean_squared_error: 0.3460\n",
            "Epoch 85/140\n",
            "17/17 [==============================] - 0s 29ms/step - loss: 0.3820 - mean_squared_error: 0.3469\n",
            "Epoch 86/140\n",
            "17/17 [==============================] - 1s 45ms/step - loss: 0.3834 - mean_squared_error: 0.3484\n",
            "Epoch 87/140\n",
            "17/17 [==============================] - 1s 55ms/step - loss: 0.3842 - mean_squared_error: 0.3488\n",
            "Epoch 88/140\n",
            "17/17 [==============================] - 1s 51ms/step - loss: 0.3851 - mean_squared_error: 0.3499\n",
            "Epoch 89/140\n",
            "17/17 [==============================] - 1s 49ms/step - loss: 0.3857 - mean_squared_error: 0.3507\n",
            "Epoch 90/140\n",
            "17/17 [==============================] - 0s 27ms/step - loss: 0.3852 - mean_squared_error: 0.3506\n",
            "Epoch 91/140\n",
            "17/17 [==============================] - 0s 28ms/step - loss: 0.3814 - mean_squared_error: 0.3474\n",
            "Epoch 92/140\n",
            "17/17 [==============================] - 1s 30ms/step - loss: 0.3813 - mean_squared_error: 0.3474\n",
            "Epoch 93/140\n",
            "17/17 [==============================] - 0s 22ms/step - loss: 0.3828 - mean_squared_error: 0.3478\n",
            "Epoch 94/140\n",
            "17/17 [==============================] - 0s 21ms/step - loss: 0.3828 - mean_squared_error: 0.3488\n",
            "Epoch 95/140\n",
            "17/17 [==============================] - 0s 21ms/step - loss: 0.3816 - mean_squared_error: 0.3476\n",
            "Epoch 96/140\n",
            "17/17 [==============================] - 0s 21ms/step - loss: 0.3832 - mean_squared_error: 0.3496\n",
            "Epoch 97/140\n",
            "17/17 [==============================] - 0s 21ms/step - loss: 0.3813 - mean_squared_error: 0.3482\n",
            "Epoch 98/140\n",
            "17/17 [==============================] - 0s 9ms/step - loss: 0.3819 - mean_squared_error: 0.3481\n",
            "Epoch 99/140\n",
            "17/17 [==============================] - 0s 14ms/step - loss: 0.3832 - mean_squared_error: 0.3494\n",
            "Epoch 100/140\n",
            "17/17 [==============================] - 0s 16ms/step - loss: 0.3820 - mean_squared_error: 0.3485\n",
            "Epoch 101/140\n",
            "17/17 [==============================] - 0s 14ms/step - loss: 0.3790 - mean_squared_error: 0.3457\n",
            "Epoch 102/140\n",
            "17/17 [==============================] - 0s 17ms/step - loss: 0.3821 - mean_squared_error: 0.3489\n",
            "Epoch 103/140\n",
            "17/17 [==============================] - 0s 23ms/step - loss: 0.3819 - mean_squared_error: 0.3491\n",
            "Epoch 104/140\n",
            "17/17 [==============================] - 0s 22ms/step - loss: 0.3807 - mean_squared_error: 0.3471\n",
            "Epoch 105/140\n",
            "17/17 [==============================] - 1s 30ms/step - loss: 0.3811 - mean_squared_error: 0.3480\n",
            "Epoch 106/140\n",
            "17/17 [==============================] - 0s 25ms/step - loss: 0.3779 - mean_squared_error: 0.3445\n",
            "Epoch 107/140\n",
            "17/17 [==============================] - 0s 23ms/step - loss: 0.3785 - mean_squared_error: 0.3453\n",
            "Epoch 108/140\n",
            "17/17 [==============================] - 0s 25ms/step - loss: 0.3778 - mean_squared_error: 0.3447\n",
            "Epoch 109/140\n",
            "17/17 [==============================] - 0s 20ms/step - loss: 0.3785 - mean_squared_error: 0.3453\n",
            "Epoch 110/140\n",
            "17/17 [==============================] - 1s 32ms/step - loss: 0.3790 - mean_squared_error: 0.3463\n",
            "Epoch 111/140\n",
            "17/17 [==============================] - 0s 24ms/step - loss: 0.3805 - mean_squared_error: 0.3477\n",
            "Epoch 112/140\n",
            "17/17 [==============================] - 0s 15ms/step - loss: 0.3784 - mean_squared_error: 0.3458\n",
            "Epoch 113/140\n",
            "17/17 [==============================] - 0s 15ms/step - loss: 0.3783 - mean_squared_error: 0.3452\n",
            "Epoch 114/140\n",
            "17/17 [==============================] - 0s 17ms/step - loss: 0.3785 - mean_squared_error: 0.3458\n",
            "Epoch 115/140\n",
            "17/17 [==============================] - 0s 23ms/step - loss: 0.3782 - mean_squared_error: 0.3462\n",
            "Epoch 116/140\n",
            "17/17 [==============================] - 0s 18ms/step - loss: 0.3767 - mean_squared_error: 0.3444\n",
            "Epoch 117/140\n",
            "17/17 [==============================] - 0s 18ms/step - loss: 0.3767 - mean_squared_error: 0.3449\n",
            "Epoch 118/140\n",
            "17/17 [==============================] - 0s 21ms/step - loss: 0.3759 - mean_squared_error: 0.3437\n",
            "Epoch 119/140\n",
            "17/17 [==============================] - 0s 23ms/step - loss: 0.3773 - mean_squared_error: 0.3452\n",
            "Epoch 120/140\n",
            "17/17 [==============================] - 0s 27ms/step - loss: 0.3761 - mean_squared_error: 0.3442\n",
            "Epoch 121/140\n",
            "17/17 [==============================] - 0s 25ms/step - loss: 0.3800 - mean_squared_error: 0.3481\n",
            "Epoch 122/140\n",
            "17/17 [==============================] - 0s 25ms/step - loss: 0.3839 - mean_squared_error: 0.3517\n",
            "Epoch 123/140\n",
            "17/17 [==============================] - 0s 27ms/step - loss: 0.3778 - mean_squared_error: 0.3461\n",
            "Epoch 124/140\n",
            "17/17 [==============================] - 1s 40ms/step - loss: 0.3790 - mean_squared_error: 0.3472\n",
            "Epoch 125/140\n",
            "17/17 [==============================] - 1s 37ms/step - loss: 0.3794 - mean_squared_error: 0.3480\n",
            "Epoch 126/140\n",
            "17/17 [==============================] - 1s 39ms/step - loss: 0.3778 - mean_squared_error: 0.3465\n",
            "Epoch 127/140\n",
            "17/17 [==============================] - 1s 36ms/step - loss: 0.3756 - mean_squared_error: 0.3446\n",
            "Epoch 128/140\n",
            "17/17 [==============================] - 0s 25ms/step - loss: 0.3762 - mean_squared_error: 0.3446\n",
            "Epoch 129/140\n",
            "17/17 [==============================] - 0s 19ms/step - loss: 0.3742 - mean_squared_error: 0.3435\n",
            "Epoch 130/140\n",
            "17/17 [==============================] - 0s 15ms/step - loss: 0.3740 - mean_squared_error: 0.3429\n",
            "Epoch 131/140\n",
            "17/17 [==============================] - 0s 23ms/step - loss: 0.3740 - mean_squared_error: 0.3432\n",
            "Epoch 132/140\n",
            "17/17 [==============================] - 0s 26ms/step - loss: 0.3756 - mean_squared_error: 0.3454\n",
            "Epoch 133/140\n",
            "17/17 [==============================] - 0s 28ms/step - loss: 0.3744 - mean_squared_error: 0.3433\n",
            "Epoch 134/140\n",
            "17/17 [==============================] - 1s 38ms/step - loss: 0.3746 - mean_squared_error: 0.3438\n",
            "Epoch 135/140\n",
            "17/17 [==============================] - 1s 31ms/step - loss: 0.3736 - mean_squared_error: 0.3434\n",
            "Epoch 136/140\n",
            "17/17 [==============================] - 1s 32ms/step - loss: 0.3730 - mean_squared_error: 0.3424\n",
            "Epoch 137/140\n",
            "17/17 [==============================] - 0s 27ms/step - loss: 0.3746 - mean_squared_error: 0.3441\n",
            "Epoch 138/140\n",
            "17/17 [==============================] - 0s 22ms/step - loss: 0.3769 - mean_squared_error: 0.3468\n",
            "Epoch 139/140\n",
            "17/17 [==============================] - 0s 18ms/step - loss: 0.3738 - mean_squared_error: 0.3433\n",
            "Epoch 140/140\n",
            "17/17 [==============================] - 1s 43ms/step - loss: 0.3743 - mean_squared_error: 0.3443\n"
          ]
        },
        {
          "data": {
            "image/png": "[encoded data removed]",
            "text/plain": [
              "<Figure size 640x480 with 1 Axes>"
            ]
          },
          "metadata": {},
          "output_type": "display_data"
        },
        {
          "name": "stdout",
          "output_type": "stream",
          "text": [
            "\n",
            " Evaluate the new model against the test set:\n",
            "WARNING:tensorflow:Layers in a Sequential model should only have a single input tensor. Received: inputs={'longitude': <tf.Tensor 'IteratorGetNext:3' shape=(1000,) dtype=float32>, 'latitude': <tf.Tensor 'IteratorGetNext:2' shape=(1000,) dtype=float32>, 'housing_median_age': <tf.Tensor 'IteratorGetNext:1' shape=(1000,) dtype=float32>, 'total_rooms': <tf.Tensor 'IteratorGetNext:7' shape=(1000,) dtype=float32>, 'total_bedrooms': <tf.Tensor 'IteratorGetNext:6' shape=(1000,) dtype=float32>, 'population': <tf.Tensor 'IteratorGetNext:5' shape=(1000,) dtype=float32>, 'households': <tf.Tensor 'IteratorGetNext:0' shape=(1000,) dtype=float32>, 'median_income': <tf.Tensor 'IteratorGetNext:4' shape=(1000,) dtype=float32>}. Consider rewriting this model with the Functional API.\n",
            "3/3 [==============================] - 0s 14ms/step - loss: 0.4084 - mean_squared_error: 0.3783\n"
          ]
        },
        {
          "data": {
            "text/plain": [
              "[0.40842172503471375, 0.37825801968574524]"
            ]
          },
          "execution_count": 13,
          "metadata": {},
          "output_type": "execute_result"
        }
      ],
      "source": [
        "#@title Double-click for a possible solution\n",
        "\n",
        "# The following \"solution\" uses L2 regularization to bring training loss\n",
        "# and test loss closer to each other. Many, many other solutions are possible.\n",
        "\n",
        "\n",
        "def create_model(my_learning_rate, my_feature_layer):\n",
        "  \"\"\"Create and compile a simple linear regression model.\"\"\"\n",
        "\n",
        "  # Discard any pre-existing version of the model.\n",
        "  model = None\n",
        "\n",
        "  # Most simple tf.keras models are sequential.\n",
        "  model = tf.keras.models.Sequential()\n",
        "\n",
        "  # Add the layer containing the feature columns to the model.\n",
        "  model.add(my_feature_layer)\n",
        "\n",
        "  # Describe the topography of the model. \n",
        "\n",
        "  # Implement L2 regularization in the first hidden layer.\n",
        "  model.add(tf.keras.layers.Dense(units=20, \n",
        "                                  activation='relu',\n",
        "                                  kernel_regularizer=tf.keras.regularizers.l2(0.04),\n",
        "                                  name='Hidden1'))\n",
        "  \n",
        "  # Implement L2 regularization in the second hidden layer.\n",
        "  model.add(tf.keras.layers.Dense(units=12, \n",
        "                                  activation='relu', \n",
        "                                  kernel_regularizer=tf.keras.regularizers.l2(0.04),\n",
        "                                  name='Hidden2'))\n",
        "\n",
        "  # Define the output layer.\n",
        "  model.add(tf.keras.layers.Dense(units=1,  \n",
        "                                  name='Output'))                              \n",
        "  \n",
        "  model.compile(optimizer=tf.keras.optimizers.Adam(lr=my_learning_rate),\n",
        "                loss=\"mean_squared_error\",\n",
        "                metrics=[tf.keras.metrics.MeanSquaredError()])\n",
        "\n",
        "  return model     \n",
        "\n",
        "# Call the new create_model function and the other (unchanged) functions.\n",
        "\n",
        "# The following variables are the hyperparameters.\n",
        "learning_rate = 0.007\n",
        "epochs = 140\n",
        "batch_size = 1000\n",
        "\n",
        "label_name = \"median_house_value\"\n",
        "\n",
        "# Establish the model's topography.\n",
        "my_model = create_model(learning_rate, my_feature_layer)\n",
        "\n",
        "# Train the model on the normalized training set.\n",
        "epochs, mse = train_model(my_model, train_df_norm, epochs, \n",
        "                          label_name, batch_size)\n",
        "plot_the_loss_curve(epochs, mse)\n",
        "\n",
        "test_features = {name:np.array(value) for name, value in test_df_norm.items()}\n",
        "test_label = np.array(test_features.pop(label_name)) # isolate the label\n",
        "print(\"\\n Evaluate the new model against the test set:\")\n",
        "my_model.evaluate(x = test_features, y = test_label, batch_size=batch_size) "
      ]
    }
  ],
  "metadata": {
    "colab": {
      "collapsed_sections": [],
      "name": "Intro to Neural Nets.ipynb",
      "private_outputs": true,
      "provenance": []
    },
    "kernelspec": {
      "display_name": "Python 3.7.13 ('GoogleML')",
      "language": "python",
      "name": "python3"
    },
    "language_info": {
      "codemirror_mode": {
        "name": "ipython",
        "version": 3
      },
      "file_extension": ".py",
      "mimetype": "text/x-python",
      "name": "python",
      "nbconvert_exporter": "python",
      "pygments_lexer": "ipython3",
      "version": "3.7.13"
    },
    "vscode": {
      "interpreter": {
        "hash": "07d10209c84e866bcc132c741e6151e1826612262d259795ed8a48fb5410d00f"
      }
    }
  },
  "nbformat": 4,
  "nbformat_minor": 0
}
