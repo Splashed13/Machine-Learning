{
  "cells": [
    {
      "cell_type": "code",
      "execution_count": 8,
      "metadata": {
        "cellView": "form",
        "id": "wDlWLbfkJtvu"
      },
      "outputs": [],
      "source": [
        "#@title Copyright 2020 Google LLC. Double-click here for license information.\n",
        "# Licensed under the Apache License, Version 2.0 (the \"License\");\n",
        "# you may not use this file except in compliance with the License.\n",
        "# You may obtain a copy of the License at\n",
        "#\n",
        "# https://www.apache.org/licenses/LICENSE-2.0\n",
        "#\n",
        "# Unless required by applicable law or agreed to in writing, software\n",
        "# distributed under the License is distributed on an \"AS IS\" BASIS,\n",
        "# WITHOUT WARRANTIES OR CONDITIONS OF ANY KIND, either express or implied.\n",
        "# See the License for the specific language governing permissions and\n",
        "# limitations under the License."
      ]
    },
    {
      "cell_type": "markdown",
      "metadata": {
        "id": "T4r2z30vJSbA"
      },
      "source": [
        "# Colabs\n",
        "\n",
        "Machine Learning Crash Course uses Colaboratories (Colabs) for all programming exercises. Colab is Google's implementation of [Jupyter Notebook](https://jupyter.org/). For more information about Colabs and how to use them, go to [Welcome to Colaboratory](https://research.google.com/colaboratory)."
      ]
    },
    {
      "cell_type": "markdown",
      "metadata": {
        "id": "TL5y5fY9Jy_x"
      },
      "source": [
        "# Linear Regression with a Real Dataset\n",
        "\n",
        "This Colab uses a real dataset to predict the prices of houses in California.   \n",
        "\n",
        "\n",
        "\n",
        "\n"
      ]
    },
    {
      "cell_type": "markdown",
      "metadata": {
        "id": "h8wtceyJj2uX"
      },
      "source": [
        "## Learning Objectives:\n",
        "\n",
        "After doing this Colab, you'll know how to do the following:\n",
        "\n",
        "  * Read a .csv file into a [pandas](https://developers.google.com/machine-learning/glossary/#pandas) DataFrame.\n",
        "  * Examine a [dataset](https://developers.google.com/machine-learning/glossary/#data_set). \n",
        "  * Experiment with different [features](https://developers.google.com/machine-learning/glossary/#feature) in building a model.\n",
        "  * Tune the model's [hyperparameters](https://developers.google.com/machine-learning/glossary/#hyperparameter)."
      ]
    },
    {
      "cell_type": "markdown",
      "metadata": {
        "id": "JJZEgJQSjyK4"
      },
      "source": [
        "## The Dataset\n",
        "  \n",
        "The [dataset for this exercise](https://developers.google.com/machine-learning/crash-course/california-housing-data-description) is based on 1990 census data from California. The dataset is old but still provides a great opportunity to learn about machine learning programming."
      ]
    },
    {
      "cell_type": "markdown",
      "metadata": {
        "id": "xchnxAsaKKqO"
      },
      "source": [
        "## Import relevant modules\n",
        "\n",
        "The following hidden code cell imports the necessary code to run the code in the rest of this Colaboratory."
      ]
    },
    {
      "cell_type": "code",
      "execution_count": 9,
      "metadata": {
        "cellView": "form",
        "id": "9n9_cTveKmse"
      },
      "outputs": [],
      "source": [
        "#@title Import relevant modules\n",
        "import pandas as pd\n",
        "import tensorflow as tf\n",
        "from matplotlib import pyplot as plt\n",
        "\n",
        "# The following lines adjust the granularity of reporting. \n",
        "pd.options.display.max_rows = 10\n",
        "pd.options.display.float_format = \"{:.1f}\".format"
      ]
    },
    {
      "cell_type": "markdown",
      "metadata": {
        "id": "X_TaJhU4KcuY"
      },
      "source": [
        "## The dataset\n",
        "\n",
        "Datasets are often stored on disk or at a URL in [.csv format](https://wikipedia.org/wiki/Comma-separated_values). \n",
        "\n",
        "A well-formed .csv file contains column names in the first row, followed by many rows of data.  A comma divides each value in each row. For example, here are the first five rows of the .csv file holding the California Housing Dataset:\n",
        "\n",
        "```\n",
        "\"longitude\",\"latitude\",\"housing_median_age\",\"total_rooms\",\"total_bedrooms\",\"population\",\"households\",\"median_income\",\"median_house_value\"\n",
        "-114.310000,34.190000,15.000000,5612.000000,1283.000000,1015.000000,472.000000,1.493600,66900.000000\n",
        "-114.470000,34.400000,19.000000,7650.000000,1901.000000,1129.000000,463.000000,1.820000,80100.000000\n",
        "-114.560000,33.690000,17.000000,720.000000,174.000000,333.000000,117.000000,1.650900,85700.000000\n",
        "-114.570000,33.640000,14.000000,1501.000000,337.000000,515.000000,226.000000,3.191700,73400.000000\n",
        "```\n",
        "\n"
      ]
    },
    {
      "cell_type": "markdown",
      "metadata": {
        "id": "sSFQkzNlj-l6"
      },
      "source": [
        "### Load the .csv file into a pandas DataFrame\n",
        "\n",
        "This Colab, like many machine learning programs, gathers the .csv file and stores the data in memory as a pandas Dataframe.  Pandas is an open source Python library.  The primary datatype in pandas is a DataFrame.  You can imagine a pandas DataFrame as a spreadsheet in which each row is identified by a number and each column by a name. Pandas is itself built on another open source Python library called NumPy. If you aren't familiar with these technologies, please view these two quick tutorials:\n",
        "\n",
        "*   [NumPy](https://colab.research.google.com/github/google/eng-edu/blob/main/ml/cc/exercises/numpy_ultraquick_tutorial.ipynb?utm_source=linearregressionreal-colab&utm_medium=colab&utm_campaign=colab-external&utm_content=numpy_tf2-colab&hl=en)\n",
        "*   [Pandas DataFrames](https://colab.research.google.com/github/google/eng-edu/blob/main/ml/cc/exercises/pandas_dataframe_ultraquick_tutorial.ipynb?utm_source=linearregressionreal-colab&utm_medium=colab&utm_campaign=colab-external&utm_content=pandas_tf2-colab&hl=en)\n",
        "\n",
        "The following code cell imports the .csv file into a pandas DataFrame and scales the values in the label (`median_house_value`):"
      ]
    },
    {
      "cell_type": "code",
      "execution_count": 10,
      "metadata": {
        "id": "JZlvdpyYKx7V"
      },
      "outputs": [
        {
          "data": {
            "text/html": [
              "<div>\n",
              "<style scoped>\n",
              "    .dataframe tbody tr th:only-of-type {\n",
              "        vertical-align: middle;\n",
              "    }\n",
              "\n",
              "    .dataframe tbody tr th {\n",
              "        vertical-align: top;\n",
              "    }\n",
              "\n",
              "    .dataframe thead th {\n",
              "        text-align: right;\n",
              "    }\n",
              "</style>\n",
              "<table border=\"1\" class=\"dataframe\">\n",
              "  <thead>\n",
              "    <tr style=\"text-align: right;\">\n",
              "      <th></th>\n",
              "      <th>longitude</th>\n",
              "      <th>latitude</th>\n",
              "      <th>housing_median_age</th>\n",
              "      <th>total_rooms</th>\n",
              "      <th>total_bedrooms</th>\n",
              "      <th>population</th>\n",
              "      <th>households</th>\n",
              "      <th>median_income</th>\n",
              "      <th>median_house_value</th>\n",
              "    </tr>\n",
              "  </thead>\n",
              "  <tbody>\n",
              "    <tr>\n",
              "      <th>0</th>\n",
              "      <td>-114.3</td>\n",
              "      <td>34.2</td>\n",
              "      <td>15.0</td>\n",
              "      <td>5612.0</td>\n",
              "      <td>1283.0</td>\n",
              "      <td>1015.0</td>\n",
              "      <td>472.0</td>\n",
              "      <td>1.5</td>\n",
              "      <td>66.9</td>\n",
              "    </tr>\n",
              "    <tr>\n",
              "      <th>1</th>\n",
              "      <td>-114.5</td>\n",
              "      <td>34.4</td>\n",
              "      <td>19.0</td>\n",
              "      <td>7650.0</td>\n",
              "      <td>1901.0</td>\n",
              "      <td>1129.0</td>\n",
              "      <td>463.0</td>\n",
              "      <td>1.8</td>\n",
              "      <td>80.1</td>\n",
              "    </tr>\n",
              "    <tr>\n",
              "      <th>2</th>\n",
              "      <td>-114.6</td>\n",
              "      <td>33.7</td>\n",
              "      <td>17.0</td>\n",
              "      <td>720.0</td>\n",
              "      <td>174.0</td>\n",
              "      <td>333.0</td>\n",
              "      <td>117.0</td>\n",
              "      <td>1.7</td>\n",
              "      <td>85.7</td>\n",
              "    </tr>\n",
              "    <tr>\n",
              "      <th>3</th>\n",
              "      <td>-114.6</td>\n",
              "      <td>33.6</td>\n",
              "      <td>14.0</td>\n",
              "      <td>1501.0</td>\n",
              "      <td>337.0</td>\n",
              "      <td>515.0</td>\n",
              "      <td>226.0</td>\n",
              "      <td>3.2</td>\n",
              "      <td>73.4</td>\n",
              "    </tr>\n",
              "    <tr>\n",
              "      <th>4</th>\n",
              "      <td>-114.6</td>\n",
              "      <td>33.6</td>\n",
              "      <td>20.0</td>\n",
              "      <td>1454.0</td>\n",
              "      <td>326.0</td>\n",
              "      <td>624.0</td>\n",
              "      <td>262.0</td>\n",
              "      <td>1.9</td>\n",
              "      <td>65.5</td>\n",
              "    </tr>\n",
              "  </tbody>\n",
              "</table>\n",
              "</div>"
            ],
            "text/plain": [
              "   longitude  latitude  housing_median_age  total_rooms  total_bedrooms  \\\n",
              "0     -114.3      34.2                15.0       5612.0          1283.0   \n",
              "1     -114.5      34.4                19.0       7650.0          1901.0   \n",
              "2     -114.6      33.7                17.0        720.0           174.0   \n",
              "3     -114.6      33.6                14.0       1501.0           337.0   \n",
              "4     -114.6      33.6                20.0       1454.0           326.0   \n",
              "\n",
              "   population  households  median_income  median_house_value  \n",
              "0      1015.0       472.0            1.5                66.9  \n",
              "1      1129.0       463.0            1.8                80.1  \n",
              "2       333.0       117.0            1.7                85.7  \n",
              "3       515.0       226.0            3.2                73.4  \n",
              "4       624.0       262.0            1.9                65.5  "
            ]
          },
          "execution_count": 10,
          "metadata": {},
          "output_type": "execute_result"
        }
      ],
      "source": [
        "# Import the dataset.\n",
        "training_df = pd.read_csv(filepath_or_buffer=\"https://download.mlcc.google.com/mledu-datasets/california_housing_train.csv\")\n",
        "\n",
        "# Scale the label.\n",
        "training_df[\"median_house_value\"] /= 1000.0\n",
        "\n",
        "# Print the first rows of the pandas DataFrame.\n",
        "training_df.head()"
      ]
    },
    {
      "cell_type": "markdown",
      "metadata": {
        "id": "5inxx49n4U9u"
      },
      "source": [
        "Scaling `median_house_value` puts the value of each house in units of thousands. Scaling will keep loss values and learning rates in a friendlier range.  \n",
        "\n",
        "Although scaling a label is usually *not* essential, scaling features in a multi-feature model usually *is* essential."
      ]
    },
    {
      "cell_type": "markdown",
      "metadata": {
        "id": "yMysi6-3IAbu"
      },
      "source": [
        "## Examine the dataset\n",
        "\n",
        "A large part of most machine learning projects is getting to know your data. The pandas API provides a `describe` function that outputs the following statistics about every column in the DataFrame:\n",
        "\n",
        "* `count`, which is the number of rows in that column. Ideally, `count` contains the same value for every column. \n",
        "\n",
        "* `mean` and `std`, which contain the mean and standard deviation of the values in each column. \n",
        "\n",
        "* `min` and `max`, which contain the lowest and highest values in each column.\n",
        "\n",
        "* `25%`, `50%`, `75%`, which contain various [quantiles](https://developers.google.com/machine-learning/glossary/#quantile)."
      ]
    },
    {
      "cell_type": "code",
      "execution_count": 11,
      "metadata": {
        "id": "rnUSYKw4LUuh"
      },
      "outputs": [
        {
          "data": {
            "text/html": [
              "<div>\n",
              "<style scoped>\n",
              "    .dataframe tbody tr th:only-of-type {\n",
              "        vertical-align: middle;\n",
              "    }\n",
              "\n",
              "    .dataframe tbody tr th {\n",
              "        vertical-align: top;\n",
              "    }\n",
              "\n",
              "    .dataframe thead th {\n",
              "        text-align: right;\n",
              "    }\n",
              "</style>\n",
              "<table border=\"1\" class=\"dataframe\">\n",
              "  <thead>\n",
              "    <tr style=\"text-align: right;\">\n",
              "      <th></th>\n",
              "      <th>longitude</th>\n",
              "      <th>latitude</th>\n",
              "      <th>housing_median_age</th>\n",
              "      <th>total_rooms</th>\n",
              "      <th>total_bedrooms</th>\n",
              "      <th>population</th>\n",
              "      <th>households</th>\n",
              "      <th>median_income</th>\n",
              "      <th>median_house_value</th>\n",
              "    </tr>\n",
              "  </thead>\n",
              "  <tbody>\n",
              "    <tr>\n",
              "      <th>count</th>\n",
              "      <td>17000.0</td>\n",
              "      <td>17000.0</td>\n",
              "      <td>17000.0</td>\n",
              "      <td>17000.0</td>\n",
              "      <td>17000.0</td>\n",
              "      <td>17000.0</td>\n",
              "      <td>17000.0</td>\n",
              "      <td>17000.0</td>\n",
              "      <td>17000.0</td>\n",
              "    </tr>\n",
              "    <tr>\n",
              "      <th>mean</th>\n",
              "      <td>-119.6</td>\n",
              "      <td>35.6</td>\n",
              "      <td>28.6</td>\n",
              "      <td>2643.7</td>\n",
              "      <td>539.4</td>\n",
              "      <td>1429.6</td>\n",
              "      <td>501.2</td>\n",
              "      <td>3.9</td>\n",
              "      <td>207.3</td>\n",
              "    </tr>\n",
              "    <tr>\n",
              "      <th>std</th>\n",
              "      <td>2.0</td>\n",
              "      <td>2.1</td>\n",
              "      <td>12.6</td>\n",
              "      <td>2179.9</td>\n",
              "      <td>421.5</td>\n",
              "      <td>1147.9</td>\n",
              "      <td>384.5</td>\n",
              "      <td>1.9</td>\n",
              "      <td>116.0</td>\n",
              "    </tr>\n",
              "    <tr>\n",
              "      <th>min</th>\n",
              "      <td>-124.3</td>\n",
              "      <td>32.5</td>\n",
              "      <td>1.0</td>\n",
              "      <td>2.0</td>\n",
              "      <td>1.0</td>\n",
              "      <td>3.0</td>\n",
              "      <td>1.0</td>\n",
              "      <td>0.5</td>\n",
              "      <td>15.0</td>\n",
              "    </tr>\n",
              "    <tr>\n",
              "      <th>25%</th>\n",
              "      <td>-121.8</td>\n",
              "      <td>33.9</td>\n",
              "      <td>18.0</td>\n",
              "      <td>1462.0</td>\n",
              "      <td>297.0</td>\n",
              "      <td>790.0</td>\n",
              "      <td>282.0</td>\n",
              "      <td>2.6</td>\n",
              "      <td>119.4</td>\n",
              "    </tr>\n",
              "    <tr>\n",
              "      <th>50%</th>\n",
              "      <td>-118.5</td>\n",
              "      <td>34.2</td>\n",
              "      <td>29.0</td>\n",
              "      <td>2127.0</td>\n",
              "      <td>434.0</td>\n",
              "      <td>1167.0</td>\n",
              "      <td>409.0</td>\n",
              "      <td>3.5</td>\n",
              "      <td>180.4</td>\n",
              "    </tr>\n",
              "    <tr>\n",
              "      <th>75%</th>\n",
              "      <td>-118.0</td>\n",
              "      <td>37.7</td>\n",
              "      <td>37.0</td>\n",
              "      <td>3151.2</td>\n",
              "      <td>648.2</td>\n",
              "      <td>1721.0</td>\n",
              "      <td>605.2</td>\n",
              "      <td>4.8</td>\n",
              "      <td>265.0</td>\n",
              "    </tr>\n",
              "    <tr>\n",
              "      <th>max</th>\n",
              "      <td>-114.3</td>\n",
              "      <td>42.0</td>\n",
              "      <td>52.0</td>\n",
              "      <td>37937.0</td>\n",
              "      <td>6445.0</td>\n",
              "      <td>35682.0</td>\n",
              "      <td>6082.0</td>\n",
              "      <td>15.0</td>\n",
              "      <td>500.0</td>\n",
              "    </tr>\n",
              "  </tbody>\n",
              "</table>\n",
              "</div>"
            ],
            "text/plain": [
              "       longitude  latitude  housing_median_age  total_rooms  total_bedrooms  \\\n",
              "count    17000.0   17000.0             17000.0      17000.0         17000.0   \n",
              "mean      -119.6      35.6                28.6       2643.7           539.4   \n",
              "std          2.0       2.1                12.6       2179.9           421.5   \n",
              "min       -124.3      32.5                 1.0          2.0             1.0   \n",
              "25%       -121.8      33.9                18.0       1462.0           297.0   \n",
              "50%       -118.5      34.2                29.0       2127.0           434.0   \n",
              "75%       -118.0      37.7                37.0       3151.2           648.2   \n",
              "max       -114.3      42.0                52.0      37937.0          6445.0   \n",
              "\n",
              "       population  households  median_income  median_house_value  \n",
              "count     17000.0     17000.0        17000.0             17000.0  \n",
              "mean       1429.6       501.2            3.9               207.3  \n",
              "std        1147.9       384.5            1.9               116.0  \n",
              "min           3.0         1.0            0.5                15.0  \n",
              "25%         790.0       282.0            2.6               119.4  \n",
              "50%        1167.0       409.0            3.5               180.4  \n",
              "75%        1721.0       605.2            4.8               265.0  \n",
              "max       35682.0      6082.0           15.0               500.0  "
            ]
          },
          "execution_count": 11,
          "metadata": {},
          "output_type": "execute_result"
        }
      ],
      "source": [
        "# Get statistics on the dataset.\n",
        "training_df.describe()\n"
      ]
    },
    {
      "cell_type": "markdown",
      "metadata": {
        "id": "f9pcW_Yjtoo8"
      },
      "source": [
        "### Task 1: Identify anomalies in the dataset\n",
        "\n",
        "Do you see any anomalies (strange values) in the data? "
      ]
    },
    {
      "cell_type": "code",
      "execution_count": 12,
      "metadata": {
        "cellView": "form",
        "id": "UoS7NWRXEs1H"
      },
      "outputs": [],
      "source": [
        "#@title Double-click to view a possible answer.\n",
        "\n",
        "# The maximum value (max) of several columns seems very\n",
        "# high compared to the other quantiles. For example,\n",
        "# example the total_rooms column. Given the quantile\n",
        "# values (25%, 50%, and 75%), you might expect the \n",
        "# max value of total_rooms to be approximately \n",
        "# 5,000 or possibly 10,000. However, the max value \n",
        "# is actually 37,937.\n",
        "\n",
        "# When you see anomalies in a column, become more careful\n",
        "# about using that column as a feature. That said,\n",
        "# anomalies in potential features sometimes mirror \n",
        "# anomalies in the label, which could make the column \n",
        "# be (or seem to be) a powerful feature.\n",
        "# Also, as you will see later in the course, you \n",
        "# might be able to represent (pre-process) raw data \n",
        "# in order to make columns into useful features."
      ]
    },
    {
      "cell_type": "markdown",
      "metadata": {
        "id": "3014ezH3C7jT"
      },
      "source": [
        "## Define functions that build and train a model\n",
        "\n",
        "The following code defines two functions:\n",
        "\n",
        "  * `build_model(my_learning_rate)`, which builds a randomly-initialized model.\n",
        "  * `train_model(model, feature, label, epochs)`, which trains the model from the examples (feature and label) you pass. \n",
        "\n",
        "Since you don't need to understand model building code right now, we've hidden this code cell.  You may optionally double-click the following headline to see the code that builds and trains a model."
      ]
    },
    {
      "cell_type": "code",
      "execution_count": 13,
      "metadata": {
        "cellView": "form",
        "id": "pedD5GhlDC-y"
      },
      "outputs": [
        {
          "name": "stdout",
          "output_type": "stream",
          "text": [
            "Defined the build_model and train_model functions.\n"
          ]
        }
      ],
      "source": [
        "#@title Define the functions that build and train a model\n",
        "def build_model(my_learning_rate):\n",
        "  \"\"\"Create and compile a simple linear regression model.\"\"\"\n",
        "  # Most simple tf.keras models are sequential.\n",
        "  model = tf.keras.models.Sequential()\n",
        "\n",
        "  # Describe the topography of the model.\n",
        "  # The topography of a simple linear regression model\n",
        "  # is a single node in a single layer.\n",
        "  model.add(tf.keras.layers.Dense(units=1, \n",
        "                                  input_shape=(1,)))\n",
        "\n",
        "  # Compile the model topography into code that TensorFlow can efficiently\n",
        "  # execute. Configure training to minimize the model's mean squared error. \n",
        "  model.compile(optimizer=tf.keras.optimizers.RMSprop(learning_rate=my_learning_rate),\n",
        "                loss=\"mean_squared_error\",\n",
        "                metrics=[tf.keras.metrics.RootMeanSquaredError()])\n",
        "\n",
        "  return model        \n",
        "\n",
        "\n",
        "def train_model(model, df, feature, label, epochs, batch_size):\n",
        "  \"\"\"Train the model by feeding it data.\"\"\"\n",
        "\n",
        "  # Feed the model the feature and the label.\n",
        "  # The model will train for the specified number of epochs. \n",
        "  history = model.fit(x=df[feature],\n",
        "                      y=df[label],\n",
        "                      batch_size=batch_size,\n",
        "                      epochs=epochs)\n",
        "\n",
        "  # Gather the trained model's weight and bias.\n",
        "  trained_weight = model.get_weights()[0]\n",
        "  trained_bias = model.get_weights()[1]\n",
        "\n",
        "  # The list of epochs is stored separately from the rest of history.\n",
        "  epochs = history.epoch\n",
        "  \n",
        "  # Isolate the error for each epoch.\n",
        "  hist = pd.DataFrame(history.history)\n",
        "\n",
        "  # To track the progression of training, we're going to take a snapshot\n",
        "  # of the model's root mean squared error at each epoch. \n",
        "  rmse = hist[\"root_mean_squared_error\"]\n",
        "\n",
        "  return trained_weight, trained_bias, epochs, rmse\n",
        "\n",
        "print(\"Defined the build_model and train_model functions.\")"
      ]
    },
    {
      "cell_type": "markdown",
      "metadata": {
        "id": "Ak_TMAzGOIFq"
      },
      "source": [
        "## Define plotting functions\n",
        "\n",
        "The following [matplotlib](https://developers.google.com/machine-learning/glossary/#matplotlib) functions create the following plots:\n",
        "\n",
        "*  a scatter plot of the feature vs. the label, and a line showing the output of the trained model\n",
        "*  a loss curve\n",
        "\n",
        "You may optionally double-click the headline to see the matplotlib code, but note that writing matplotlib code is not an important part of learning ML programming."
      ]
    },
    {
      "cell_type": "code",
      "execution_count": 14,
      "metadata": {
        "cellView": "form",
        "id": "QF0BFRXTOeR3"
      },
      "outputs": [
        {
          "name": "stdout",
          "output_type": "stream",
          "text": [
            "Defined the plot_the_model and plot_the_loss_curve functions.\n"
          ]
        }
      ],
      "source": [
        "#@title Define the plotting functions\n",
        "def plot_the_model(trained_weight, trained_bias, feature, label):\n",
        "  \"\"\"Plot the trained model against 200 random training examples.\"\"\"\n",
        "\n",
        "  # Label the axes.\n",
        "  plt.xlabel(feature)\n",
        "  plt.ylabel(label)\n",
        "\n",
        "  # Create a scatter plot from 200 random points of the dataset.\n",
        "  random_examples = training_df.sample(n=200)\n",
        "  plt.scatter(random_examples[feature], random_examples[label])\n",
        "\n",
        "  # Create a red line representing the model. The red line starts\n",
        "  # at coordinates (x0, y0) and ends at coordinates (x1, y1).\n",
        "  x0 = 0\n",
        "  y0 = trained_bias\n",
        "  x1 = 10000\n",
        "  y1 = trained_bias + (trained_weight * x1)\n",
        "  plt.plot([x0, x1], [y0, y1], c='r')\n",
        "\n",
        "  # Render the scatter plot and the red line.\n",
        "  plt.show()\n",
        "\n",
        "\n",
        "def plot_the_loss_curve(epochs, rmse):\n",
        "  \"\"\"Plot a curve of loss vs. epoch.\"\"\"\n",
        "\n",
        "  plt.figure()\n",
        "  plt.xlabel(\"Epoch\")\n",
        "  plt.ylabel(\"Root Mean Squared Error\")\n",
        "\n",
        "  plt.plot(epochs, rmse, label=\"Loss\")\n",
        "  plt.legend()\n",
        "  plt.ylim([rmse.min()*0.97, rmse.max()])\n",
        "  plt.show()  \n",
        "\n",
        "print(\"Defined the plot_the_model and plot_the_loss_curve functions.\")"
      ]
    },
    {
      "cell_type": "markdown",
      "metadata": {
        "id": "D-IXYVfvM4gD"
      },
      "source": [
        "## Call the model functions\n",
        "\n",
        "An important part of machine learning is determining which [features](https://developers.google.com/machine-learning/glossary/#feature) correlate with the [label](https://developers.google.com/machine-learning/glossary/#label). For example, real-life home-value prediction models typically rely on hundreds of features and synthetic features. However, this model relies on only one feature. For now, you'll arbitrarily use `total_rooms` as that feature. \n"
      ]
    },
    {
      "cell_type": "code",
      "execution_count": 15,
      "metadata": {
        "cellView": "both",
        "id": "nj3v5EKQFY8s"
      },
      "outputs": [
        {
          "name": "stdout",
          "output_type": "stream",
          "text": [
            "Epoch 1/30\n",
            "567/567 [==============================] - 1s 781us/step - loss: 766064.0000 - root_mean_squared_error: 875.2508\n",
            "Epoch 2/30\n",
            "567/567 [==============================] - 0s 662us/step - loss: 28092.8887 - root_mean_squared_error: 167.6093\n",
            "Epoch 3/30\n",
            "567/567 [==============================] - 0s 773us/step - loss: 27160.3906 - root_mean_squared_error: 164.8041\n",
            "Epoch 4/30\n",
            "567/567 [==============================] - 0s 745us/step - loss: 26599.9219 - root_mean_squared_error: 163.0948\n",
            "Epoch 5/30\n",
            "567/567 [==============================] - 0s 716us/step - loss: 25941.9336 - root_mean_squared_error: 161.0650\n",
            "Epoch 6/30\n",
            "567/567 [==============================] - 0s 738us/step - loss: 25113.4883 - root_mean_squared_error: 158.4724\n",
            "Epoch 7/30\n",
            "567/567 [==============================] - 0s 734us/step - loss: 24428.9883 - root_mean_squared_error: 156.2978\n",
            "Epoch 8/30\n",
            "567/567 [==============================] - 0s 698us/step - loss: 24035.5195 - root_mean_squared_error: 155.0339\n",
            "Epoch 9/30\n",
            "567/567 [==============================] - 0s 747us/step - loss: 23411.5488 - root_mean_squared_error: 153.0083\n",
            "Epoch 10/30\n",
            "567/567 [==============================] - 0s 717us/step - loss: 22786.6953 - root_mean_squared_error: 150.9526\n",
            "Epoch 11/30\n",
            "567/567 [==============================] - 0s 707us/step - loss: 22202.3789 - root_mean_squared_error: 149.0046\n",
            "Epoch 12/30\n",
            "567/567 [==============================] - 0s 715us/step - loss: 21605.6152 - root_mean_squared_error: 146.9885\n",
            "Epoch 13/30\n",
            "567/567 [==============================] - 0s 726us/step - loss: 21085.0176 - root_mean_squared_error: 145.2068\n",
            "Epoch 14/30\n",
            "567/567 [==============================] - 0s 730us/step - loss: 20435.3516 - root_mean_squared_error: 142.9523\n",
            "Epoch 15/30\n",
            "567/567 [==============================] - 0s 737us/step - loss: 20012.3262 - root_mean_squared_error: 141.4649\n",
            "Epoch 16/30\n",
            "567/567 [==============================] - 0s 723us/step - loss: 19576.8672 - root_mean_squared_error: 139.9174\n",
            "Epoch 17/30\n",
            "567/567 [==============================] - 0s 707us/step - loss: 19147.5254 - root_mean_squared_error: 138.3746\n",
            "Epoch 18/30\n",
            "567/567 [==============================] - 0s 681us/step - loss: 18831.8359 - root_mean_squared_error: 137.2291\n",
            "Epoch 19/30\n",
            "567/567 [==============================] - 0s 760us/step - loss: 18289.0820 - root_mean_squared_error: 135.2371\n",
            "Epoch 20/30\n",
            "567/567 [==============================] - 0s 727us/step - loss: 17923.6074 - root_mean_squared_error: 133.8791\n",
            "Epoch 21/30\n",
            "567/567 [==============================] - 0s 717us/step - loss: 17733.0918 - root_mean_squared_error: 133.1656\n",
            "Epoch 22/30\n",
            "567/567 [==============================] - 0s 761us/step - loss: 17374.8301 - root_mean_squared_error: 131.8136\n",
            "Epoch 23/30\n",
            "567/567 [==============================] - 0s 705us/step - loss: 16988.0684 - root_mean_squared_error: 130.3383\n",
            "Epoch 24/30\n",
            "567/567 [==============================] - 0s 766us/step - loss: 16757.1465 - root_mean_squared_error: 129.4494\n",
            "Epoch 25/30\n",
            "567/567 [==============================] - 0s 736us/step - loss: 16459.5645 - root_mean_squared_error: 128.2948\n",
            "Epoch 26/30\n",
            "567/567 [==============================] - 0s 724us/step - loss: 16174.7520 - root_mean_squared_error: 127.1800\n",
            "Epoch 27/30\n",
            "567/567 [==============================] - 0s 733us/step - loss: 15958.7402 - root_mean_squared_error: 126.3279\n",
            "Epoch 28/30\n",
            "567/567 [==============================] - 0s 701us/step - loss: 15727.3145 - root_mean_squared_error: 125.4086\n",
            "Epoch 29/30\n",
            "567/567 [==============================] - 0s 813us/step - loss: 15543.0146 - root_mean_squared_error: 124.6716\n",
            "Epoch 30/30\n",
            "567/567 [==============================] - 0s 758us/step - loss: 15446.4141 - root_mean_squared_error: 124.2836\n",
            "\n",
            "The learned weight for your model is 0.0273\n",
            "The learned bias for your model is 130.5923\n",
            "\n"
          ]
        },
        {
          "name": "stderr",
          "output_type": "stream",
          "text": [
            "/home/kaicsiro/.conda/envs/GoogleML/lib/python3.7/site-packages/numpy/core/shape_base.py:65: VisibleDeprecationWarning: Creating an ndarray from ragged nested sequences (which is a list-or-tuple of lists-or-tuples-or ndarrays with different lengths or shapes) is deprecated. If you meant to do this, you must specify 'dtype=object' when creating the ndarray.\n",
            "  ary = asanyarray(ary)\n"
          ]
        },
        {
          "data": {
            "image/png": "[encoded data removed]",
            "text/plain": [
              "<Figure size 640x480 with 1 Axes>"
            ]
          },
          "metadata": {},
          "output_type": "display_data"
        },
        {
          "data": {
            "image/png": "[encoded data removed]",
            "text/plain": [
              "<Figure size 640x480 with 1 Axes>"
            ]
          },
          "metadata": {},
          "output_type": "display_data"
        }
      ],
      "source": [
        "# The following variables are the hyperparameters.\n",
        "learning_rate = 0.01\n",
        "epochs = 30\n",
        "batch_size = 30\n",
        "\n",
        "# Specify the feature and the label.\n",
        "my_feature = \"total_rooms\"  # the total number of rooms on a specific city block.\n",
        "my_label=\"median_house_value\" # the median value of a house on a specific city block.\n",
        "# That is, you're going to create a model that predicts house value based \n",
        "# solely on total_rooms.  \n",
        "\n",
        "# Discard any pre-existing version of the model.\n",
        "my_model = None\n",
        "\n",
        "# Invoke the functions.\n",
        "my_model = build_model(learning_rate)\n",
        "weight, bias, epochs, rmse = train_model(my_model, training_df, \n",
        "                                         my_feature, my_label,\n",
        "                                         epochs, batch_size)\n",
        "\n",
        "print(\"\\nThe learned weight for your model is %.4f\" % weight)\n",
        "print(\"The learned bias for your model is %.4f\\n\" % bias )\n",
        "\n",
        "plot_the_model(weight, bias, my_feature, my_label)\n",
        "plot_the_loss_curve(epochs, rmse)"
      ]
    },
    {
      "cell_type": "markdown",
      "metadata": {
        "id": "Btp8zUNbYOcd"
      },
      "source": [
        "A certain amount of randomness plays into training a model. Consequently, you'll get different results each time you train the model. That said, given the dataset and the hyperparameters, the trained model will generally do a poor job describing the feature's relation to the label."
      ]
    },
    {
      "cell_type": "markdown",
      "metadata": {
        "id": "1xNqWWos_zyk"
      },
      "source": [
        "## Use the model to make predictions\n",
        "\n",
        "You can use the trained model to make predictions. In practice, [you should make predictions on examples that are not used in training](https://developers.google.com/machine-learning/crash-course/training-and-test-sets/splitting-data). However, for this exercise, you'll just work with a subset of the same training dataset. A later Colab exercise will explore ways to make predictions on examples not used in training.\n",
        "\n",
        "First, run the following code to define the house prediction function:"
      ]
    },
    {
      "cell_type": "code",
      "execution_count": 1,
      "metadata": {
        "id": "nH63BmncAcab"
      },
      "outputs": [],
      "source": [
        "def predict_house_values(n, feature, label):\n",
        "  \"\"\"Predict house values based on a feature.\"\"\"\n",
        "\n",
        "  batch = training_df[feature][10000:10000 + n]\n",
        "  predicted_values = my_model.predict_on_batch(x=batch)\n",
        "\n",
        "  print(\"feature   label          predicted\")\n",
        "  print(\"  value   value          value\")\n",
        "  print(\"          in thousand$   in thousand$\")\n",
        "  print(\"--------------------------------------\")\n",
        "  for i in range(n):\n",
        "    print (\"%5.0f %6.0f %15.0f\" % (training_df[feature][10000 + i],\n",
        "                                   training_df[label][10000 + i],\n",
        "                                   predicted_values[i][0] ))"
      ]
    },
    {
      "cell_type": "markdown",
      "metadata": {
        "id": "NbBNQujU5WjK"
      },
      "source": [
        "Now, invoke the house prediction function on 10 examples:"
      ]
    },
    {
      "cell_type": "code",
      "execution_count": 17,
      "metadata": {
        "id": "Y_0DGBt0Kz_N"
      },
      "outputs": [
        {
          "name": "stdout",
          "output_type": "stream",
          "text": [
            "feature   label          predicted\n",
            "  value   value          value\n",
            "          in thousand$   in thousand$\n",
            "--------------------------------------\n",
            " 1960     53             184\n",
            " 3400     92             223\n",
            " 3677     69             231\n",
            " 2202     62             191\n",
            " 2403     80             196\n",
            " 5652    295             285\n",
            " 3318    500             221\n",
            " 2552    342             200\n",
            " 1364    118             168\n",
            " 3468    128             225\n"
          ]
        }
      ],
      "source": [
        "predict_house_values(10, my_feature, my_label)"
      ]
    },
    {
      "cell_type": "markdown",
      "metadata": {
        "id": "-gGaqArcpqY3"
      },
      "source": [
        "### Task 2: Judge the predictive power of the model\n",
        "\n",
        "Look at the preceding table. How close is the predicted value to the label value?  In other words, does your model accurately predict house values?  "
      ]
    },
    {
      "cell_type": "code",
      "execution_count": 18,
      "metadata": {
        "cellView": "form",
        "id": "yVpjhUFm9uID"
      },
      "outputs": [],
      "source": [
        "#@title Double-click to view the answer.\n",
        "\n",
        "# Most of the predicted values differ significantly\n",
        "# from the label value, so the trained model probably \n",
        "# doesn't have much predictive power. However, the\n",
        "# first 10 examples might not be representative of \n",
        "# the rest of the examples.  "
      ]
    },
    {
      "cell_type": "markdown",
      "metadata": {
        "id": "wLoqis3IUPSd"
      },
      "source": [
        "## Task 3: Try a different feature\n",
        "\n",
        "The `total_rooms` feature had only a little predictive power. Would a different feature have greater predictive power?  Try using `population` as the feature instead of `total_rooms`. \n",
        "\n",
        "Note: When you change features, you might also need to change the hyperparameters."
      ]
    },
    {
      "cell_type": "code",
      "execution_count": 19,
      "metadata": {
        "id": "H0ab6HD4ZO75"
      },
      "outputs": [
        {
          "name": "stdout",
          "output_type": "stream",
          "text": [
            "Epoch 1/100\n",
            "340/340 [==============================] - 0s 719us/step - loss: 201148.2969 - root_mean_squared_error: 448.4956\n",
            "Epoch 2/100\n",
            "340/340 [==============================] - 0s 729us/step - loss: 30934.5391 - root_mean_squared_error: 175.8822\n",
            "Epoch 3/100\n",
            "340/340 [==============================] - 0s 737us/step - loss: 28766.3262 - root_mean_squared_error: 169.6064\n",
            "Epoch 4/100\n",
            "340/340 [==============================] - 0s 670us/step - loss: 27337.8027 - root_mean_squared_error: 165.3415\n",
            "Epoch 5/100\n",
            "340/340 [==============================] - 0s 737us/step - loss: 25208.6133 - root_mean_squared_error: 158.7722\n",
            "Epoch 6/100\n",
            "340/340 [==============================] - 0s 706us/step - loss: 23557.3027 - root_mean_squared_error: 153.4839\n",
            "Epoch 7/100\n",
            "340/340 [==============================] - 0s 853us/step - loss: 22297.8750 - root_mean_squared_error: 149.3247\n",
            "Epoch 8/100\n",
            "340/340 [==============================] - 0s 764us/step - loss: 20953.6680 - root_mean_squared_error: 144.7538\n",
            "Epoch 9/100\n",
            "340/340 [==============================] - 0s 731us/step - loss: 20589.5176 - root_mean_squared_error: 143.4905\n",
            "Epoch 10/100\n",
            "340/340 [==============================] - 0s 712us/step - loss: 18852.3555 - root_mean_squared_error: 137.3039\n",
            "Epoch 11/100\n",
            "340/340 [==============================] - 0s 720us/step - loss: 18415.6250 - root_mean_squared_error: 135.7042\n",
            "Epoch 12/100\n",
            "340/340 [==============================] - 0s 727us/step - loss: 18048.0977 - root_mean_squared_error: 134.3432\n",
            "Epoch 13/100\n",
            "340/340 [==============================] - 0s 706us/step - loss: 17657.3535 - root_mean_squared_error: 132.8810\n",
            "Epoch 14/100\n",
            "340/340 [==============================] - 0s 663us/step - loss: 17019.5586 - root_mean_squared_error: 130.4590\n",
            "Epoch 15/100\n",
            "340/340 [==============================] - 0s 681us/step - loss: 16959.7031 - root_mean_squared_error: 130.2294\n",
            "Epoch 16/100\n",
            "340/340 [==============================] - 0s 714us/step - loss: 16435.6445 - root_mean_squared_error: 128.2016\n",
            "Epoch 17/100\n",
            "340/340 [==============================] - 0s 718us/step - loss: 16276.9072 - root_mean_squared_error: 127.5810\n",
            "Epoch 18/100\n",
            "340/340 [==============================] - 0s 689us/step - loss: 16052.0791 - root_mean_squared_error: 126.6968\n",
            "Epoch 19/100\n",
            "340/340 [==============================] - 0s 724us/step - loss: 16007.4336 - root_mean_squared_error: 126.5205\n",
            "Epoch 20/100\n",
            "340/340 [==============================] - 0s 689us/step - loss: 16092.8848 - root_mean_squared_error: 126.8577\n",
            "Epoch 21/100\n",
            "340/340 [==============================] - 0s 692us/step - loss: 16005.8506 - root_mean_squared_error: 126.5142\n",
            "Epoch 22/100\n",
            "340/340 [==============================] - 0s 692us/step - loss: 15902.7900 - root_mean_squared_error: 126.1063\n",
            "Epoch 23/100\n",
            "340/340 [==============================] - 0s 695us/step - loss: 15542.8408 - root_mean_squared_error: 124.6709\n",
            "Epoch 24/100\n",
            "340/340 [==============================] - 0s 672us/step - loss: 15837.5977 - root_mean_squared_error: 125.8475\n",
            "Epoch 25/100\n",
            "340/340 [==============================] - 0s 653us/step - loss: 15666.3115 - root_mean_squared_error: 125.1651\n",
            "Epoch 26/100\n",
            "340/340 [==============================] - 0s 688us/step - loss: 15826.5303 - root_mean_squared_error: 125.8035\n",
            "Epoch 27/100\n",
            "340/340 [==============================] - 0s 693us/step - loss: 15751.6055 - root_mean_squared_error: 125.5054\n",
            "Epoch 28/100\n",
            "340/340 [==============================] - 0s 678us/step - loss: 15697.8691 - root_mean_squared_error: 125.2911\n",
            "Epoch 29/100\n",
            "340/340 [==============================] - 0s 685us/step - loss: 15854.3662 - root_mean_squared_error: 125.9141\n",
            "Epoch 30/100\n",
            "340/340 [==============================] - 0s 708us/step - loss: 15481.0234 - root_mean_squared_error: 124.4228\n",
            "Epoch 31/100\n",
            "340/340 [==============================] - 0s 674us/step - loss: 15825.7959 - root_mean_squared_error: 125.8006\n",
            "Epoch 32/100\n",
            "340/340 [==============================] - 0s 684us/step - loss: 15758.9424 - root_mean_squared_error: 125.5346\n",
            "Epoch 33/100\n",
            "340/340 [==============================] - 0s 660us/step - loss: 15701.2666 - root_mean_squared_error: 125.3047\n",
            "Epoch 34/100\n",
            "340/340 [==============================] - 0s 618us/step - loss: 15777.9502 - root_mean_squared_error: 125.6103\n",
            "Epoch 35/100\n",
            "340/340 [==============================] - 0s 638us/step - loss: 15809.6299 - root_mean_squared_error: 125.7364\n",
            "Epoch 36/100\n",
            "340/340 [==============================] - 0s 698us/step - loss: 15686.0908 - root_mean_squared_error: 125.2441\n",
            "Epoch 37/100\n",
            "340/340 [==============================] - 0s 770us/step - loss: 15654.0488 - root_mean_squared_error: 125.1161\n",
            "Epoch 38/100\n",
            "340/340 [==============================] - 0s 743us/step - loss: 15758.2607 - root_mean_squared_error: 125.5319\n",
            "Epoch 39/100\n",
            "340/340 [==============================] - 0s 694us/step - loss: 15532.6572 - root_mean_squared_error: 124.6301\n",
            "Epoch 40/100\n",
            "340/340 [==============================] - 0s 771us/step - loss: 15673.5820 - root_mean_squared_error: 125.1942\n",
            "Epoch 41/100\n",
            "340/340 [==============================] - 0s 799us/step - loss: 15601.3838 - root_mean_squared_error: 124.9055\n",
            "Epoch 42/100\n",
            "340/340 [==============================] - 0s 740us/step - loss: 15998.1738 - root_mean_squared_error: 126.4839\n",
            "Epoch 43/100\n",
            "340/340 [==============================] - 0s 680us/step - loss: 15750.6328 - root_mean_squared_error: 125.5015\n",
            "Epoch 44/100\n",
            "340/340 [==============================] - 0s 734us/step - loss: 15800.7305 - root_mean_squared_error: 125.7010\n",
            "Epoch 45/100\n",
            "340/340 [==============================] - 0s 713us/step - loss: 16046.3789 - root_mean_squared_error: 126.6743\n",
            "Epoch 46/100\n",
            "340/340 [==============================] - 0s 736us/step - loss: 15505.5674 - root_mean_squared_error: 124.5214\n",
            "Epoch 47/100\n",
            "340/340 [==============================] - 0s 722us/step - loss: 15775.6562 - root_mean_squared_error: 125.6012\n",
            "Epoch 48/100\n",
            "340/340 [==============================] - 0s 747us/step - loss: 15674.7646 - root_mean_squared_error: 125.1989\n",
            "Epoch 49/100\n",
            "340/340 [==============================] - 0s 761us/step - loss: 15938.2871 - root_mean_squared_error: 126.2469\n",
            "Epoch 50/100\n",
            "340/340 [==============================] - 0s 700us/step - loss: 15952.0625 - root_mean_squared_error: 126.3015\n",
            "Epoch 51/100\n",
            "340/340 [==============================] - 0s 683us/step - loss: 15699.3994 - root_mean_squared_error: 125.2972\n",
            "Epoch 52/100\n",
            "340/340 [==============================] - 0s 722us/step - loss: 15685.8818 - root_mean_squared_error: 125.2433\n",
            "Epoch 53/100\n",
            "340/340 [==============================] - 0s 795us/step - loss: 15645.3379 - root_mean_squared_error: 125.0813\n",
            "Epoch 54/100\n",
            "340/340 [==============================] - 0s 793us/step - loss: 15893.3682 - root_mean_squared_error: 126.0689\n",
            "Epoch 55/100\n",
            "340/340 [==============================] - 0s 691us/step - loss: 16031.7588 - root_mean_squared_error: 126.6166\n",
            "Epoch 56/100\n",
            "340/340 [==============================] - 0s 788us/step - loss: 15636.8193 - root_mean_squared_error: 125.0473\n",
            "Epoch 57/100\n",
            "340/340 [==============================] - 0s 716us/step - loss: 15615.2139 - root_mean_squared_error: 124.9608\n",
            "Epoch 58/100\n",
            "340/340 [==============================] - 0s 721us/step - loss: 15788.7168 - root_mean_squared_error: 125.6532\n",
            "Epoch 59/100\n",
            "340/340 [==============================] - 0s 703us/step - loss: 15985.2383 - root_mean_squared_error: 126.4327\n",
            "Epoch 60/100\n",
            "340/340 [==============================] - 0s 677us/step - loss: 15567.4844 - root_mean_squared_error: 124.7697\n",
            "Epoch 61/100\n",
            "340/340 [==============================] - 0s 727us/step - loss: 15942.8350 - root_mean_squared_error: 126.2649\n",
            "Epoch 62/100\n",
            "340/340 [==============================] - 0s 702us/step - loss: 15538.6631 - root_mean_squared_error: 124.6542\n",
            "Epoch 63/100\n",
            "340/340 [==============================] - 0s 647us/step - loss: 15548.4658 - root_mean_squared_error: 124.6935\n",
            "Epoch 64/100\n",
            "340/340 [==============================] - 0s 783us/step - loss: 15817.0596 - root_mean_squared_error: 125.7659\n",
            "Epoch 65/100\n",
            "340/340 [==============================] - 0s 728us/step - loss: 15960.1055 - root_mean_squared_error: 126.3333\n",
            "Epoch 66/100\n",
            "340/340 [==============================] - 0s 696us/step - loss: 15813.5811 - root_mean_squared_error: 125.7521\n",
            "Epoch 67/100\n",
            "340/340 [==============================] - 0s 905us/step - loss: 15656.4990 - root_mean_squared_error: 125.1259\n",
            "Epoch 68/100\n",
            "340/340 [==============================] - 0s 710us/step - loss: 15927.8457 - root_mean_squared_error: 126.2056\n",
            "Epoch 69/100\n",
            "340/340 [==============================] - 0s 678us/step - loss: 16009.5703 - root_mean_squared_error: 126.5289\n",
            "Epoch 70/100\n",
            "340/340 [==============================] - 0s 666us/step - loss: 15771.0195 - root_mean_squared_error: 125.5827\n",
            "Epoch 71/100\n",
            "340/340 [==============================] - 0s 716us/step - loss: 15763.7041 - root_mean_squared_error: 125.5536\n",
            "Epoch 72/100\n",
            "340/340 [==============================] - 0s 759us/step - loss: 15686.4004 - root_mean_squared_error: 125.2454\n",
            "Epoch 73/100\n",
            "340/340 [==============================] - 0s 700us/step - loss: 15792.8281 - root_mean_squared_error: 125.6695\n",
            "Epoch 74/100\n",
            "340/340 [==============================] - 0s 785us/step - loss: 15583.2100 - root_mean_squared_error: 124.8327\n",
            "Epoch 75/100\n",
            "340/340 [==============================] - 0s 719us/step - loss: 15804.5273 - root_mean_squared_error: 125.7161\n",
            "Epoch 76/100\n",
            "340/340 [==============================] - 0s 735us/step - loss: 15686.3857 - root_mean_squared_error: 125.2453\n",
            "Epoch 77/100\n",
            "340/340 [==============================] - 0s 666us/step - loss: 15628.7402 - root_mean_squared_error: 125.0150\n",
            "Epoch 78/100\n",
            "340/340 [==============================] - 0s 696us/step - loss: 15680.6602 - root_mean_squared_error: 125.2224\n",
            "Epoch 79/100\n",
            "340/340 [==============================] - 0s 661us/step - loss: 15750.0273 - root_mean_squared_error: 125.4991\n",
            "Epoch 80/100\n",
            "340/340 [==============================] - 0s 660us/step - loss: 15616.1367 - root_mean_squared_error: 124.9645\n",
            "Epoch 81/100\n",
            "340/340 [==============================] - 0s 677us/step - loss: 15555.0977 - root_mean_squared_error: 124.7201\n",
            "Epoch 82/100\n",
            "340/340 [==============================] - 0s 671us/step - loss: 15683.4590 - root_mean_squared_error: 125.2336\n",
            "Epoch 83/100\n",
            "340/340 [==============================] - 0s 669us/step - loss: 15721.3711 - root_mean_squared_error: 125.3849\n",
            "Epoch 84/100\n",
            "340/340 [==============================] - 0s 664us/step - loss: 15787.2080 - root_mean_squared_error: 125.6472\n",
            "Epoch 85/100\n",
            "340/340 [==============================] - 0s 718us/step - loss: 15673.7080 - root_mean_squared_error: 125.1947\n",
            "Epoch 86/100\n",
            "340/340 [==============================] - 0s 636us/step - loss: 15737.8906 - root_mean_squared_error: 125.4508\n",
            "Epoch 87/100\n",
            "340/340 [==============================] - 0s 683us/step - loss: 15639.1338 - root_mean_squared_error: 125.0565\n",
            "Epoch 88/100\n",
            "340/340 [==============================] - 0s 677us/step - loss: 15831.3936 - root_mean_squared_error: 125.8229\n",
            "Epoch 89/100\n",
            "340/340 [==============================] - 0s 721us/step - loss: 15778.6113 - root_mean_squared_error: 125.6129\n",
            "Epoch 90/100\n",
            "340/340 [==============================] - 0s 720us/step - loss: 15787.3213 - root_mean_squared_error: 125.6476\n",
            "Epoch 91/100\n",
            "340/340 [==============================] - 0s 722us/step - loss: 15610.5479 - root_mean_squared_error: 124.9422\n",
            "Epoch 92/100\n",
            "340/340 [==============================] - 0s 700us/step - loss: 15724.9961 - root_mean_squared_error: 125.3993\n",
            "Epoch 93/100\n",
            "340/340 [==============================] - 0s 633us/step - loss: 15649.6523 - root_mean_squared_error: 125.0986\n",
            "Epoch 94/100\n",
            "340/340 [==============================] - 0s 719us/step - loss: 15750.5088 - root_mean_squared_error: 125.5010\n",
            "Epoch 95/100\n",
            "340/340 [==============================] - 0s 697us/step - loss: 15643.8223 - root_mean_squared_error: 125.0753\n",
            "Epoch 96/100\n",
            "340/340 [==============================] - 0s 796us/step - loss: 15518.7568 - root_mean_squared_error: 124.5743\n",
            "Epoch 97/100\n",
            "340/340 [==============================] - 0s 678us/step - loss: 15548.7500 - root_mean_squared_error: 124.6946\n",
            "Epoch 98/100\n",
            "340/340 [==============================] - 0s 736us/step - loss: 15837.8486 - root_mean_squared_error: 125.8485\n",
            "Epoch 99/100\n",
            "340/340 [==============================] - 0s 731us/step - loss: 15588.5195 - root_mean_squared_error: 124.8540\n",
            "Epoch 100/100\n",
            "340/340 [==============================] - 0s 679us/step - loss: 15869.8301 - root_mean_squared_error: 125.9755\n"
          ]
        },
        {
          "name": "stderr",
          "output_type": "stream",
          "text": [
            "/home/kaicsiro/.conda/envs/GoogleML/lib/python3.7/site-packages/numpy/core/shape_base.py:65: VisibleDeprecationWarning: Creating an ndarray from ragged nested sequences (which is a list-or-tuple of lists-or-tuples-or ndarrays with different lengths or shapes) is deprecated. If you meant to do this, you must specify 'dtype=object' when creating the ndarray.\n",
            "  ary = asanyarray(ary)\n"
          ]
        },
        {
          "data": {
            "image/png": "[encoded data removed]",
            "text/plain": [
              "<Figure size 640x480 with 1 Axes>"
            ]
          },
          "metadata": {},
          "output_type": "display_data"
        },
        {
          "data": {
            "image/png": "[encoded data removed]",
            "text/plain": [
              "<Figure size 640x480 with 1 Axes>"
            ]
          },
          "metadata": {},
          "output_type": "display_data"
        },
        {
          "name": "stdout",
          "output_type": "stream",
          "text": [
            "feature   label          predicted\n",
            "  value   value          value\n",
            "          in thousand$   in thousand$\n",
            "--------------------------------------\n",
            " 1286     53             238\n",
            " 1867     92             250\n",
            " 2191     69             256\n",
            " 1052     62             233\n",
            " 1647     80             245\n",
            " 2312    295             259\n",
            " 1604    500             244\n",
            " 1066    342             233\n",
            "  338    118             218\n",
            " 1604    128             244\n",
            " 1200    187             236\n",
            "  292     80             217\n",
            " 2014    112             253\n",
            " 1817     95             249\n",
            " 1328     69             239\n"
          ]
        }
      ],
      "source": [
        "my_feature = \"population\"   # Replace the ? with population or possibly\n",
        "                   # a different column name.\n",
        "\n",
        "# Experiment with the hyperparameters.\n",
        "learning_rate = 0.05\n",
        "epochs = 100\n",
        "batch_size = 50\n",
        "\n",
        "# Don't change anything below this line.\n",
        "my_model = build_model(learning_rate)\n",
        "weight, bias, epochs, rmse = train_model(my_model, training_df, \n",
        "                                         my_feature, my_label,\n",
        "                                         epochs, batch_size)\n",
        "plot_the_model(weight, bias, my_feature, my_label)\n",
        "plot_the_loss_curve(epochs, rmse)\n",
        "\n",
        "predict_house_values(15, my_feature, my_label)"
      ]
    },
    {
      "cell_type": "code",
      "execution_count": 20,
      "metadata": {
        "cellView": "form",
        "id": "107mDkW7U6mg"
      },
      "outputs": [
        {
          "name": "stdout",
          "output_type": "stream",
          "text": [
            "Epoch 1/18\n",
            "5667/5667 [==============================] - 28s 5ms/step - loss: 28892.6406 - root_mean_squared_error: 169.9783\n",
            "Epoch 2/18\n",
            "5667/5667 [==============================] - 22s 4ms/step - loss: 20012.6484 - root_mean_squared_error: 141.4661\n",
            "Epoch 3/18\n",
            "3610/5667 [==================>...........] - ETA: 9s - loss: 18800.8184 - root_mean_squared_error: 137.1161"
          ]
        },
        {
          "ename": "KeyboardInterrupt",
          "evalue": "",
          "output_type": "error",
          "traceback": [
            "\u001b[0;31m---------------------------------------------------------------------------\u001b[0m",
            "\u001b[0;31mKeyboardInterrupt\u001b[0m                         Traceback (most recent call last)",
            "\u001b[0;32m/tmp/ipykernel_2841/765696086.py\u001b[0m in \u001b[0;36m<module>\u001b[0;34m\u001b[0m\n\u001b[1;32m     12\u001b[0m weight, bias, epochs, rmse = train_model(my_model, training_df, \n\u001b[1;32m     13\u001b[0m                                          \u001b[0mmy_feature\u001b[0m\u001b[0;34m,\u001b[0m \u001b[0mmy_label\u001b[0m\u001b[0;34m,\u001b[0m\u001b[0;34m\u001b[0m\u001b[0;34m\u001b[0m\u001b[0m\n\u001b[0;32m---> 14\u001b[0;31m                                          epochs, batch_size)\n\u001b[0m\u001b[1;32m     15\u001b[0m \u001b[0;34m\u001b[0m\u001b[0m\n\u001b[1;32m     16\u001b[0m \u001b[0mplot_the_model\u001b[0m\u001b[0;34m(\u001b[0m\u001b[0mweight\u001b[0m\u001b[0;34m,\u001b[0m \u001b[0mbias\u001b[0m\u001b[0;34m,\u001b[0m \u001b[0mmy_feature\u001b[0m\u001b[0;34m,\u001b[0m \u001b[0mmy_label\u001b[0m\u001b[0;34m)\u001b[0m\u001b[0;34m\u001b[0m\u001b[0;34m\u001b[0m\u001b[0m\n",
            "\u001b[0;32m/tmp/ipykernel_2841/3293654398.py\u001b[0m in \u001b[0;36mtrain_model\u001b[0;34m(model, df, feature, label, epochs, batch_size)\u001b[0m\n\u001b[1;32m     28\u001b[0m                       \u001b[0my\u001b[0m\u001b[0;34m=\u001b[0m\u001b[0mdf\u001b[0m\u001b[0;34m[\u001b[0m\u001b[0mlabel\u001b[0m\u001b[0;34m]\u001b[0m\u001b[0;34m,\u001b[0m\u001b[0;34m\u001b[0m\u001b[0;34m\u001b[0m\u001b[0m\n\u001b[1;32m     29\u001b[0m                       \u001b[0mbatch_size\u001b[0m\u001b[0;34m=\u001b[0m\u001b[0mbatch_size\u001b[0m\u001b[0;34m,\u001b[0m\u001b[0;34m\u001b[0m\u001b[0;34m\u001b[0m\u001b[0m\n\u001b[0;32m---> 30\u001b[0;31m                       epochs=epochs)\n\u001b[0m\u001b[1;32m     31\u001b[0m \u001b[0;34m\u001b[0m\u001b[0m\n\u001b[1;32m     32\u001b[0m   \u001b[0;31m# Gather the trained model's weight and bias.\u001b[0m\u001b[0;34m\u001b[0m\u001b[0;34m\u001b[0m\u001b[0;34m\u001b[0m\u001b[0m\n",
            "\u001b[0;32m~/.conda/envs/GoogleML/lib/python3.7/site-packages/keras/utils/traceback_utils.py\u001b[0m in \u001b[0;36merror_handler\u001b[0;34m(*args, **kwargs)\u001b[0m\n\u001b[1;32m     62\u001b[0m     \u001b[0mfiltered_tb\u001b[0m \u001b[0;34m=\u001b[0m \u001b[0;32mNone\u001b[0m\u001b[0;34m\u001b[0m\u001b[0;34m\u001b[0m\u001b[0m\n\u001b[1;32m     63\u001b[0m     \u001b[0;32mtry\u001b[0m\u001b[0;34m:\u001b[0m\u001b[0;34m\u001b[0m\u001b[0;34m\u001b[0m\u001b[0m\n\u001b[0;32m---> 64\u001b[0;31m       \u001b[0;32mreturn\u001b[0m \u001b[0mfn\u001b[0m\u001b[0;34m(\u001b[0m\u001b[0;34m*\u001b[0m\u001b[0margs\u001b[0m\u001b[0;34m,\u001b[0m \u001b[0;34m**\u001b[0m\u001b[0mkwargs\u001b[0m\u001b[0;34m)\u001b[0m\u001b[0;34m\u001b[0m\u001b[0;34m\u001b[0m\u001b[0m\n\u001b[0m\u001b[1;32m     65\u001b[0m     \u001b[0;32mexcept\u001b[0m \u001b[0mException\u001b[0m \u001b[0;32mas\u001b[0m \u001b[0me\u001b[0m\u001b[0;34m:\u001b[0m  \u001b[0;31m# pylint: disable=broad-except\u001b[0m\u001b[0;34m\u001b[0m\u001b[0;34m\u001b[0m\u001b[0m\n\u001b[1;32m     66\u001b[0m       \u001b[0mfiltered_tb\u001b[0m \u001b[0;34m=\u001b[0m \u001b[0m_process_traceback_frames\u001b[0m\u001b[0;34m(\u001b[0m\u001b[0me\u001b[0m\u001b[0;34m.\u001b[0m\u001b[0m__traceback__\u001b[0m\u001b[0;34m)\u001b[0m\u001b[0;34m\u001b[0m\u001b[0;34m\u001b[0m\u001b[0m\n",
            "\u001b[0;32m~/.conda/envs/GoogleML/lib/python3.7/site-packages/keras/engine/training.py\u001b[0m in \u001b[0;36mfit\u001b[0;34m(self, x, y, batch_size, epochs, verbose, callbacks, validation_split, validation_data, shuffle, class_weight, sample_weight, initial_epoch, steps_per_epoch, validation_steps, validation_batch_size, validation_freq, max_queue_size, workers, use_multiprocessing)\u001b[0m\n\u001b[1;32m   1407\u001b[0m                 _r=1):\n\u001b[1;32m   1408\u001b[0m               \u001b[0mcallbacks\u001b[0m\u001b[0;34m.\u001b[0m\u001b[0mon_train_batch_begin\u001b[0m\u001b[0;34m(\u001b[0m\u001b[0mstep\u001b[0m\u001b[0;34m)\u001b[0m\u001b[0;34m\u001b[0m\u001b[0;34m\u001b[0m\u001b[0m\n\u001b[0;32m-> 1409\u001b[0;31m               \u001b[0mtmp_logs\u001b[0m \u001b[0;34m=\u001b[0m \u001b[0mself\u001b[0m\u001b[0;34m.\u001b[0m\u001b[0mtrain_function\u001b[0m\u001b[0;34m(\u001b[0m\u001b[0miterator\u001b[0m\u001b[0;34m)\u001b[0m\u001b[0;34m\u001b[0m\u001b[0;34m\u001b[0m\u001b[0m\n\u001b[0m\u001b[1;32m   1410\u001b[0m               \u001b[0;32mif\u001b[0m \u001b[0mdata_handler\u001b[0m\u001b[0;34m.\u001b[0m\u001b[0mshould_sync\u001b[0m\u001b[0;34m:\u001b[0m\u001b[0;34m\u001b[0m\u001b[0;34m\u001b[0m\u001b[0m\n\u001b[1;32m   1411\u001b[0m                 \u001b[0mcontext\u001b[0m\u001b[0;34m.\u001b[0m\u001b[0masync_wait\u001b[0m\u001b[0;34m(\u001b[0m\u001b[0;34m)\u001b[0m\u001b[0;34m\u001b[0m\u001b[0;34m\u001b[0m\u001b[0m\n",
            "\u001b[0;32m~/.conda/envs/GoogleML/lib/python3.7/site-packages/tensorflow/python/util/traceback_utils.py\u001b[0m in \u001b[0;36merror_handler\u001b[0;34m(*args, **kwargs)\u001b[0m\n\u001b[1;32m    148\u001b[0m     \u001b[0mfiltered_tb\u001b[0m \u001b[0;34m=\u001b[0m \u001b[0;32mNone\u001b[0m\u001b[0;34m\u001b[0m\u001b[0;34m\u001b[0m\u001b[0m\n\u001b[1;32m    149\u001b[0m     \u001b[0;32mtry\u001b[0m\u001b[0;34m:\u001b[0m\u001b[0;34m\u001b[0m\u001b[0;34m\u001b[0m\u001b[0m\n\u001b[0;32m--> 150\u001b[0;31m       \u001b[0;32mreturn\u001b[0m \u001b[0mfn\u001b[0m\u001b[0;34m(\u001b[0m\u001b[0;34m*\u001b[0m\u001b[0margs\u001b[0m\u001b[0;34m,\u001b[0m \u001b[0;34m**\u001b[0m\u001b[0mkwargs\u001b[0m\u001b[0;34m)\u001b[0m\u001b[0;34m\u001b[0m\u001b[0;34m\u001b[0m\u001b[0m\n\u001b[0m\u001b[1;32m    151\u001b[0m     \u001b[0;32mexcept\u001b[0m \u001b[0mException\u001b[0m \u001b[0;32mas\u001b[0m \u001b[0me\u001b[0m\u001b[0;34m:\u001b[0m\u001b[0;34m\u001b[0m\u001b[0;34m\u001b[0m\u001b[0m\n\u001b[1;32m    152\u001b[0m       \u001b[0mfiltered_tb\u001b[0m \u001b[0;34m=\u001b[0m \u001b[0m_process_traceback_frames\u001b[0m\u001b[0;34m(\u001b[0m\u001b[0me\u001b[0m\u001b[0;34m.\u001b[0m\u001b[0m__traceback__\u001b[0m\u001b[0;34m)\u001b[0m\u001b[0;34m\u001b[0m\u001b[0;34m\u001b[0m\u001b[0m\n",
            "\u001b[0;32m~/.conda/envs/GoogleML/lib/python3.7/site-packages/tensorflow/python/eager/def_function.py\u001b[0m in \u001b[0;36m__call__\u001b[0;34m(self, *args, **kwds)\u001b[0m\n\u001b[1;32m    913\u001b[0m \u001b[0;34m\u001b[0m\u001b[0m\n\u001b[1;32m    914\u001b[0m       \u001b[0;32mwith\u001b[0m \u001b[0mOptionalXlaContext\u001b[0m\u001b[0;34m(\u001b[0m\u001b[0mself\u001b[0m\u001b[0;34m.\u001b[0m\u001b[0m_jit_compile\u001b[0m\u001b[0;34m)\u001b[0m\u001b[0;34m:\u001b[0m\u001b[0;34m\u001b[0m\u001b[0;34m\u001b[0m\u001b[0m\n\u001b[0;32m--> 915\u001b[0;31m         \u001b[0mresult\u001b[0m \u001b[0;34m=\u001b[0m \u001b[0mself\u001b[0m\u001b[0;34m.\u001b[0m\u001b[0m_call\u001b[0m\u001b[0;34m(\u001b[0m\u001b[0;34m*\u001b[0m\u001b[0margs\u001b[0m\u001b[0;34m,\u001b[0m \u001b[0;34m**\u001b[0m\u001b[0mkwds\u001b[0m\u001b[0;34m)\u001b[0m\u001b[0;34m\u001b[0m\u001b[0;34m\u001b[0m\u001b[0m\n\u001b[0m\u001b[1;32m    916\u001b[0m \u001b[0;34m\u001b[0m\u001b[0m\n\u001b[1;32m    917\u001b[0m       \u001b[0mnew_tracing_count\u001b[0m \u001b[0;34m=\u001b[0m \u001b[0mself\u001b[0m\u001b[0;34m.\u001b[0m\u001b[0mexperimental_get_tracing_count\u001b[0m\u001b[0;34m(\u001b[0m\u001b[0;34m)\u001b[0m\u001b[0;34m\u001b[0m\u001b[0;34m\u001b[0m\u001b[0m\n",
            "\u001b[0;32m~/.conda/envs/GoogleML/lib/python3.7/site-packages/tensorflow/python/eager/def_function.py\u001b[0m in \u001b[0;36m_call\u001b[0;34m(self, *args, **kwds)\u001b[0m\n\u001b[1;32m    945\u001b[0m       \u001b[0;31m# In this case we have created variables on the first call, so we run the\u001b[0m\u001b[0;34m\u001b[0m\u001b[0;34m\u001b[0m\u001b[0;34m\u001b[0m\u001b[0m\n\u001b[1;32m    946\u001b[0m       \u001b[0;31m# defunned version which is guaranteed to never create variables.\u001b[0m\u001b[0;34m\u001b[0m\u001b[0;34m\u001b[0m\u001b[0;34m\u001b[0m\u001b[0m\n\u001b[0;32m--> 947\u001b[0;31m       \u001b[0;32mreturn\u001b[0m \u001b[0mself\u001b[0m\u001b[0;34m.\u001b[0m\u001b[0m_stateless_fn\u001b[0m\u001b[0;34m(\u001b[0m\u001b[0;34m*\u001b[0m\u001b[0margs\u001b[0m\u001b[0;34m,\u001b[0m \u001b[0;34m**\u001b[0m\u001b[0mkwds\u001b[0m\u001b[0;34m)\u001b[0m  \u001b[0;31m# pylint: disable=not-callable\u001b[0m\u001b[0;34m\u001b[0m\u001b[0;34m\u001b[0m\u001b[0m\n\u001b[0m\u001b[1;32m    948\u001b[0m     \u001b[0;32melif\u001b[0m \u001b[0mself\u001b[0m\u001b[0;34m.\u001b[0m\u001b[0m_stateful_fn\u001b[0m \u001b[0;32mis\u001b[0m \u001b[0;32mnot\u001b[0m \u001b[0;32mNone\u001b[0m\u001b[0;34m:\u001b[0m\u001b[0;34m\u001b[0m\u001b[0;34m\u001b[0m\u001b[0m\n\u001b[1;32m    949\u001b[0m       \u001b[0;31m# Release the lock early so that multiple threads can perform the call\u001b[0m\u001b[0;34m\u001b[0m\u001b[0;34m\u001b[0m\u001b[0;34m\u001b[0m\u001b[0m\n",
            "\u001b[0;32m~/.conda/envs/GoogleML/lib/python3.7/site-packages/tensorflow/python/eager/function.py\u001b[0m in \u001b[0;36m__call__\u001b[0;34m(self, *args, **kwargs)\u001b[0m\n\u001b[1;32m   2452\u001b[0m        filtered_flat_args) = self._maybe_define_function(args, kwargs)\n\u001b[1;32m   2453\u001b[0m     return graph_function._call_flat(\n\u001b[0;32m-> 2454\u001b[0;31m         filtered_flat_args, captured_inputs=graph_function.captured_inputs)  # pylint: disable=protected-access\n\u001b[0m\u001b[1;32m   2455\u001b[0m \u001b[0;34m\u001b[0m\u001b[0m\n\u001b[1;32m   2456\u001b[0m   \u001b[0;34m@\u001b[0m\u001b[0mproperty\u001b[0m\u001b[0;34m\u001b[0m\u001b[0;34m\u001b[0m\u001b[0m\n",
            "\u001b[0;32m~/.conda/envs/GoogleML/lib/python3.7/site-packages/tensorflow/python/eager/function.py\u001b[0m in \u001b[0;36m_call_flat\u001b[0;34m(self, args, captured_inputs, cancellation_manager)\u001b[0m\n\u001b[1;32m   1859\u001b[0m       \u001b[0;31m# No tape is watching; skip to running the function.\u001b[0m\u001b[0;34m\u001b[0m\u001b[0;34m\u001b[0m\u001b[0;34m\u001b[0m\u001b[0m\n\u001b[1;32m   1860\u001b[0m       return self._build_call_outputs(self._inference_function.call(\n\u001b[0;32m-> 1861\u001b[0;31m           ctx, args, cancellation_manager=cancellation_manager))\n\u001b[0m\u001b[1;32m   1862\u001b[0m     forward_backward = self._select_forward_and_backward_functions(\n\u001b[1;32m   1863\u001b[0m         \u001b[0margs\u001b[0m\u001b[0;34m,\u001b[0m\u001b[0;34m\u001b[0m\u001b[0;34m\u001b[0m\u001b[0m\n",
            "\u001b[0;32m~/.conda/envs/GoogleML/lib/python3.7/site-packages/tensorflow/python/eager/function.py\u001b[0m in \u001b[0;36mcall\u001b[0;34m(self, ctx, args, cancellation_manager)\u001b[0m\n\u001b[1;32m    500\u001b[0m               \u001b[0minputs\u001b[0m\u001b[0;34m=\u001b[0m\u001b[0margs\u001b[0m\u001b[0;34m,\u001b[0m\u001b[0;34m\u001b[0m\u001b[0;34m\u001b[0m\u001b[0m\n\u001b[1;32m    501\u001b[0m               \u001b[0mattrs\u001b[0m\u001b[0;34m=\u001b[0m\u001b[0mattrs\u001b[0m\u001b[0;34m,\u001b[0m\u001b[0;34m\u001b[0m\u001b[0;34m\u001b[0m\u001b[0m\n\u001b[0;32m--> 502\u001b[0;31m               ctx=ctx)\n\u001b[0m\u001b[1;32m    503\u001b[0m         \u001b[0;32melse\u001b[0m\u001b[0;34m:\u001b[0m\u001b[0;34m\u001b[0m\u001b[0;34m\u001b[0m\u001b[0m\n\u001b[1;32m    504\u001b[0m           outputs = execute.execute_with_cancellation(\n",
            "\u001b[0;32m~/.conda/envs/GoogleML/lib/python3.7/site-packages/tensorflow/python/eager/execute.py\u001b[0m in \u001b[0;36mquick_execute\u001b[0;34m(op_name, num_outputs, inputs, attrs, ctx, name)\u001b[0m\n\u001b[1;32m     53\u001b[0m     \u001b[0mctx\u001b[0m\u001b[0;34m.\u001b[0m\u001b[0mensure_initialized\u001b[0m\u001b[0;34m(\u001b[0m\u001b[0;34m)\u001b[0m\u001b[0;34m\u001b[0m\u001b[0;34m\u001b[0m\u001b[0m\n\u001b[1;32m     54\u001b[0m     tensors = pywrap_tfe.TFE_Py_Execute(ctx._handle, device_name, op_name,\n\u001b[0;32m---> 55\u001b[0;31m                                         inputs, attrs, num_outputs)\n\u001b[0m\u001b[1;32m     56\u001b[0m   \u001b[0;32mexcept\u001b[0m \u001b[0mcore\u001b[0m\u001b[0;34m.\u001b[0m\u001b[0m_NotOkStatusException\u001b[0m \u001b[0;32mas\u001b[0m \u001b[0me\u001b[0m\u001b[0;34m:\u001b[0m\u001b[0;34m\u001b[0m\u001b[0;34m\u001b[0m\u001b[0m\n\u001b[1;32m     57\u001b[0m     \u001b[0;32mif\u001b[0m \u001b[0mname\u001b[0m \u001b[0;32mis\u001b[0m \u001b[0;32mnot\u001b[0m \u001b[0;32mNone\u001b[0m\u001b[0;34m:\u001b[0m\u001b[0;34m\u001b[0m\u001b[0;34m\u001b[0m\u001b[0m\n",
            "\u001b[0;31mKeyboardInterrupt\u001b[0m: "
          ]
        }
      ],
      "source": [
        "#@title Double-click blue border to view code and answer.\n",
        "\n",
        "my_feature = \"population\" # Pick a feature other than \"total_rooms\"\n",
        "\n",
        "# Possibly, experiment with the hyperparameters.\n",
        "learning_rate = 0.05\n",
        "epochs = 18\n",
        "batch_size = 3\n",
        "\n",
        "# Don't change anything below.\n",
        "my_model = build_model(learning_rate)\n",
        "weight, bias, epochs, rmse = train_model(my_model, training_df, \n",
        "                                         my_feature, my_label,\n",
        "                                         epochs, batch_size)\n",
        "\n",
        "plot_the_model(weight, bias, my_feature, my_label)\n",
        "plot_the_loss_curve(epochs, rmse)\n",
        "\n",
        "predict_house_values(10, my_feature, my_label)"
      ]
    },
    {
      "cell_type": "markdown",
      "metadata": {
        "id": "Nd_rHJ59AUtk"
      },
      "source": [
        "Did `population` produce better predictions than `total_rooms`?"
      ]
    },
    {
      "cell_type": "code",
      "execution_count": null,
      "metadata": {
        "cellView": "form",
        "id": "F0tPEtzcC-vK"
      },
      "outputs": [],
      "source": [
        "#@title Double-click to view the answer.\n",
        "\n",
        "# Training is not entirely deterministic, but population \n",
        "# typically converges at a slightly higher RMSE than \n",
        "# total_rooms.  So, population appears to be about \n",
        "# the same or slightly worse at making predictions \n",
        "# than total_rooms."
      ]
    },
    {
      "cell_type": "markdown",
      "metadata": {
        "id": "C8uYpyGacsIg"
      },
      "source": [
        "## Task 4: Define a synthetic feature\n",
        "\n",
        "You have determined that `total_rooms` and `population` were not useful features.  That is, neither the total number of rooms in a neighborhood nor the neighborhood's population successfully predicted the median house price of that neighborhood. Perhaps though, the *ratio* of `total_rooms` to `population` might have some predictive power. That is, perhaps block density relates to median house value.\n",
        "\n",
        "To explore this hypothesis, do the following: \n",
        "\n",
        "1. Create a [synthetic feature](https://developers.google.com/machine-learning/glossary/#synthetic_feature) that's a ratio of `total_rooms` to `population`. (If you are new to pandas DataFrames, please study the [Pandas DataFrame Ultraquick Tutorial](https://colab.research.google.com/github/google/eng-edu/blob/main/ml/cc/exercises/pandas_dataframe_ultraquick_tutorial.ipynb?utm_source=linearregressionreal-colab&utm_medium=colab&utm_campaign=colab-external&utm_content=pandas_tf2-colab&hl=en).)\n",
        "2. Tune the three hyperparameters.\n",
        "3. Determine whether this synthetic feature produces \n",
        "   a lower loss value than any of the single features you \n",
        "   tried earlier in this exercise."
      ]
    },
    {
      "cell_type": "code",
      "execution_count": 24,
      "metadata": {
        "id": "4Kx2xHSgdcpg"
      },
      "outputs": [
        {
          "name": "stdout",
          "output_type": "stream",
          "text": [
            "Epoch 1/24\n",
            "567/567 [==============================] - 1s 697us/step - loss: 26293.6172 - root_mean_squared_error: 162.1531\n",
            "Epoch 2/24\n",
            "567/567 [==============================] - 0s 720us/step - loss: 7222.5986 - root_mean_squared_error: 84.9859\n",
            "Epoch 3/24\n",
            "567/567 [==============================] - 0s 774us/step - loss: 7017.2808 - root_mean_squared_error: 83.7692\n",
            "Epoch 4/24\n",
            "567/567 [==============================] - 0s 672us/step - loss: 7016.6196 - root_mean_squared_error: 83.7653\n",
            "Epoch 5/24\n",
            "567/567 [==============================] - 0s 697us/step - loss: 7016.6606 - root_mean_squared_error: 83.7655\n",
            "Epoch 6/24\n",
            "567/567 [==============================] - 0s 702us/step - loss: 7014.7124 - root_mean_squared_error: 83.7539\n",
            "Epoch 7/24\n",
            "567/567 [==============================] - 0s 762us/step - loss: 7016.9775 - root_mean_squared_error: 83.7674\n",
            "Epoch 8/24\n",
            "567/567 [==============================] - 0s 759us/step - loss: 7016.1528 - root_mean_squared_error: 83.7625\n",
            "Epoch 9/24\n",
            "567/567 [==============================] - 0s 681us/step - loss: 7016.9922 - root_mean_squared_error: 83.7675\n",
            "Epoch 10/24\n",
            "567/567 [==============================] - 0s 726us/step - loss: 7015.8516 - root_mean_squared_error: 83.7607\n",
            "Epoch 11/24\n",
            "567/567 [==============================] - 0s 708us/step - loss: 7015.6836 - root_mean_squared_error: 83.7597\n",
            "Epoch 12/24\n",
            "567/567 [==============================] - 0s 700us/step - loss: 7016.6211 - root_mean_squared_error: 83.7653\n",
            "Epoch 13/24\n",
            "567/567 [==============================] - 0s 860us/step - loss: 7016.8950 - root_mean_squared_error: 83.7669\n",
            "Epoch 14/24\n",
            "567/567 [==============================] - 0s 758us/step - loss: 7014.3867 - root_mean_squared_error: 83.7519\n",
            "Epoch 15/24\n",
            "567/567 [==============================] - 0s 751us/step - loss: 7015.4775 - root_mean_squared_error: 83.7584\n",
            "Epoch 16/24\n",
            "567/567 [==============================] - 0s 706us/step - loss: 7016.6797 - root_mean_squared_error: 83.7656\n",
            "Epoch 17/24\n",
            "567/567 [==============================] - 0s 779us/step - loss: 7015.5605 - root_mean_squared_error: 83.7589\n",
            "Epoch 18/24\n",
            "567/567 [==============================] - 0s 747us/step - loss: 7016.7739 - root_mean_squared_error: 83.7662\n",
            "Epoch 19/24\n",
            "567/567 [==============================] - 0s 705us/step - loss: 7015.8154 - root_mean_squared_error: 83.7605\n",
            "Epoch 20/24\n",
            "567/567 [==============================] - 0s 718us/step - loss: 7016.3560 - root_mean_squared_error: 83.7637\n",
            "Epoch 21/24\n",
            "567/567 [==============================] - 0s 699us/step - loss: 7015.6587 - root_mean_squared_error: 83.7595\n",
            "Epoch 22/24\n",
            "567/567 [==============================] - 0s 733us/step - loss: 7014.0845 - root_mean_squared_error: 83.7501\n",
            "Epoch 23/24\n",
            "567/567 [==============================] - 0s 696us/step - loss: 7016.1953 - root_mean_squared_error: 83.7627\n",
            "Epoch 24/24\n",
            "567/567 [==============================] - 0s 695us/step - loss: 7015.2812 - root_mean_squared_error: 83.7573\n"
          ]
        },
        {
          "data": {
            "image/png": "[encoded data removed]",
            "text/plain": [
              "<Figure size 640x480 with 1 Axes>"
            ]
          },
          "metadata": {},
          "output_type": "display_data"
        },
        {
          "name": "stdout",
          "output_type": "stream",
          "text": [
            "feature   label          predicted\n",
            "  value   value          value\n",
            "          in thousand$   in thousand$\n",
            "--------------------------------------\n",
            "    2     53             133\n",
            "    4     92             210\n",
            "    3     69             153\n",
            "    2     62             131\n",
            "    3     80             152\n",
            "    2    295             147\n",
            "   10    500             453\n",
            "    5    342             258\n",
            "    2    118             146\n",
            "    4    128             219\n",
            "    8    187             394\n",
            "    3     80             161\n",
            "    3    112             178\n",
            "    4     95             220\n",
            "    2     69             142\n"
          ]
        }
      ],
      "source": [
        "# Define a synthetic feature named rooms_per_person\n",
        "#training_df[\"rooms_per_person\"] = training_df[\"total_rooms\"]/training_df[\"population\"] # write your code here.\n",
        "\n",
        "# Don't change the next line.\n",
        "#my_feature = \"rooms_per_person\"\n",
        "\n",
        "# median house income\n",
        "my_feature = \"median_income\"\n",
        "\n",
        "# Assign values to these three hyperparameters.\n",
        "learning_rate = 0.06\n",
        "epochs = 24 # the epochs is the number of times the model will see the entire dataset\n",
        "batch_size = 30\n",
        "# each batch is 5 examples from the training set so each epoch has len(training_df)/5 iterations which is 17000/5 = 3400 iterations\n",
        "# because the batch size is 5, the model will see 5 examples, update the weights and bias, then see the next 5 examples, update the weights and bias, etc\n",
        "# and it will do this 3400 times in each epoch before it sees the entire dataset again\n",
        "\n",
        "# Don't change anything below this line.\n",
        "my_model = build_model(learning_rate)\n",
        "weight, bias, epochs, rmse = train_model(my_model, training_df,\n",
        "                                         my_feature, my_label,\n",
        "                                         epochs, batch_size)\n",
        "\n",
        "plot_the_loss_curve(epochs, rmse)\n",
        "predict_house_values(15, my_feature, my_label)"
      ]
    },
    {
      "cell_type": "code",
      "execution_count": 21,
      "metadata": {
        "cellView": "form",
        "id": "xRfxp_3yofe3"
      },
      "outputs": [
        {
          "name": "stdout",
          "output_type": "stream",
          "text": [
            "Epoch 1/24\n",
            "567/567 [==============================] - 1s 751us/step - loss: 39316.3086 - root_mean_squared_error: 198.2834\n",
            "Epoch 2/24\n",
            "567/567 [==============================] - 0s 779us/step - loss: 19095.6934 - root_mean_squared_error: 138.1872\n",
            "Epoch 3/24\n",
            "567/567 [==============================] - 0s 813us/step - loss: 15028.0898 - root_mean_squared_error: 122.5891\n",
            "Epoch 4/24\n",
            "567/567 [==============================] - 0s 794us/step - loss: 14779.0098 - root_mean_squared_error: 121.5690\n",
            "Epoch 5/24\n",
            "567/567 [==============================] - 0s 830us/step - loss: 14616.4121 - root_mean_squared_error: 120.8984\n",
            "Epoch 6/24\n",
            "567/567 [==============================] - 0s 806us/step - loss: 14402.1182 - root_mean_squared_error: 120.0088\n",
            "Epoch 7/24\n",
            "567/567 [==============================] - 0s 807us/step - loss: 14277.3037 - root_mean_squared_error: 119.4877\n",
            "Epoch 8/24\n",
            "567/567 [==============================] - 0s 792us/step - loss: 14128.8721 - root_mean_squared_error: 118.8649\n",
            "Epoch 9/24\n",
            "567/567 [==============================] - 0s 767us/step - loss: 14057.2080 - root_mean_squared_error: 118.5631\n",
            "Epoch 10/24\n",
            "567/567 [==============================] - 0s 776us/step - loss: 13945.7021 - root_mean_squared_error: 118.0919\n",
            "Epoch 11/24\n",
            "567/567 [==============================] - 0s 738us/step - loss: 13860.8730 - root_mean_squared_error: 117.7322\n",
            "Epoch 12/24\n",
            "567/567 [==============================] - 0s 810us/step - loss: 13806.1084 - root_mean_squared_error: 117.4994\n",
            "Epoch 13/24\n",
            "567/567 [==============================] - 0s 765us/step - loss: 13757.6914 - root_mean_squared_error: 117.2932\n",
            "Epoch 14/24\n",
            "567/567 [==============================] - 0s 722us/step - loss: 13707.1758 - root_mean_squared_error: 117.0777\n",
            "Epoch 15/24\n",
            "567/567 [==============================] - 0s 730us/step - loss: 13637.4189 - root_mean_squared_error: 116.7794\n",
            "Epoch 16/24\n",
            "567/567 [==============================] - 0s 825us/step - loss: 13574.2500 - root_mean_squared_error: 116.5086\n",
            "Epoch 17/24\n",
            "567/567 [==============================] - 0s 765us/step - loss: 13559.5127 - root_mean_squared_error: 116.4453\n",
            "Epoch 18/24\n",
            "567/567 [==============================] - 0s 777us/step - loss: 13546.0400 - root_mean_squared_error: 116.3875\n",
            "Epoch 19/24\n",
            "567/567 [==============================] - 0s 754us/step - loss: 13495.5801 - root_mean_squared_error: 116.1705\n",
            "Epoch 20/24\n",
            "567/567 [==============================] - 0s 794us/step - loss: 13449.9004 - root_mean_squared_error: 115.9737\n",
            "Epoch 21/24\n",
            "567/567 [==============================] - 0s 775us/step - loss: 13441.7236 - root_mean_squared_error: 115.9384\n",
            "Epoch 22/24\n",
            "567/567 [==============================] - 0s 772us/step - loss: 13420.7402 - root_mean_squared_error: 115.8479\n",
            "Epoch 23/24\n",
            "567/567 [==============================] - 0s 742us/step - loss: 13378.8389 - root_mean_squared_error: 115.6669\n",
            "Epoch 24/24\n",
            "567/567 [==============================] - 0s 742us/step - loss: 13443.1094 - root_mean_squared_error: 115.9444\n"
          ]
        },
        {
          "data": {
            "image/png": "[encoded data removed]",
            "text/plain": [
              "<Figure size 640x480 with 1 Axes>"
            ]
          },
          "metadata": {},
          "output_type": "display_data"
        },
        {
          "name": "stdout",
          "output_type": "stream",
          "text": [
            "feature   label          predicted\n",
            "  value   value          value\n",
            "          in thousand$   in thousand$\n",
            "--------------------------------------\n",
            "    2     53             188\n",
            "    2     92             200\n",
            "    2     69             194\n",
            "    2     62             210\n",
            "    1     80             185\n",
            "    2    295             224\n",
            "    2    500             209\n",
            "    2    342             222\n",
            "    4    118             287\n",
            "    2    128             213\n",
            "    2    187             223\n",
            "    3     80             233\n",
            "    2    112             224\n",
            "    2     95             218\n",
            "    2     69             210\n"
          ]
        }
      ],
      "source": [
        "#@title Double-click to view a possible solution to Task 4.\n",
        "\n",
        "# Define a synthetic feature\n",
        "training_df[\"rooms_per_person\"] = training_df[\"total_rooms\"] / training_df[\"population\"]\n",
        "my_feature = \"rooms_per_person\"\n",
        "\n",
        "# Tune the hyperparameters.\n",
        "learning_rate = 0.06\n",
        "epochs = 24\n",
        "batch_size = 30\n",
        "\n",
        "# Don't change anything below this line.\n",
        "my_model = build_model(learning_rate)\n",
        "weight, bias, epochs, mae = train_model(my_model, training_df,\n",
        "                                        my_feature, my_label,\n",
        "                                        epochs, batch_size)\n",
        "\n",
        "plot_the_loss_curve(epochs, mae)\n",
        "predict_house_values(15, my_feature, my_label)\n"
      ]
    },
    {
      "cell_type": "markdown",
      "metadata": {
        "id": "HBiDWursB1Wi"
      },
      "source": [
        "Based on the loss values, this synthetic feature produces a better model than the individual features you tried in Task 2 and Task 3. However, the model still isn't creating great predictions.\n"
      ]
    },
    {
      "cell_type": "markdown",
      "metadata": {
        "id": "XEG_9oU9O54u"
      },
      "source": [
        "## Task 5. Find feature(s) whose raw values correlate with the label\n",
        "\n",
        "So far, we've relied on trial-and-error to identify possible features for the model.  Let's rely on statistics instead.\n",
        "\n",
        "A **correlation matrix** indicates how each attribute's raw values relate to the other attributes' raw values. Correlation values have the following meanings:\n",
        "\n",
        "  * `1.0`: perfect positive correlation; that is, when one attribute rises, the other attribute rises.\n",
        "  * `-1.0`: perfect negative correlation; that is, when one attribute rises, the other attribute falls. \n",
        "  * `0.0`: no correlation; the two columns [are not linearly related](https://en.wikipedia.org/wiki/Correlation_and_dependence#/media/File:Correlation_examples2.svg).\n",
        "\n",
        "In general, the higher the absolute value of a correlation value, the greater its predictive power. For example, a correlation value of -0.8 implies far more predictive power than a correlation of -0.2.\n",
        "\n",
        "The following code cell generates the correlation matrix for attributes of the California Housing Dataset:"
      ]
    },
    {
      "cell_type": "code",
      "execution_count": 22,
      "metadata": {
        "id": "zFGKL45LO8Tt"
      },
      "outputs": [
        {
          "data": {
            "text/html": [
              "<div>\n",
              "<style scoped>\n",
              "    .dataframe tbody tr th:only-of-type {\n",
              "        vertical-align: middle;\n",
              "    }\n",
              "\n",
              "    .dataframe tbody tr th {\n",
              "        vertical-align: top;\n",
              "    }\n",
              "\n",
              "    .dataframe thead th {\n",
              "        text-align: right;\n",
              "    }\n",
              "</style>\n",
              "<table border=\"1\" class=\"dataframe\">\n",
              "  <thead>\n",
              "    <tr style=\"text-align: right;\">\n",
              "      <th></th>\n",
              "      <th>longitude</th>\n",
              "      <th>latitude</th>\n",
              "      <th>housing_median_age</th>\n",
              "      <th>total_rooms</th>\n",
              "      <th>total_bedrooms</th>\n",
              "      <th>population</th>\n",
              "      <th>households</th>\n",
              "      <th>median_income</th>\n",
              "      <th>median_house_value</th>\n",
              "      <th>rooms_per_person</th>\n",
              "    </tr>\n",
              "  </thead>\n",
              "  <tbody>\n",
              "    <tr>\n",
              "      <th>longitude</th>\n",
              "      <td>1.0</td>\n",
              "      <td>-0.9</td>\n",
              "      <td>-0.1</td>\n",
              "      <td>0.0</td>\n",
              "      <td>0.1</td>\n",
              "      <td>0.1</td>\n",
              "      <td>0.1</td>\n",
              "      <td>-0.0</td>\n",
              "      <td>-0.0</td>\n",
              "      <td>-0.1</td>\n",
              "    </tr>\n",
              "    <tr>\n",
              "      <th>latitude</th>\n",
              "      <td>-0.9</td>\n",
              "      <td>1.0</td>\n",
              "      <td>0.0</td>\n",
              "      <td>-0.0</td>\n",
              "      <td>-0.1</td>\n",
              "      <td>-0.1</td>\n",
              "      <td>-0.1</td>\n",
              "      <td>-0.1</td>\n",
              "      <td>-0.1</td>\n",
              "      <td>0.1</td>\n",
              "    </tr>\n",
              "    <tr>\n",
              "      <th>housing_median_age</th>\n",
              "      <td>-0.1</td>\n",
              "      <td>0.0</td>\n",
              "      <td>1.0</td>\n",
              "      <td>-0.4</td>\n",
              "      <td>-0.3</td>\n",
              "      <td>-0.3</td>\n",
              "      <td>-0.3</td>\n",
              "      <td>-0.1</td>\n",
              "      <td>0.1</td>\n",
              "      <td>-0.1</td>\n",
              "    </tr>\n",
              "    <tr>\n",
              "      <th>total_rooms</th>\n",
              "      <td>0.0</td>\n",
              "      <td>-0.0</td>\n",
              "      <td>-0.4</td>\n",
              "      <td>1.0</td>\n",
              "      <td>0.9</td>\n",
              "      <td>0.9</td>\n",
              "      <td>0.9</td>\n",
              "      <td>0.2</td>\n",
              "      <td>0.1</td>\n",
              "      <td>0.1</td>\n",
              "    </tr>\n",
              "    <tr>\n",
              "      <th>total_bedrooms</th>\n",
              "      <td>0.1</td>\n",
              "      <td>-0.1</td>\n",
              "      <td>-0.3</td>\n",
              "      <td>0.9</td>\n",
              "      <td>1.0</td>\n",
              "      <td>0.9</td>\n",
              "      <td>1.0</td>\n",
              "      <td>-0.0</td>\n",
              "      <td>0.0</td>\n",
              "      <td>0.0</td>\n",
              "    </tr>\n",
              "    <tr>\n",
              "      <th>population</th>\n",
              "      <td>0.1</td>\n",
              "      <td>-0.1</td>\n",
              "      <td>-0.3</td>\n",
              "      <td>0.9</td>\n",
              "      <td>0.9</td>\n",
              "      <td>1.0</td>\n",
              "      <td>0.9</td>\n",
              "      <td>-0.0</td>\n",
              "      <td>-0.0</td>\n",
              "      <td>-0.1</td>\n",
              "    </tr>\n",
              "    <tr>\n",
              "      <th>households</th>\n",
              "      <td>0.1</td>\n",
              "      <td>-0.1</td>\n",
              "      <td>-0.3</td>\n",
              "      <td>0.9</td>\n",
              "      <td>1.0</td>\n",
              "      <td>0.9</td>\n",
              "      <td>1.0</td>\n",
              "      <td>0.0</td>\n",
              "      <td>0.1</td>\n",
              "      <td>-0.0</td>\n",
              "    </tr>\n",
              "    <tr>\n",
              "      <th>median_income</th>\n",
              "      <td>-0.0</td>\n",
              "      <td>-0.1</td>\n",
              "      <td>-0.1</td>\n",
              "      <td>0.2</td>\n",
              "      <td>-0.0</td>\n",
              "      <td>-0.0</td>\n",
              "      <td>0.0</td>\n",
              "      <td>1.0</td>\n",
              "      <td>0.7</td>\n",
              "      <td>0.2</td>\n",
              "    </tr>\n",
              "    <tr>\n",
              "      <th>median_house_value</th>\n",
              "      <td>-0.0</td>\n",
              "      <td>-0.1</td>\n",
              "      <td>0.1</td>\n",
              "      <td>0.1</td>\n",
              "      <td>0.0</td>\n",
              "      <td>-0.0</td>\n",
              "      <td>0.1</td>\n",
              "      <td>0.7</td>\n",
              "      <td>1.0</td>\n",
              "      <td>0.2</td>\n",
              "    </tr>\n",
              "    <tr>\n",
              "      <th>rooms_per_person</th>\n",
              "      <td>-0.1</td>\n",
              "      <td>0.1</td>\n",
              "      <td>-0.1</td>\n",
              "      <td>0.1</td>\n",
              "      <td>0.0</td>\n",
              "      <td>-0.1</td>\n",
              "      <td>-0.0</td>\n",
              "      <td>0.2</td>\n",
              "      <td>0.2</td>\n",
              "      <td>1.0</td>\n",
              "    </tr>\n",
              "  </tbody>\n",
              "</table>\n",
              "</div>"
            ],
            "text/plain": [
              "                    longitude  latitude  housing_median_age  total_rooms  \\\n",
              "longitude                 1.0      -0.9                -0.1          0.0   \n",
              "latitude                 -0.9       1.0                 0.0         -0.0   \n",
              "housing_median_age       -0.1       0.0                 1.0         -0.4   \n",
              "total_rooms               0.0      -0.0                -0.4          1.0   \n",
              "total_bedrooms            0.1      -0.1                -0.3          0.9   \n",
              "population                0.1      -0.1                -0.3          0.9   \n",
              "households                0.1      -0.1                -0.3          0.9   \n",
              "median_income            -0.0      -0.1                -0.1          0.2   \n",
              "median_house_value       -0.0      -0.1                 0.1          0.1   \n",
              "rooms_per_person         -0.1       0.1                -0.1          0.1   \n",
              "\n",
              "                    total_bedrooms  population  households  median_income  \\\n",
              "longitude                      0.1         0.1         0.1           -0.0   \n",
              "latitude                      -0.1        -0.1        -0.1           -0.1   \n",
              "housing_median_age            -0.3        -0.3        -0.3           -0.1   \n",
              "total_rooms                    0.9         0.9         0.9            0.2   \n",
              "total_bedrooms                 1.0         0.9         1.0           -0.0   \n",
              "population                     0.9         1.0         0.9           -0.0   \n",
              "households                     1.0         0.9         1.0            0.0   \n",
              "median_income                 -0.0        -0.0         0.0            1.0   \n",
              "median_house_value             0.0        -0.0         0.1            0.7   \n",
              "rooms_per_person               0.0        -0.1        -0.0            0.2   \n",
              "\n",
              "                    median_house_value  rooms_per_person  \n",
              "longitude                         -0.0              -0.1  \n",
              "latitude                          -0.1               0.1  \n",
              "housing_median_age                 0.1              -0.1  \n",
              "total_rooms                        0.1               0.1  \n",
              "total_bedrooms                     0.0               0.0  \n",
              "population                        -0.0              -0.1  \n",
              "households                         0.1              -0.0  \n",
              "median_income                      0.7               0.2  \n",
              "median_house_value                 1.0               0.2  \n",
              "rooms_per_person                   0.2               1.0  "
            ]
          },
          "execution_count": 22,
          "metadata": {},
          "output_type": "execute_result"
        }
      ],
      "source": [
        "# Generate a correlation matrix.\n",
        "training_df.corr()"
      ]
    },
    {
      "cell_type": "markdown",
      "metadata": {
        "id": "hp0r3NAVPEdt"
      },
      "source": [
        "The correlation matrix shows nine potential features (including a synthetic\n",
        "feature) and one label (`median_house_value`).  A strong negative correlation or strong positive correlation with the label suggests a potentially good feature.  \n",
        "\n",
        "**Your Task:** Determine which of the nine potential features appears to be the best candidate for a feature?"
      ]
    },
    {
      "cell_type": "code",
      "execution_count": null,
      "metadata": {
        "cellView": "form",
        "id": "RomQTd1OPVd0"
      },
      "outputs": [],
      "source": [
        "#@title Double-click here for the solution to Task 5\n",
        "\n",
        "# The median_income correlates 0.7 with the label \n",
        "# (median_house_value), so median_income might be a \n",
        "# good feature. The other seven potential features\n",
        "# all have a correlation relatively close to 0. \n",
        "\n",
        "# If time permits, try median_income as the feature\n",
        "# and see whether the model improves."
      ]
    },
    {
      "cell_type": "markdown",
      "metadata": {
        "id": "8RqvEbaVSlRt"
      },
      "source": [
        "Correlation matrices don't tell the entire story. In later exercises, you'll find additional ways to unlock predictive power from potential features.\n",
        "\n",
        "**Note:** Using `median_income` as a feature may raise some ethical and fairness\n",
        "issues. Towards the end of the course, we'll explore ethical and fairness issues."
      ]
    }
  ],
  "metadata": {
    "colab": {
      "collapsed_sections": [],
      "name": "Linear Regression with a Real Dataset.ipynb",
      "private_outputs": true,
      "provenance": []
    },
    "kernelspec": {
      "display_name": "Python 3.7.13 ('GoogleML')",
      "language": "python",
      "name": "python3"
    },
    "language_info": {
      "codemirror_mode": {
        "name": "ipython",
        "version": 3
      },
      "file_extension": ".py",
      "mimetype": "text/x-python",
      "name": "python",
      "nbconvert_exporter": "python",
      "pygments_lexer": "ipython3",
      "version": "3.7.13"
    },
    "vscode": {
      "interpreter": {
        "hash": "07d10209c84e866bcc132c741e6151e1826612262d259795ed8a48fb5410d00f"
      }
    }
  },
  "nbformat": 4,
  "nbformat_minor": 0
}
