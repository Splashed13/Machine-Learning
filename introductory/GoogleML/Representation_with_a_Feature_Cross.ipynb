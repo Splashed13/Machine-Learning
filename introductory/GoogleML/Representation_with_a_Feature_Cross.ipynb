{
  "cells": [
    {
      "cell_type": "code",
      "execution_count": 1,
      "metadata": {
        "cellView": "form",
        "id": "wDlWLbfkJtvu"
      },
      "outputs": [],
      "source": [
        "#@title Copyright 2020 Google LLC. Double-click for license information.\n",
        "# Licensed under the Apache License, Version 2.0 (the \"License\");\n",
        "# you may not use this file except in compliance with the License.\n",
        "# You may obtain a copy of the License at\n",
        "#\n",
        "# https://www.apache.org/licenses/LICENSE-2.0\n",
        "#\n",
        "# Unless required by applicable law or agreed to in writing, software\n",
        "# distributed under the License is distributed on an \"AS IS\" BASIS,\n",
        "# WITHOUT WARRANTIES OR CONDITIONS OF ANY KIND, either express or implied.\n",
        "# See the License for the specific language governing permissions and\n",
        "# limitations under the License."
      ]
    },
    {
      "cell_type": "markdown",
      "metadata": {
        "id": "T4r2z30vJSbA"
      },
      "source": [
        "# Colabs\n",
        "\n",
        "Machine Learning Crash Course uses Colaboratories (Colabs) for all programming exercises. Colab is Google's implementation of [Jupyter Notebook](https://jupyter.org/). For more information about Colabs and how to use them, go to [Welcome to Colaboratory](https://research.google.com/colaboratory)."
      ]
    },
    {
      "cell_type": "markdown",
      "metadata": {
        "id": "TL5y5fY9Jy_x"
      },
      "source": [
        "# Representation with a Feature Cross\n",
        "\n",
        "In this exercise, you'll experiment with different ways to represent features."
      ]
    },
    {
      "cell_type": "markdown",
      "metadata": {
        "id": "RXWoPIezkzgI"
      },
      "source": [
        "## Learning Objectives:\n",
        "\n",
        "After doing this Colab, you'll know how to:\n",
        "\n",
        "  * Use [`tf.feature_column`](https://www.tensorflow.org/api_docs/python/tf/feature_column) methods to represent features in different ways.\n",
        "  * Represent features as [bins](https://developers.google.com/machine-learning/glossary/#bucketing). \n",
        "  * Cross bins to create a [feature cross](https://developers.google.com/machine-learning/glossary/#feature_cross). "
      ]
    },
    {
      "cell_type": "markdown",
      "metadata": {
        "id": "lH_g3Hsfkzzb"
      },
      "source": [
        "## The Dataset\n",
        "  \n",
        "Like several of the previous Colabs, this exercise uses the [California Housing Dataset](https://developers.google.com/machine-learning/crash-course/california-housing-data-description)."
      ]
    },
    {
      "cell_type": "markdown",
      "metadata": {
        "id": "5iuw6-JOGf7I"
      },
      "source": [
        "## Call the import statements\n",
        "\n",
        "The following code imports the necessary code to run the code in the rest of this Colaboratory."
      ]
    },
    {
      "cell_type": "code",
      "execution_count": 5,
      "metadata": {
        "cellView": "form",
        "id": "9n9_cTveKmse"
      },
      "outputs": [
        {
          "name": "stdout",
          "output_type": "stream",
          "text": [
            "Imported the modules.\n"
          ]
        }
      ],
      "source": [
        "#@title Load the imports\n",
        "\n",
        "import numpy as np\n",
        "import pandas as pd\n",
        "import tensorflow as tf\n",
        "from tensorflow import feature_column\n",
        "\n",
        "from matplotlib import pyplot as plt\n",
        "\n",
        "# The following lines adjust the granularity of reporting.\n",
        "pd.options.display.max_rows = 10\n",
        "pd.options.display.float_format = \"{:.1f}\".format\n",
        "\n",
        "tf.keras.backend.set_floatx('float32')\n",
        "\n",
        "print(\"Imported the modules.\")"
      ]
    },
    {
      "cell_type": "markdown",
      "metadata": {
        "id": "X_TaJhU4KcuY"
      },
      "source": [
        "## Load, scale, and shuffle the examples\n",
        "\n",
        "The following code cell loads the separate .csv files and creates the following two pandas DataFrames:\n",
        "\n",
        "* `train_df`, which contains the training set\n",
        "* `test_df`, which contains the test set\n",
        "\n",
        "The code cell then scales the `median_house_value` to a more human-friendly range and then shuffles the examples."
      ]
    },
    {
      "cell_type": "code",
      "execution_count": 6,
      "metadata": {
        "id": "JZlvdpyYKx7V"
      },
      "outputs": [],
      "source": [
        "# Load the dataset\n",
        "train_df = pd.read_csv(\"https://download.mlcc.google.com/mledu-datasets/california_housing_train.csv\")\n",
        "test_df = pd.read_csv(\"https://download.mlcc.google.com/mledu-datasets/california_housing_test.csv\")\n",
        "\n",
        "# Scale the labels\n",
        "scale_factor = 1000.0\n",
        "# Scale the training set's label.\n",
        "train_df[\"median_house_value\"] /= scale_factor \n",
        "\n",
        "# Scale the test set's label\n",
        "test_df[\"median_house_value\"] /= scale_factor\n",
        "\n",
        "# Shuffle the examples\n",
        "train_df = train_df.reindex(np.random.permutation(train_df.index))"
      ]
    },
    {
      "cell_type": "markdown",
      "metadata": {
        "id": "8kir8UTUXSV8"
      },
      "source": [
        "## Represent latitude and longitude as floating-point values\n",
        "\n",
        "Previous Colabs trained on only a single feature or a single synthetic feature. By contrast, this exercise trains on two features. Furthermore, this Colab introduces **feature columns**, which provide a sophisticated way to represent features.  \n",
        "\n",
        "You create feature columns as follows:\n",
        "\n",
        "  * Call a [`tf.feature_column`](https://www.tensorflow.org/api_docs/python/tf/feature_column) method to represent a single feature, single feature cross, or single synthetic feature in the desired way.  For example, to represent a certain feature as floating-point values, call [`tf.feature_column.numeric_column`](https://www.tensorflow.org/api_docs/python/tf/feature_column/numeric_column). To represent a certain feature as a series of buckets or bins, call [`tf.feature_column.bucketized_column`](https://www.tensorflow.org/api_docs/python/tf/feature_column/bucketized_column).\n",
        "  * Assemble the created representations into a Python list. \n",
        "\n",
        "A neighborhood's location is typically the most important feature in determining a house's value. The California Housing dataset provides two features, `latitude` and `longitude` that identify each neighborhood's location. \n",
        "\n",
        "The following code cell calls [`tf.feature_column.numeric_column`](https://www.tensorflow.org/api_docs/python/tf/feature_column/numeric_column) twice, first to represent `latitude` as floating-point value and a second time to represent `longitude` as floating-point values. \n",
        "\n",
        "This code cell specifies the features that you'll ultimately train the model on and how each of those features will be represented. The transformations (collected in `fp_feature_layer`) don't actually get applied until you pass a DataFrame to it, which will happen when we train the model. \n"
      ]
    },
    {
      "cell_type": "code",
      "execution_count": 7,
      "metadata": {
        "id": "3tmmZIDw4JEC"
      },
      "outputs": [],
      "source": [
        "# Create an empty list that will eventually hold all feature columns.\n",
        "feature_columns = []\n",
        "\n",
        "# Create a numerical feature column to represent latitude.\n",
        "latitude = tf.feature_column.numeric_column(\"latitude\")\n",
        "feature_columns.append(latitude)\n",
        "\n",
        "# Create a numerical feature column to represent longitude.\n",
        "longitude = tf.feature_column.numeric_column(\"longitude\")\n",
        "feature_columns.append(longitude)\n",
        "\n",
        "# Convert the list of feature columns into a layer that will ultimately become\n",
        "# part of the model. Understanding layers is not important right now.\n",
        "fp_feature_layer = tf.keras.layers.DenseFeatures(feature_columns)"
      ]
    },
    {
      "cell_type": "markdown",
      "metadata": {
        "id": "Q2x8sHKnAy3Q"
      },
      "source": [
        "When used, the layer processes the raw inputs, according to the transformations described by the feature columns, and packs the result into a numeric array.  (The model will train on this numeric array.) "
      ]
    },
    {
      "cell_type": "markdown",
      "metadata": {
        "id": "3014ezH3C7jT"
      },
      "source": [
        "## Define functions that create and train a model, and a plotting function\n",
        "\n",
        "The following code defines three functions:\n",
        "\n",
        "  * `create_model`, which tells TensorFlow to build a linear regression model and to use the `feature_layer_as_fp` as the representation of the model's features.\n",
        "  * `train_model`, which will ultimately train the model from training set examples.\n",
        "  * `plot_the_loss_curve`, which generates a loss curve."
      ]
    },
    {
      "cell_type": "code",
      "execution_count": 9,
      "metadata": {
        "cellView": "form",
        "id": "pedD5GhlDC-y"
      },
      "outputs": [
        {
          "name": "stdout",
          "output_type": "stream",
          "text": [
            "Defined the create_model, train_model, and plot_the_loss_curve functions.\n"
          ]
        }
      ],
      "source": [
        "#@title Define functions to create and train a model, and a plotting function\n",
        "def create_model(my_learning_rate, feature_layer):\n",
        "  \"\"\"Create and compile a simple linear regression model.\"\"\"\n",
        "  # Most simple tf.keras models are sequential.\n",
        "  model = tf.keras.models.Sequential()\n",
        "\n",
        "  # Add the layer containing the feature columns to the model.\n",
        "  model.add(feature_layer)\n",
        "\n",
        "  # Add one linear layer to the model to yield a simple linear regressor.\n",
        "  model.add(tf.keras.layers.Dense(units=1, input_shape=(1,)))\n",
        "\n",
        "  # Construct the layers into a model that TensorFlow can execute.\n",
        "  model.compile(optimizer=tf.keras.optimizers.RMSprop(lr=my_learning_rate),\n",
        "                loss=\"mean_squared_error\",\n",
        "                metrics=[tf.keras.metrics.RootMeanSquaredError()])\n",
        "\n",
        "  return model           \n",
        "\n",
        "\n",
        "def train_model(model, dataset, epochs, batch_size, label_name):\n",
        "  \"\"\"Feed a dataset into the model in order to train it.\"\"\"\n",
        "\n",
        "  features = {name:np.array(value) for name, value in dataset.items()}\n",
        "  label = np.array(features.pop(label_name))\n",
        "  history = model.fit(x=features, y=label, batch_size=batch_size,\n",
        "                      epochs=epochs, shuffle=True)\n",
        "\n",
        "  # The list of epochs is stored separately from the rest of history.\n",
        "  epochs = history.epoch\n",
        "  \n",
        "  # Isolate the mean absolute error for each epoch.\n",
        "  hist = pd.DataFrame(history.history)\n",
        "  rmse = hist[\"root_mean_squared_error\"]\n",
        "\n",
        "  return epochs, rmse   \n",
        "\n",
        "\n",
        "def plot_the_loss_curve(epochs, rmse):\n",
        "  \"\"\"Plot a curve of loss vs. epoch.\"\"\"\n",
        "\n",
        "  plt.figure()\n",
        "  plt.xlabel(\"Epoch\")\n",
        "  plt.ylabel(\"Root Mean Squared Error\")\n",
        "\n",
        "  plt.plot(epochs, rmse, label=\"Loss\")\n",
        "  plt.legend()\n",
        "  plt.ylim([rmse.min()*0.94, rmse.max()* 1.05])\n",
        "  plt.show()  \n",
        "\n",
        "print(\"Defined the create_model, train_model, and plot_the_loss_curve functions.\")"
      ]
    },
    {
      "cell_type": "markdown",
      "metadata": {
        "id": "D-IXYVfvM4gD"
      },
      "source": [
        "## Train the model with floating-point representations\n",
        "\n",
        "The following code cell calls the functions you just created to train, plot, and evaluate a model."
      ]
    },
    {
      "cell_type": "code",
      "execution_count": 10,
      "metadata": {
        "cellView": "both",
        "id": "nj3v5EKQFY8s"
      },
      "outputs": [
        {
          "name": "stdout",
          "output_type": "stream",
          "text": [
            "Epoch 1/30\n",
            "WARNING:tensorflow:Layers in a Sequential model should only have a single input tensor. Received: inputs={'longitude': <tf.Tensor 'IteratorGetNext:3' shape=(100,) dtype=float32>, 'latitude': <tf.Tensor 'IteratorGetNext:2' shape=(100,) dtype=float32>, 'housing_median_age': <tf.Tensor 'IteratorGetNext:1' shape=(100,) dtype=float32>, 'total_rooms': <tf.Tensor 'IteratorGetNext:7' shape=(100,) dtype=float32>, 'total_bedrooms': <tf.Tensor 'IteratorGetNext:6' shape=(100,) dtype=float32>, 'population': <tf.Tensor 'IteratorGetNext:5' shape=(100,) dtype=float32>, 'households': <tf.Tensor 'IteratorGetNext:0' shape=(100,) dtype=float32>, 'median_income': <tf.Tensor 'IteratorGetNext:4' shape=(100,) dtype=float32>}. Consider rewriting this model with the Functional API.\n"
          ]
        },
        {
          "name": "stderr",
          "output_type": "stream",
          "text": [
            "2022-09-17 22:00:29.809597: I tensorflow/core/platform/cpu_feature_guard.cc:193] This TensorFlow binary is optimized with oneAPI Deep Neural Network Library (oneDNN) to use the following CPU instructions in performance-critical operations:  SSE4.1 SSE4.2 AVX AVX2\n",
            "To enable them in other operations, rebuild TensorFlow with the appropriate compiler flags.\n",
            "2022-09-17 22:00:29.814480: I tensorflow/core/common_runtime/process_util.cc:146] Creating new thread pool with default inter op setting: 2. Tune using inter_op_parallelism_threads for best performance.\n",
            "/home/kaicsiro/.conda/envs/GoogleML/lib/python3.7/site-packages/keras/optimizers/optimizer_v2/rmsprop.py:135: UserWarning: The `lr` argument is deprecated, use `learning_rate` instead.\n",
            "  super(RMSprop, self).__init__(name, **kwargs)\n"
          ]
        },
        {
          "name": "stdout",
          "output_type": "stream",
          "text": [
            "WARNING:tensorflow:Layers in a Sequential model should only have a single input tensor. Received: inputs={'longitude': <tf.Tensor 'IteratorGetNext:3' shape=(100,) dtype=float32>, 'latitude': <tf.Tensor 'IteratorGetNext:2' shape=(100,) dtype=float32>, 'housing_median_age': <tf.Tensor 'IteratorGetNext:1' shape=(100,) dtype=float32>, 'total_rooms': <tf.Tensor 'IteratorGetNext:7' shape=(100,) dtype=float32>, 'total_bedrooms': <tf.Tensor 'IteratorGetNext:6' shape=(100,) dtype=float32>, 'population': <tf.Tensor 'IteratorGetNext:5' shape=(100,) dtype=float32>, 'households': <tf.Tensor 'IteratorGetNext:0' shape=(100,) dtype=float32>, 'median_income': <tf.Tensor 'IteratorGetNext:4' shape=(100,) dtype=float32>}. Consider rewriting this model with the Functional API.\n",
            "170/170 [==============================] - 0s 956us/step - loss: 17474.2832 - root_mean_squared_error: 132.1903\n",
            "Epoch 2/30\n",
            "170/170 [==============================] - 0s 1ms/step - loss: 13635.3066 - root_mean_squared_error: 116.7703\n",
            "Epoch 3/30\n",
            "170/170 [==============================] - 0s 1ms/step - loss: 13557.9346 - root_mean_squared_error: 116.4385\n",
            "Epoch 4/30\n",
            "170/170 [==============================] - 0s 946us/step - loss: 13515.0508 - root_mean_squared_error: 116.2542\n",
            "Epoch 5/30\n",
            "170/170 [==============================] - 0s 1ms/step - loss: 13475.6738 - root_mean_squared_error: 116.0848\n",
            "Epoch 6/30\n",
            "170/170 [==============================] - 0s 1ms/step - loss: 13417.4648 - root_mean_squared_error: 115.8338\n",
            "Epoch 7/30\n",
            "170/170 [==============================] - 0s 1ms/step - loss: 13372.1445 - root_mean_squared_error: 115.6380\n",
            "Epoch 8/30\n",
            "170/170 [==============================] - 0s 992us/step - loss: 13337.5596 - root_mean_squared_error: 115.4883\n",
            "Epoch 9/30\n",
            "170/170 [==============================] - 0s 975us/step - loss: 13298.0586 - root_mean_squared_error: 115.3172\n",
            "Epoch 10/30\n",
            "170/170 [==============================] - 0s 937us/step - loss: 13247.1328 - root_mean_squared_error: 115.0962\n",
            "Epoch 11/30\n",
            "170/170 [==============================] - 0s 1ms/step - loss: 13229.7422 - root_mean_squared_error: 115.0206\n",
            "Epoch 12/30\n",
            "170/170 [==============================] - 0s 956us/step - loss: 13199.3652 - root_mean_squared_error: 114.8885\n",
            "Epoch 13/30\n",
            "170/170 [==============================] - 0s 1ms/step - loss: 13165.8594 - root_mean_squared_error: 114.7426\n",
            "Epoch 14/30\n",
            "170/170 [==============================] - 0s 1ms/step - loss: 13119.4590 - root_mean_squared_error: 114.5402\n",
            "Epoch 15/30\n",
            "170/170 [==============================] - 0s 1ms/step - loss: 13100.1182 - root_mean_squared_error: 114.4557\n",
            "Epoch 16/30\n",
            "170/170 [==============================] - 0s 964us/step - loss: 13075.0244 - root_mean_squared_error: 114.3461\n",
            "Epoch 17/30\n",
            "170/170 [==============================] - 0s 1ms/step - loss: 13048.0752 - root_mean_squared_error: 114.2282\n",
            "Epoch 18/30\n",
            "170/170 [==============================] - 0s 1ms/step - loss: 13035.9238 - root_mean_squared_error: 114.1750\n",
            "Epoch 19/30\n",
            "170/170 [==============================] - 0s 982us/step - loss: 13003.8389 - root_mean_squared_error: 114.0344\n",
            "Epoch 20/30\n",
            "170/170 [==============================] - 0s 906us/step - loss: 13006.8770 - root_mean_squared_error: 114.0477\n",
            "Epoch 21/30\n",
            "170/170 [==============================] - 0s 960us/step - loss: 12981.0586 - root_mean_squared_error: 113.9344\n",
            "Epoch 22/30\n",
            "170/170 [==============================] - 0s 1ms/step - loss: 12969.9453 - root_mean_squared_error: 113.8857\n",
            "Epoch 23/30\n",
            "170/170 [==============================] - 0s 1ms/step - loss: 12932.0371 - root_mean_squared_error: 113.7191\n",
            "Epoch 24/30\n",
            "170/170 [==============================] - 0s 950us/step - loss: 12938.4160 - root_mean_squared_error: 113.7472\n",
            "Epoch 25/30\n",
            "170/170 [==============================] - 0s 1ms/step - loss: 12905.6943 - root_mean_squared_error: 113.6032\n",
            "Epoch 26/30\n",
            "170/170 [==============================] - 0s 1ms/step - loss: 12900.3076 - root_mean_squared_error: 113.5795\n",
            "Epoch 27/30\n",
            "170/170 [==============================] - 0s 999us/step - loss: 12882.1533 - root_mean_squared_error: 113.4996\n",
            "Epoch 28/30\n",
            "170/170 [==============================] - 0s 1ms/step - loss: 12882.1396 - root_mean_squared_error: 113.4995\n",
            "Epoch 29/30\n",
            "170/170 [==============================] - 0s 972us/step - loss: 12871.0186 - root_mean_squared_error: 113.4505\n",
            "Epoch 30/30\n",
            "170/170 [==============================] - 0s 1ms/step - loss: 12863.5693 - root_mean_squared_error: 113.4177\n"
          ]
        },
        {
          "data": {
            "image/png": "[encoded data removed]",
            "text/plain": [
              "<Figure size 640x480 with 1 Axes>"
            ]
          },
          "metadata": {},
          "output_type": "display_data"
        },
        {
          "name": "stdout",
          "output_type": "stream",
          "text": [
            "\n",
            ": Evaluate the new model against the test set:\n",
            "WARNING:tensorflow:Layers in a Sequential model should only have a single input tensor. Received: inputs={'longitude': <tf.Tensor 'IteratorGetNext:3' shape=(100,) dtype=float32>, 'latitude': <tf.Tensor 'IteratorGetNext:2' shape=(100,) dtype=float32>, 'housing_median_age': <tf.Tensor 'IteratorGetNext:1' shape=(100,) dtype=float32>, 'total_rooms': <tf.Tensor 'IteratorGetNext:7' shape=(100,) dtype=float32>, 'total_bedrooms': <tf.Tensor 'IteratorGetNext:6' shape=(100,) dtype=float32>, 'population': <tf.Tensor 'IteratorGetNext:5' shape=(100,) dtype=float32>, 'households': <tf.Tensor 'IteratorGetNext:0' shape=(100,) dtype=float32>, 'median_income': <tf.Tensor 'IteratorGetNext:4' shape=(100,) dtype=float32>}. Consider rewriting this model with the Functional API.\n",
            "30/30 [==============================] - 0s 1ms/step - loss: 12212.8730 - root_mean_squared_error: 110.5119\n"
          ]
        },
        {
          "data": {
            "text/plain": [
              "[12212.873046875, 110.51187133789062]"
            ]
          },
          "execution_count": 10,
          "metadata": {},
          "output_type": "execute_result"
        }
      ],
      "source": [
        "# The following variables are the hyperparameters.\n",
        "learning_rate = 0.05\n",
        "epochs = 30\n",
        "batch_size = 100\n",
        "label_name = 'median_house_value'\n",
        "\n",
        "# Create and compile the model's topography.\n",
        "my_model = create_model(learning_rate, fp_feature_layer)\n",
        "\n",
        "# Train the model on the training set.\n",
        "epochs, rmse = train_model(my_model, train_df, epochs, batch_size, label_name)\n",
        "\n",
        "plot_the_loss_curve(epochs, rmse)\n",
        "\n",
        "print(\"\\n: Evaluate the new model against the test set:\")\n",
        "test_features = {name:np.array(value) for name, value in test_df.items()}\n",
        "test_label = np.array(test_features.pop(label_name))\n",
        "my_model.evaluate(x=test_features, y=test_label, batch_size=batch_size)"
      ]
    },
    {
      "cell_type": "markdown",
      "metadata": {
        "id": "dbyWNS6T2fIT"
      },
      "source": [
        "## Task 1: Why aren't floating-point values a good way to represent latitude and longitude?\n",
        "\n",
        "Are floating-point values a good way to represent `latitude` and `longitude`? "
      ]
    },
    {
      "cell_type": "code",
      "execution_count": null,
      "metadata": {
        "cellView": "form",
        "id": "VJLDCu5M2hXX"
      },
      "outputs": [],
      "source": [
        "#@title Double-click to view an answer to Task 1.\n",
        "\n",
        "# No. Representing latitude and longitude as \n",
        "# floating-point values does not have much \n",
        "# predictive power. For example, neighborhoods at \n",
        "# latitude 35 are not 36/35 more valuable \n",
        "# (or 35/36 less valuable) than houses at \n",
        "# latitude 36.\n",
        "\n",
        "# Representing `latitude` and `longitude` as \n",
        "# floating-point values provides almost no \n",
        "# predictive power. We're only using the raw values \n",
        "# to establish a baseline for future experiments \n",
        "# with better representations."
      ]
    },
    {
      "cell_type": "markdown",
      "metadata": {
        "id": "Na8TPoPYx-0k"
      },
      "source": [
        "## Represent latitude and longitude in buckets\n",
        "\n",
        "The following code cell represents latitude and longitude in buckets (bins). Each bin represents all the neighborhoods within a single degree. For example,\n",
        "neighborhoods at latitude 35.4 and 35.8 are in the same bucket, but neighborhoods in latitude 35.4 and 36.2 are in different buckets. \n",
        "\n",
        "The model will learn a separate weight for each bucket. For example, the model will learn one weight for all the neighborhoods in the \"35\" bin, a different weight for neighborhoods in the \"36\" bin, and so on. This representation will create approximately 20 buckets:\n",
        " \n",
        "  * 10 buckets for `latitude`. \n",
        "  * 10 buckets for `longitude`. "
      ]
    },
    {
      "cell_type": "code",
      "execution_count": 11,
      "metadata": {
        "id": "WLTUFiaUyIpx"
      },
      "outputs": [],
      "source": [
        "resolution_in_degrees = 1.0 # bin size\n",
        "\n",
        "# Create a new empty list that will eventually hold the generated feature column.\n",
        "feature_columns = []\n",
        "\n",
        "# Create a bucket feature column for latitude.\n",
        "latitude_as_a_numeric_column = tf.feature_column.numeric_column(\"latitude\")\n",
        "# np.arrange returns evenly spaced values within a given interval.\n",
        "latitude_boundaries = list(np.arange(int(min(train_df['latitude'])), \n",
        "                                     int(max(train_df['latitude'])), \n",
        "                                     resolution_in_degrees))\n",
        "latitude = tf.feature_column.bucketized_column(latitude_as_a_numeric_column, \n",
        "                                               latitude_boundaries)\n",
        "feature_columns.append(latitude)\n",
        "\n",
        "# Create a bucket feature column for longitude.\n",
        "longitude_as_a_numeric_column = tf.feature_column.numeric_column(\"longitude\")\n",
        "longitude_boundaries = list(np.arange(int(min(train_df['longitude'])), \n",
        "                                      int(max(train_df['longitude'])), \n",
        "                                      resolution_in_degrees))\n",
        "longitude = tf.feature_column.bucketized_column(longitude_as_a_numeric_column, \n",
        "                                                longitude_boundaries)\n",
        "feature_columns.append(longitude)\n",
        "\n",
        "# Convert the list of feature columns into a layer that will ultimately become\n",
        "# part of the model. Understanding layers is not important right now.\n",
        "buckets_feature_layer = tf.keras.layers.DenseFeatures(feature_columns)"
      ]
    },
    {
      "cell_type": "markdown",
      "metadata": {
        "id": "aZsFzoPQ4pFm"
      },
      "source": [
        "## Train the model with bucket representations\n",
        "\n",
        "Run the following code cell to train the model with bucket representations rather than floating-point representations:"
      ]
    },
    {
      "cell_type": "code",
      "execution_count": 12,
      "metadata": {
        "id": "UnDrghxBzLvD"
      },
      "outputs": [
        {
          "name": "stdout",
          "output_type": "stream",
          "text": [
            "Epoch 1/35\n",
            "WARNING:tensorflow:Layers in a Sequential model should only have a single input tensor. Received: inputs={'longitude': <tf.Tensor 'IteratorGetNext:3' shape=(100,) dtype=float32>, 'latitude': <tf.Tensor 'IteratorGetNext:2' shape=(100,) dtype=float32>, 'housing_median_age': <tf.Tensor 'IteratorGetNext:1' shape=(100,) dtype=float32>, 'total_rooms': <tf.Tensor 'IteratorGetNext:7' shape=(100,) dtype=float32>, 'total_bedrooms': <tf.Tensor 'IteratorGetNext:6' shape=(100,) dtype=float32>, 'population': <tf.Tensor 'IteratorGetNext:5' shape=(100,) dtype=float32>, 'households': <tf.Tensor 'IteratorGetNext:0' shape=(100,) dtype=float32>, 'median_income': <tf.Tensor 'IteratorGetNext:4' shape=(100,) dtype=float32>}. Consider rewriting this model with the Functional API.\n",
            "WARNING:tensorflow:Layers in a Sequential model should only have a single input tensor. Received: inputs={'longitude': <tf.Tensor 'IteratorGetNext:3' shape=(100,) dtype=float32>, 'latitude': <tf.Tensor 'IteratorGetNext:2' shape=(100,) dtype=float32>, 'housing_median_age': <tf.Tensor 'IteratorGetNext:1' shape=(100,) dtype=float32>, 'total_rooms': <tf.Tensor 'IteratorGetNext:7' shape=(100,) dtype=float32>, 'total_bedrooms': <tf.Tensor 'IteratorGetNext:6' shape=(100,) dtype=float32>, 'population': <tf.Tensor 'IteratorGetNext:5' shape=(100,) dtype=float32>, 'households': <tf.Tensor 'IteratorGetNext:0' shape=(100,) dtype=float32>, 'median_income': <tf.Tensor 'IteratorGetNext:4' shape=(100,) dtype=float32>}. Consider rewriting this model with the Functional API.\n"
          ]
        },
        {
          "name": "stderr",
          "output_type": "stream",
          "text": [
            "/home/kaicsiro/.conda/envs/GoogleML/lib/python3.7/site-packages/keras/optimizers/optimizer_v2/rmsprop.py:135: UserWarning: The `lr` argument is deprecated, use `learning_rate` instead.\n",
            "  super(RMSprop, self).__init__(name, **kwargs)\n"
          ]
        },
        {
          "name": "stdout",
          "output_type": "stream",
          "text": [
            "170/170 [==============================] - 0s 1ms/step - loss: 52082.2969 - root_mean_squared_error: 228.2155\n",
            "Epoch 2/35\n",
            "170/170 [==============================] - 0s 1ms/step - loss: 44704.7109 - root_mean_squared_error: 211.4349\n",
            "Epoch 3/35\n",
            "170/170 [==============================] - 0s 1ms/step - loss: 38126.9414 - root_mean_squared_error: 195.2612\n",
            "Epoch 4/35\n",
            "170/170 [==============================] - 0s 1ms/step - loss: 32305.6836 - root_mean_squared_error: 179.7378\n",
            "Epoch 5/35\n",
            "170/170 [==============================] - 0s 1ms/step - loss: 27272.9043 - root_mean_squared_error: 165.1451\n",
            "Epoch 6/35\n",
            "170/170 [==============================] - 0s 1ms/step - loss: 23011.1309 - root_mean_squared_error: 151.6942\n",
            "Epoch 7/35\n",
            "170/170 [==============================] - 0s 1ms/step - loss: 19500.7168 - root_mean_squared_error: 139.6450\n",
            "Epoch 8/35\n",
            "170/170 [==============================] - 0s 989us/step - loss: 16670.0059 - root_mean_squared_error: 129.1124\n",
            "Epoch 9/35\n",
            "170/170 [==============================] - 0s 1ms/step - loss: 14541.3193 - root_mean_squared_error: 120.5874\n",
            "Epoch 10/35\n",
            "170/170 [==============================] - 0s 1ms/step - loss: 12979.5420 - root_mean_squared_error: 113.9278\n",
            "Epoch 11/35\n",
            "170/170 [==============================] - 0s 1ms/step - loss: 11937.7275 - root_mean_squared_error: 109.2599\n",
            "Epoch 12/35\n",
            "170/170 [==============================] - 0s 976us/step - loss: 11316.7324 - root_mean_squared_error: 106.3801\n",
            "Epoch 13/35\n",
            "170/170 [==============================] - 0s 1ms/step - loss: 10978.0186 - root_mean_squared_error: 104.7760\n",
            "Epoch 14/35\n",
            "170/170 [==============================] - 0s 1ms/step - loss: 10789.6758 - root_mean_squared_error: 103.8734\n",
            "Epoch 15/35\n",
            "170/170 [==============================] - 0s 1ms/step - loss: 10673.6885 - root_mean_squared_error: 103.3135\n",
            "Epoch 16/35\n",
            "170/170 [==============================] - 0s 1ms/step - loss: 10600.0020 - root_mean_squared_error: 102.9563\n",
            "Epoch 17/35\n",
            "170/170 [==============================] - 0s 1ms/step - loss: 10551.4072 - root_mean_squared_error: 102.7200\n",
            "Epoch 18/35\n",
            "170/170 [==============================] - 0s 1ms/step - loss: 10519.7002 - root_mean_squared_error: 102.5656\n",
            "Epoch 19/35\n",
            "170/170 [==============================] - 0s 1ms/step - loss: 10495.9980 - root_mean_squared_error: 102.4500\n",
            "Epoch 20/35\n",
            "170/170 [==============================] - 0s 1ms/step - loss: 10477.7373 - root_mean_squared_error: 102.3608\n",
            "Epoch 21/35\n",
            "170/170 [==============================] - 0s 1ms/step - loss: 10462.3008 - root_mean_squared_error: 102.2854\n",
            "Epoch 22/35\n",
            "170/170 [==============================] - 0s 1ms/step - loss: 10449.9521 - root_mean_squared_error: 102.2250\n",
            "Epoch 23/35\n",
            "170/170 [==============================] - 0s 1ms/step - loss: 10438.1182 - root_mean_squared_error: 102.1671\n",
            "Epoch 24/35\n",
            "170/170 [==============================] - 0s 1ms/step - loss: 10428.4023 - root_mean_squared_error: 102.1196\n",
            "Epoch 25/35\n",
            "170/170 [==============================] - 0s 1ms/step - loss: 10418.4824 - root_mean_squared_error: 102.0710\n",
            "Epoch 26/35\n",
            "170/170 [==============================] - 0s 1ms/step - loss: 10409.3662 - root_mean_squared_error: 102.0263\n",
            "Epoch 27/35\n",
            "170/170 [==============================] - 0s 1ms/step - loss: 10400.8154 - root_mean_squared_error: 101.9844\n",
            "Epoch 28/35\n",
            "170/170 [==============================] - 0s 1ms/step - loss: 10392.1982 - root_mean_squared_error: 101.9421\n",
            "Epoch 29/35\n",
            "170/170 [==============================] - 0s 1ms/step - loss: 10384.2939 - root_mean_squared_error: 101.9034\n",
            "Epoch 30/35\n",
            "170/170 [==============================] - 0s 1ms/step - loss: 10376.1729 - root_mean_squared_error: 101.8635\n",
            "Epoch 31/35\n",
            "170/170 [==============================] - 0s 959us/step - loss: 10369.0537 - root_mean_squared_error: 101.8286\n",
            "Epoch 32/35\n",
            "170/170 [==============================] - 0s 1ms/step - loss: 10361.6641 - root_mean_squared_error: 101.7923\n",
            "Epoch 33/35\n",
            "170/170 [==============================] - 0s 986us/step - loss: 10354.7178 - root_mean_squared_error: 101.7581\n",
            "Epoch 34/35\n",
            "170/170 [==============================] - 0s 977us/step - loss: 10347.8828 - root_mean_squared_error: 101.7245\n",
            "Epoch 35/35\n",
            "170/170 [==============================] - 0s 944us/step - loss: 10341.3867 - root_mean_squared_error: 101.6926\n"
          ]
        },
        {
          "data": {
            "image/png": "[encoded data removed]",
            "text/plain": [
              "<Figure size 640x480 with 1 Axes>"
            ]
          },
          "metadata": {},
          "output_type": "display_data"
        },
        {
          "name": "stdout",
          "output_type": "stream",
          "text": [
            "\n",
            ": Evaluate the new model against the test set:\n",
            "WARNING:tensorflow:Layers in a Sequential model should only have a single input tensor. Received: inputs={'longitude': <tf.Tensor 'IteratorGetNext:3' shape=(100,) dtype=float32>, 'latitude': <tf.Tensor 'IteratorGetNext:2' shape=(100,) dtype=float32>, 'housing_median_age': <tf.Tensor 'IteratorGetNext:1' shape=(100,) dtype=float32>, 'total_rooms': <tf.Tensor 'IteratorGetNext:7' shape=(100,) dtype=float32>, 'total_bedrooms': <tf.Tensor 'IteratorGetNext:6' shape=(100,) dtype=float32>, 'population': <tf.Tensor 'IteratorGetNext:5' shape=(100,) dtype=float32>, 'households': <tf.Tensor 'IteratorGetNext:0' shape=(100,) dtype=float32>, 'median_income': <tf.Tensor 'IteratorGetNext:4' shape=(100,) dtype=float32>}. Consider rewriting this model with the Functional API.\n",
            "30/30 [==============================] - 0s 979us/step - loss: 10199.1865 - root_mean_squared_error: 100.9910\n"
          ]
        },
        {
          "data": {
            "text/plain": [
              "[10199.1865234375, 100.99102020263672]"
            ]
          },
          "execution_count": 12,
          "metadata": {},
          "output_type": "execute_result"
        }
      ],
      "source": [
        "# The following variables are the hyperparameters.\n",
        "learning_rate = 0.04\n",
        "epochs = 35\n",
        "\n",
        "# Build the model, this time passing in the buckets_feature_layer.\n",
        "my_model = create_model(learning_rate, buckets_feature_layer)\n",
        "\n",
        "# Train the model on the training set.\n",
        "epochs, rmse = train_model(my_model, train_df, epochs, batch_size, label_name)\n",
        "\n",
        "plot_the_loss_curve(epochs, rmse)\n",
        "\n",
        "print(\"\\n: Evaluate the new model against the test set:\")\n",
        "my_model.evaluate(x=test_features, y=test_label, batch_size=batch_size)"
      ]
    },
    {
      "cell_type": "markdown",
      "metadata": {
        "id": "Wb-bIKsN5M48"
      },
      "source": [
        "## Task 2: Did buckets outperform floating-point representations?\n",
        "\n",
        "Compare the model's `root_mean_squared_error` values for the two representations (floating-point vs. buckets)?  Which model produced lower losses? "
      ]
    },
    {
      "cell_type": "code",
      "execution_count": null,
      "metadata": {
        "cellView": "form",
        "id": "6sUlX1335UCb"
      },
      "outputs": [],
      "source": [
        "#@title Double-click for an answer to Task 2.\n",
        "\n",
        "# Bucket representation outperformed by 10% or more.\n",
        "# floating-point representations.  \n",
        "# However, you can still do far better."
      ]
    },
    {
      "cell_type": "markdown",
      "metadata": {
        "id": "ab6-bhUvxbTL"
      },
      "source": [
        "## Task 3: What is a better way to represent location?\n",
        "\n",
        "Buckets are a big improvement over floating-point values. Can you identify an even better way to identify location with `latitude` and `longitude`?"
      ]
    },
    {
      "cell_type": "code",
      "execution_count": null,
      "metadata": {
        "cellView": "form",
        "id": "5no5X0OFCwf7"
      },
      "outputs": [],
      "source": [
        "#@title Double-click to view an answer to Task 3.\n",
        "\n",
        "# Representing location as a feature cross should \n",
        "# produce better results.\n",
        "\n",
        "# In Task 2, you represented latitude in \n",
        "# one-dimensional buckets and longitude in \n",
        "# another series of one-dimensional buckets. \n",
        "# Real-world locations, however, exist in \n",
        "# two dimension. Therefore, you should\n",
        "# represent location as a two-dimensional feature\n",
        "# cross. That is, you'll cross the 10 or so latitude \n",
        "# buckets with the 10 or so longitude buckets to \n",
        "# create a grid of 100 cells. \n",
        "\n",
        "# The model will learn separate weights for each \n",
        "# of the cells."
      ]
    },
    {
      "cell_type": "markdown",
      "metadata": {
        "id": "T1ulCDiyGB6g"
      },
      "source": [
        "## Represent location as a feature cross\n",
        "\n",
        "The following code cell represents location as a feature cross. That is, the following code cell first creates buckets and then calls `tf.feature_column.crossed_column` to cross the buckets.\n",
        "\n"
      ]
    },
    {
      "cell_type": "code",
      "execution_count": 16,
      "metadata": {
        "cellView": "both",
        "id": "HunsuEzqn21s"
      },
      "outputs": [],
      "source": [
        "resolution_in_degrees = 0.5\n",
        "\n",
        "# Create a new empty list that will eventually hold the generated feature column.\n",
        "feature_columns = []\n",
        "\n",
        "# Create a bucket feature column for latitude.\n",
        "latitude_as_a_numeric_column = tf.feature_column.numeric_column(\"latitude\")\n",
        "latitude_boundaries = list(np.arange(int(min(train_df['latitude'])), int(max(train_df['latitude'])), resolution_in_degrees))\n",
        "latitude = tf.feature_column.bucketized_column(latitude_as_a_numeric_column, latitude_boundaries)\n",
        "\n",
        "# Create a bucket feature column for longitude.\n",
        "longitude_as_a_numeric_column = tf.feature_column.numeric_column(\"longitude\")\n",
        "longitude_boundaries = list(np.arange(int(min(train_df['longitude'])), int(max(train_df['longitude'])), resolution_in_degrees))\n",
        "longitude = tf.feature_column.bucketized_column(longitude_as_a_numeric_column, longitude_boundaries)\n",
        "\n",
        "# Create a feature cross of latitude and longitude.\n",
        "# hash bucket size is calculated as the product of the number of buckets in each feature column (10 * 10 = 100)\n",
        "latitude_x_longitude = tf.feature_column.crossed_column([latitude, longitude], hash_bucket_size=100)\n",
        "crossed_feature = tf.feature_column.indicator_column(latitude_x_longitude)\n",
        "feature_columns.append(crossed_feature)\n",
        "\n",
        "# Convert the list of feature columns into a layer that will later be fed into\n",
        "# the model. \n",
        "feature_cross_feature_layer = tf.keras.layers.DenseFeatures(feature_columns)"
      ]
    },
    {
      "cell_type": "markdown",
      "metadata": {
        "id": "akRgNnnH3VXJ"
      },
      "source": [
        "Invoke the following code cell to test your solution for Task 3. Please ignore the warning messages."
      ]
    },
    {
      "cell_type": "code",
      "execution_count": 17,
      "metadata": {
        "id": "qn2PRDBEr5ni"
      },
      "outputs": [
        {
          "name": "stdout",
          "output_type": "stream",
          "text": [
            "Epoch 1/35\n",
            "WARNING:tensorflow:Layers in a Sequential model should only have a single input tensor. Received: inputs={'longitude': <tf.Tensor 'IteratorGetNext:3' shape=(100,) dtype=float32>, 'latitude': <tf.Tensor 'IteratorGetNext:2' shape=(100,) dtype=float32>, 'housing_median_age': <tf.Tensor 'IteratorGetNext:1' shape=(100,) dtype=float32>, 'total_rooms': <tf.Tensor 'IteratorGetNext:7' shape=(100,) dtype=float32>, 'total_bedrooms': <tf.Tensor 'IteratorGetNext:6' shape=(100,) dtype=float32>, 'population': <tf.Tensor 'IteratorGetNext:5' shape=(100,) dtype=float32>, 'households': <tf.Tensor 'IteratorGetNext:0' shape=(100,) dtype=float32>, 'median_income': <tf.Tensor 'IteratorGetNext:4' shape=(100,) dtype=float32>}. Consider rewriting this model with the Functional API.\n",
            "WARNING:tensorflow:Layers in a Sequential model should only have a single input tensor. Received: inputs={'longitude': <tf.Tensor 'IteratorGetNext:3' shape=(100,) dtype=float32>, 'latitude': <tf.Tensor 'IteratorGetNext:2' shape=(100,) dtype=float32>, 'housing_median_age': <tf.Tensor 'IteratorGetNext:1' shape=(100,) dtype=float32>, 'total_rooms': <tf.Tensor 'IteratorGetNext:7' shape=(100,) dtype=float32>, 'total_bedrooms': <tf.Tensor 'IteratorGetNext:6' shape=(100,) dtype=float32>, 'population': <tf.Tensor 'IteratorGetNext:5' shape=(100,) dtype=float32>, 'households': <tf.Tensor 'IteratorGetNext:0' shape=(100,) dtype=float32>, 'median_income': <tf.Tensor 'IteratorGetNext:4' shape=(100,) dtype=float32>}. Consider rewriting this model with the Functional API.\n"
          ]
        },
        {
          "name": "stderr",
          "output_type": "stream",
          "text": [
            "/home/kaicsiro/.conda/envs/GoogleML/lib/python3.7/site-packages/keras/optimizers/optimizer_v2/rmsprop.py:135: UserWarning: The `lr` argument is deprecated, use `learning_rate` instead.\n",
            "  super(RMSprop, self).__init__(name, **kwargs)\n"
          ]
        },
        {
          "name": "stdout",
          "output_type": "stream",
          "text": [
            "170/170 [==============================] - 1s 1ms/step - loss: 53617.7734 - root_mean_squared_error: 231.5551\n",
            "Epoch 2/35\n",
            "170/170 [==============================] - 0s 1ms/step - loss: 48741.4844 - root_mean_squared_error: 220.7747\n",
            "Epoch 3/35\n",
            "170/170 [==============================] - 0s 1ms/step - loss: 44169.8398 - root_mean_squared_error: 210.1662\n",
            "Epoch 4/35\n",
            "170/170 [==============================] - 0s 1ms/step - loss: 39914.6562 - root_mean_squared_error: 199.7865\n",
            "Epoch 5/35\n",
            "170/170 [==============================] - 0s 1ms/step - loss: 35985.2852 - root_mean_squared_error: 189.6979\n",
            "Epoch 6/35\n",
            "170/170 [==============================] - 0s 1ms/step - loss: 32357.2031 - root_mean_squared_error: 179.8811\n",
            "Epoch 7/35\n",
            "170/170 [==============================] - 0s 1ms/step - loss: 29026.9160 - root_mean_squared_error: 170.3729\n",
            "Epoch 8/35\n",
            "170/170 [==============================] - 0s 1ms/step - loss: 26017.5176 - root_mean_squared_error: 161.2995\n",
            "Epoch 9/35\n",
            "170/170 [==============================] - 0s 1ms/step - loss: 23313.9121 - root_mean_squared_error: 152.6889\n",
            "Epoch 10/35\n",
            "170/170 [==============================] - 0s 1ms/step - loss: 20893.1445 - root_mean_squared_error: 144.5446\n",
            "Epoch 11/35\n",
            "170/170 [==============================] - 0s 1ms/step - loss: 18753.2480 - root_mean_squared_error: 136.9425\n",
            "Epoch 12/35\n",
            "170/170 [==============================] - 0s 1ms/step - loss: 16876.0371 - root_mean_squared_error: 129.9078\n",
            "Epoch 13/35\n",
            "170/170 [==============================] - 0s 1ms/step - loss: 15265.8154 - root_mean_squared_error: 123.5549\n",
            "Epoch 14/35\n",
            "170/170 [==============================] - 0s 1ms/step - loss: 13887.5303 - root_mean_squared_error: 117.8454\n",
            "Epoch 15/35\n",
            "170/170 [==============================] - 0s 1ms/step - loss: 12759.3496 - root_mean_squared_error: 112.9573\n",
            "Epoch 16/35\n",
            "170/170 [==============================] - 0s 1ms/step - loss: 11848.1279 - root_mean_squared_error: 108.8491\n",
            "Epoch 17/35\n",
            "170/170 [==============================] - 0s 1ms/step - loss: 11140.7617 - root_mean_squared_error: 105.5498\n",
            "Epoch 18/35\n",
            "170/170 [==============================] - 0s 1ms/step - loss: 10612.5361 - root_mean_squared_error: 103.0172\n",
            "Epoch 19/35\n",
            "170/170 [==============================] - 0s 1ms/step - loss: 10253.8301 - root_mean_squared_error: 101.2612\n",
            "Epoch 20/35\n",
            "170/170 [==============================] - 0s 1ms/step - loss: 10007.6787 - root_mean_squared_error: 100.0384\n",
            "Epoch 21/35\n",
            "170/170 [==============================] - 0s 1ms/step - loss: 9829.0947 - root_mean_squared_error: 99.1418\n",
            "Epoch 22/35\n",
            "170/170 [==============================] - 0s 1ms/step - loss: 9693.1895 - root_mean_squared_error: 98.4540\n",
            "Epoch 23/35\n",
            "170/170 [==============================] - 0s 1ms/step - loss: 9579.0908 - root_mean_squared_error: 97.8728\n",
            "Epoch 24/35\n",
            "170/170 [==============================] - 0s 1ms/step - loss: 9479.9531 - root_mean_squared_error: 97.3651\n",
            "Epoch 25/35\n",
            "170/170 [==============================] - 0s 1ms/step - loss: 9394.9453 - root_mean_squared_error: 96.9275\n",
            "Epoch 26/35\n",
            "170/170 [==============================] - 0s 1ms/step - loss: 9321.5771 - root_mean_squared_error: 96.5483\n",
            "Epoch 27/35\n",
            "170/170 [==============================] - 0s 1ms/step - loss: 9257.3320 - root_mean_squared_error: 96.2150\n",
            "Epoch 28/35\n",
            "170/170 [==============================] - 0s 1ms/step - loss: 9200.2119 - root_mean_squared_error: 95.9177\n",
            "Epoch 29/35\n",
            "170/170 [==============================] - 0s 1ms/step - loss: 9149.7715 - root_mean_squared_error: 95.6544\n",
            "Epoch 30/35\n",
            "170/170 [==============================] - 0s 1ms/step - loss: 9105.0977 - root_mean_squared_error: 95.4206\n",
            "Epoch 31/35\n",
            "170/170 [==============================] - 0s 1ms/step - loss: 9065.0010 - root_mean_squared_error: 95.2103\n",
            "Epoch 32/35\n",
            "170/170 [==============================] - 0s 1ms/step - loss: 9029.8545 - root_mean_squared_error: 95.0255\n",
            "Epoch 33/35\n",
            "170/170 [==============================] - 0s 1ms/step - loss: 8996.5596 - root_mean_squared_error: 94.8502\n",
            "Epoch 34/35\n",
            "170/170 [==============================] - 0s 1ms/step - loss: 8967.4004 - root_mean_squared_error: 94.6964\n",
            "Epoch 35/35\n",
            "170/170 [==============================] - 0s 1ms/step - loss: 8941.4414 - root_mean_squared_error: 94.5592\n"
          ]
        },
        {
          "data": {
            "image/png": "[encoded data removed]",
            "text/plain": [
              "<Figure size 640x480 with 1 Axes>"
            ]
          },
          "metadata": {},
          "output_type": "display_data"
        },
        {
          "name": "stdout",
          "output_type": "stream",
          "text": [
            "\n",
            ": Evaluate the new model against the test set:\n",
            "WARNING:tensorflow:Layers in a Sequential model should only have a single input tensor. Received: inputs={'longitude': <tf.Tensor 'IteratorGetNext:3' shape=(100,) dtype=float32>, 'latitude': <tf.Tensor 'IteratorGetNext:2' shape=(100,) dtype=float32>, 'housing_median_age': <tf.Tensor 'IteratorGetNext:1' shape=(100,) dtype=float32>, 'total_rooms': <tf.Tensor 'IteratorGetNext:7' shape=(100,) dtype=float32>, 'total_bedrooms': <tf.Tensor 'IteratorGetNext:6' shape=(100,) dtype=float32>, 'population': <tf.Tensor 'IteratorGetNext:5' shape=(100,) dtype=float32>, 'households': <tf.Tensor 'IteratorGetNext:0' shape=(100,) dtype=float32>, 'median_income': <tf.Tensor 'IteratorGetNext:4' shape=(100,) dtype=float32>}. Consider rewriting this model with the Functional API.\n",
            "30/30 [==============================] - 0s 1ms/step - loss: 9011.0293 - root_mean_squared_error: 94.9264\n"
          ]
        },
        {
          "data": {
            "text/plain": [
              "[9011.029296875, 94.92644500732422]"
            ]
          },
          "execution_count": 17,
          "metadata": {},
          "output_type": "execute_result"
        }
      ],
      "source": [
        "# The following variables are the hyperparameters.\n",
        "learning_rate = 0.04\n",
        "epochs = 35\n",
        "\n",
        "# Build the model, this time passing in the feature_cross_feature_layer: \n",
        "my_model = create_model(learning_rate, feature_cross_feature_layer)\n",
        "\n",
        "# Train the model on the training set.\n",
        "epochs, rmse = train_model(my_model, train_df, epochs, batch_size, label_name)\n",
        "\n",
        "plot_the_loss_curve(epochs, rmse)\n",
        "\n",
        "print(\"\\n: Evaluate the new model against the test set:\")\n",
        "my_model.evaluate(x=test_features, y=test_label, batch_size=batch_size)"
      ]
    },
    {
      "cell_type": "markdown",
      "metadata": {
        "id": "bCT-l1GaWNQE"
      },
      "source": [
        "## Task 4: Did the feature cross outperform buckets?\n",
        "\n",
        "Compare the model's `root_mean_squared_error` values for the two representations (buckets vs. feature cross)?  Which model produced\n",
        "lower losses? "
      ]
    },
    {
      "cell_type": "code",
      "execution_count": null,
      "metadata": {
        "cellView": "form",
        "id": "HUzdWDcs5rCi"
      },
      "outputs": [],
      "source": [
        "#@title Double-click for an answer to this question.\n",
        "\n",
        "# Yes, representing these features as a feature \n",
        "# cross produced much lower loss values than \n",
        "# representing these features as buckets with a difference of roughly 10%."
      ]
    },
    {
      "cell_type": "markdown",
      "metadata": {
        "id": "J9Iw3ljfXqSQ"
      },
      "source": [
        "## Task 5: Adjust the resolution of the feature cross\n",
        "\n",
        "Return to the code cell in the \"Represent location as a feature cross\" section. Notice that `resolution_in_degrees` is set to 1.0. Therefore, each cell represents an area of 1.0 degree of latitude by 1.0 degree of longitude, which corresponds to a cell of 110 km by 90 km.  This resolution defines a rather large neighborhood. \n",
        "\n",
        "Experiment with `resolution_in_degrees` to answer the following questions:\n",
        "\n",
        "  1. What value of `resolution_in_degrees` produces the best results (lowest loss value)?\n",
        "  2. Why does loss increase when the value of `resolution_in_degrees` drops below a certain value?\n",
        "\n",
        "Finally, answer the following question:\n",
        "\n",
        "  3. What feature (that does not exist in the California Housing Dataset) would\n",
        "     be a better proxy for location than latitude X longitude."
      ]
    },
    {
      "cell_type": "code",
      "execution_count": null,
      "metadata": {
        "cellView": "form",
        "id": "71WWwlhx4h0X"
      },
      "outputs": [],
      "source": [
        "#@title Double-click for possible answers to Task 5.\n",
        "\n",
        "#1. A resolution of ~0.4 degree provides the best \n",
        "#   results.\n",
        "\n",
        "#2. Below ~0.4 degree, loss increases because the \n",
        "#   dataset does not contain enough examples in \n",
        "#   each cell to accurately predict prices for \n",
        "#   those cells.\n",
        "\n",
        "#3. Postal code would be a far better feature \n",
        "#   than latitude X longitude, assuming that \n",
        "#   the dataset contained sufficient examples \n",
        "#   in each postal code."
      ]
    }
  ],
  "metadata": {
    "colab": {
      "collapsed_sections": [],
      "name": "Representation with a Feature Cross.ipynb",
      "private_outputs": true,
      "provenance": []
    },
    "kernelspec": {
      "display_name": "Python 3.7.13 ('GoogleML')",
      "language": "python",
      "name": "python3"
    },
    "language_info": {
      "name": "python",
      "version": "3.7.13"
    },
    "vscode": {
      "interpreter": {
        "hash": "07d10209c84e866bcc132c741e6151e1826612262d259795ed8a48fb5410d00f"
      }
    }
  },
  "nbformat": 4,
  "nbformat_minor": 0
}
